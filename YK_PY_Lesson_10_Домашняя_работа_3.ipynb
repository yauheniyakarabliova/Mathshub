{
  "nbformat": 4,
  "nbformat_minor": 0,
  "metadata": {
    "colab": {
      "provenance": [],
      "include_colab_link": true
    },
    "kernelspec": {
      "name": "python3",
      "display_name": "Python 3"
    },
    "language_info": {
      "name": "python"
    }
  },
  "cells": [
    {
      "cell_type": "markdown",
      "metadata": {
        "id": "view-in-github",
        "colab_type": "text"
      },
      "source": [
        "<a href=\"https://colab.research.google.com/github/yauheniyakarabliova/Mathshub/blob/main/YK_PY_Lesson_10_%D0%94%D0%BE%D0%BC%D0%B0%D1%88%D0%BD%D1%8F%D1%8F_%D1%80%D0%B0%D0%B1%D0%BE%D1%82%D0%B0_3.ipynb\" target=\"_parent\"><img src=\"https://colab.research.google.com/assets/colab-badge.svg\" alt=\"Open In Colab\"/></a>"
      ]
    },
    {
      "cell_type": "markdown",
      "source": [
        "# Домашняя работа №3"
      ],
      "metadata": {
        "id": "OBIH_vhnUVOq"
      }
    },
    {
      "cell_type": "markdown",
      "source": [
        "### Задача 1\n",
        "\n",
        "Необходимо написать программу, которая выведет на экран все числа от A до B с шагом 2. Числа A и B необходимо ввести с клавиатуры."
      ],
      "metadata": {
        "id": "PlIN0NkVUarn"
      }
    },
    {
      "cell_type": "code",
      "source": [],
      "metadata": {
        "id": "dAEpeGLxV_cQ"
      },
      "execution_count": null,
      "outputs": []
    },
    {
      "cell_type": "markdown",
      "source": [
        "### Задача 2\n",
        "\n",
        "Напишите программу, которая будет добавлять продукты в список покупок. Продукты необходимо вводить с клавиатуры. Прервать ввод необходимо словом \"stop\". Полученный список выведите на экран с надписью в начале: \"Список покупок:\""
      ],
      "metadata": {
        "id": "_GMXskX8Uc__"
      }
    },
    {
      "cell_type": "code",
      "source": [],
      "metadata": {
        "id": "u5Wxw_hGWh59"
      },
      "execution_count": null,
      "outputs": []
    },
    {
      "cell_type": "markdown",
      "source": [
        "### Задача 3\n",
        "\n",
        "Дан список, в котором содержатся различные числа. Выведите на экран только те числа, которые делятся на 4."
      ],
      "metadata": {
        "id": "HuR2uFZpUdIk"
      }
    },
    {
      "cell_type": "code",
      "source": [
        "numbers = [34, 12, 9, 120, 31, 78, 1980, 38, 290, 128, 793, 13902, 378, 4, 4, 3, 1783, 239]"
      ],
      "metadata": {
        "id": "hgmY4NUUWi0Q"
      },
      "execution_count": null,
      "outputs": []
    },
    {
      "cell_type": "markdown",
      "source": [
        "### Задача 4\n",
        "\n",
        "Создайте список из 15 любых элементов. Сделайте срез:\n",
        "\n",
        "*   от 2 индекса до 4-ого\n",
        "*   от 5 индекса до конца списка\n",
        "* от начала списка до 10 индекса\n",
        "* от 1 до 10 индекса с шагом 2\n",
        "* переверните список, используя срезы\n",
        "* очистите список и проверьте, что он пустой\n",
        "\n"
      ],
      "metadata": {
        "id": "y92QS8dJUdRx"
      }
    },
    {
      "cell_type": "code",
      "source": [],
      "metadata": {
        "id": "3-POhOBvWjNS"
      },
      "execution_count": null,
      "outputs": []
    },
    {
      "cell_type": "markdown",
      "source": [
        "### Задача 5\n",
        "\n",
        "Создайте список из 10 различных чисел. Найдите сумму чисел в списке и выведите на экран."
      ],
      "metadata": {
        "id": "xEjs3lZ9UdiT"
      }
    },
    {
      "cell_type": "code",
      "source": [],
      "metadata": {
        "id": "NBscyToMWjqc"
      },
      "execution_count": null,
      "outputs": []
    },
    {
      "cell_type": "markdown",
      "source": [
        "### Задача 6\n",
        "\n",
        "Создайте список из 10 различных чисел. Выведите максимальное и минимальное значения списка, а также индексы этих элементов. \n",
        "\n",
        "Вывод:   \n",
        "Максимальный элемент - <элемент>, индекс - <индекс элемента>  \n",
        "Минимальный элемент - <элемент>, индекс - <индекс элемента>\n",
        "\n",
        "\n",
        "Подсказка: для поиска минимального и максимального элемента используйте функции `min(list)` и `max(list)`"
      ],
      "metadata": {
        "id": "S7btXbYiUdym"
      }
    },
    {
      "cell_type": "code",
      "source": [],
      "metadata": {
        "id": "NQfkAu2ZWj_i"
      },
      "execution_count": null,
      "outputs": []
    },
    {
      "cell_type": "markdown",
      "source": [
        "### Задача 7\n",
        "\n",
        "Дан список. Необходимо написать программу, которая позволит вывести на экран количество различных элементов в списке."
      ],
      "metadata": {
        "id": "Bw2nvxXLUd4f"
      }
    },
    {
      "cell_type": "code",
      "execution_count": null,
      "metadata": {
        "id": "F1rP7H3jUTDN"
      },
      "outputs": [],
      "source": [
        "numbers = [45, 34, 45, 36, 90, 23, 20, 23, 90, 23, 45, 76, 23, 45, 23, 90, 23, 1, 9, 34, 23, 45]"
      ]
    },
    {
      "cell_type": "code",
      "source": [],
      "metadata": {
        "id": "6UB6d5ayZD3C"
      },
      "execution_count": null,
      "outputs": []
    }
  ]
}