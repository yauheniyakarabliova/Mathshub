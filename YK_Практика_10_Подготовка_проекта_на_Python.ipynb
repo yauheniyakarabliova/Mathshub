{
  "nbformat": 4,
  "nbformat_minor": 0,
  "metadata": {
    "colab": {
      "provenance": [],
      "collapsed_sections": [],
      "include_colab_link": true
    },
    "kernelspec": {
      "name": "python3",
      "display_name": "Python 3"
    },
    "language_info": {
      "name": "python"
    }
  },
  "cells": [
    {
      "cell_type": "markdown",
      "metadata": {
        "id": "view-in-github",
        "colab_type": "text"
      },
      "source": [
        "<a href=\"https://colab.research.google.com/github/yauheniyakarabliova/Mathshub/blob/main/YK_%D0%9F%D1%80%D0%B0%D0%BA%D1%82%D0%B8%D0%BA%D0%B0_10_%D0%9F%D0%BE%D0%B4%D0%B3%D0%BE%D1%82%D0%BE%D0%B2%D0%BA%D0%B0_%D0%BF%D1%80%D0%BE%D0%B5%D0%BA%D1%82%D0%B0_%D0%BD%D0%B0_Python.ipynb\" target=\"_parent\"><img src=\"https://colab.research.google.com/assets/colab-badge.svg\" alt=\"Open In Colab\"/></a>"
      ]
    },
    {
      "cell_type": "markdown",
      "source": [
        "# Поздравляю! Это 10-ое занятие и последнее занятие в блоке про Python!"
      ],
      "metadata": {
        "id": "BzIIigt5eaSl"
      }
    },
    {
      "cell_type": "markdown",
      "source": [
        "\n",
        "\n",
        "*   Познакомились с программированием в целом\n",
        "*   Разобрались с блок-схемами\n",
        "* Написали первую программу на Python\n",
        "* Изучили условные конструкции и циклы\n",
        "* Знаем целых 4 основных структуры данных в Python\n",
        "* Можем привести свой код в порядок, ведь мы знаем что такое функции\n",
        "* И даже затронули тему ООП!\n",
        "\n"
      ],
      "metadata": {
        "id": "XEDVyD2FehQs"
      }
    },
    {
      "cell_type": "markdown",
      "source": [
        "# Подготовка проекта на Python"
      ],
      "metadata": {
        "id": "TmnyIyBm94re"
      }
    },
    {
      "cell_type": "markdown",
      "source": [
        "Подготовка исполняемого файла (скрипта):\n",
        "\n",
        "1.   Указать окружение\n",
        "2.   Навести порядок в коде (оформить функции)\n",
        "3. Создать .py файл и добавить туда код\n",
        "\n"
      ],
      "metadata": {
        "id": "PKjaw_clPNx5"
      }
    },
    {
      "cell_type": "markdown",
      "source": [
        "## Командная строка"
      ],
      "metadata": {
        "id": "2wG82Zn7Qxux"
      }
    },
    {
      "cell_type": "code",
      "source": [
        "#win: Пуск -> Все программы -> Стандартные -> Командная строка"
      ],
      "metadata": {
        "id": "CzWoFKVjSNvi"
      },
      "execution_count": null,
      "outputs": []
    },
    {
      "cell_type": "code",
      "source": [
        "#mac: Search - Terminal"
      ],
      "metadata": {
        "id": "TsZXMxN0SfYG"
      },
      "execution_count": null,
      "outputs": []
    },
    {
      "cell_type": "code",
      "source": [
        "#cd <folder name>"
      ],
      "metadata": {
        "id": "RgVSscw1Q1Fz"
      },
      "execution_count": null,
      "outputs": []
    },
    {
      "cell_type": "code",
      "source": [
        "#python test.py"
      ],
      "metadata": {
        "id": "YBYZvx-7Q4qY"
      },
      "execution_count": null,
      "outputs": []
    },
    {
      "cell_type": "code",
      "source": [
        "#python3 test.py"
      ],
      "metadata": {
        "id": "teO3Eoh8Q6nl"
      },
      "execution_count": null,
      "outputs": []
    },
    {
      "cell_type": "markdown",
      "source": [
        "## Окружение"
      ],
      "metadata": {
        "id": "aELkf_N-RBEA"
      }
    },
    {
      "cell_type": "markdown",
      "source": [
        "**Зачем указывать окружение и что это такое**  \n",
        "Программе необходимо понимать какой интерпретатор использовать, чтобы выполнить код. Когда вы указываете окружение, вы указываете путь до интерпретатора на компьютере (директория (папка) куда вы установили python). Во время выполнения скрипта, программа будет понимать какой интерпретатор использовать для выполнения кода."
      ],
      "metadata": {
        "id": "Cgfx8kcLR0wJ"
      }
    },
    {
      "cell_type": "code",
      "source": [
        "#!/usr/bin/env python3\n",
        "#!/usr/bin/env python"
      ],
      "metadata": {
        "id": "kDwWLtcMREOM"
      },
      "execution_count": null,
      "outputs": []
    },
    {
      "cell_type": "code",
      "source": [
        "#!/usr/bin/python3\n",
        "#!/usr/bin/python"
      ],
      "metadata": {
        "id": "m9M-WOOrRZmN"
      },
      "execution_count": null,
      "outputs": []
    },
    {
      "cell_type": "markdown",
      "source": [
        "Разница в указании окружения - в переносимости скриптов. Первый вариант также не может гарантировать в 100% случаев, что ваш скрипт будет работать на любом компьютере. Но вероятность того, что сработает, выше. Во втором случае вы привязаны к пути хранения python на компьютере пользователя. При этом пользователь может установить python не в стандартную директорию, а в любую другую. "
      ],
      "metadata": {
        "id": "oo_CCYyQRcdN"
      }
    },
    {
      "cell_type": "markdown",
      "source": [
        "## Создание python файла"
      ],
      "metadata": {
        "id": "cRN52jiDSov9"
      }
    },
    {
      "cell_type": "markdown",
      "source": [
        "[Sublime Text 3](https://www.sublimetext.com/3)\n",
        "\n"
      ],
      "metadata": {
        "id": "n039y-IVS5Zq"
      }
    },
    {
      "cell_type": "markdown",
      "source": [
        "\n",
        "\n",
        "1.   Создайте новый файл\n",
        "2.   Вставьте программу\n",
        "3. В меню File выберите Save as...\n",
        "4. Сохраните вашу программу в какой-либо папке в формате program_name.py\n",
        "\n"
      ],
      "metadata": {
        "id": "lf3AhYliThXm"
      }
    },
    {
      "cell_type": "markdown",
      "source": [
        "## Генератор паролей"
      ],
      "metadata": {
        "id": "2874wv92DSNC"
      }
    },
    {
      "cell_type": "code",
      "source": [
        "import random\n",
        "login = input('Логин: ')\n",
        "pswrd = ''\n",
        "for i in range(16):\n",
        "    pswrd = pswrd + random.choice(list('!,.@#%^&*()1234567890abcdefghigklmnopqrstuvyxwzABCDEFGHIGKLMNOPQRSTUVYXWZ'))\n",
        "print('Привет, ' + str(login) + '! Твой пароль: ' + str(pswrd))"
      ],
      "metadata": {
        "colab": {
          "base_uri": "https://localhost:8080/"
        },
        "id": "jasd4habDDwQ",
        "outputId": "aae8bb27-9237-45cb-b011-ab77aca9b6bc"
      },
      "execution_count": null,
      "outputs": [
        {
          "output_type": "stream",
          "name": "stdout",
          "text": [
            "Логин: chuvilinaann\n",
            "Привет, chuvilinaann! Твой пароль: Ea1FC%V*gevKRigX\n"
          ]
        }
      ]
    },
    {
      "cell_type": "code",
      "source": [
        "import random\n",
        "\n",
        "def random_pass():\n",
        "  login = input('Логин: ')\n",
        "  pswrd = ''\n",
        "  for i in range(16):\n",
        "      pswrd = pswrd + random.choice(list('!,.@#%^&*()1234567890abcdefghigklmnopqrstuvyxwzABCDEFGHIGKLMNOPQRSTUVYXWZ'))\n",
        "  return 'Привет, ' + str(login) + '! Твой пароль: ' + str(pswrd)"
      ],
      "metadata": {
        "id": "5_UD--CtDF4D"
      },
      "execution_count": null,
      "outputs": []
    },
    {
      "cell_type": "code",
      "source": [
        "#!/usr/bin/env python3\n",
        "import random\n",
        "\n",
        "def random_pass():\n",
        "  login = input('Логин: ')\n",
        "  pswrd = ''\n",
        "  for i in range(16):\n",
        "      pswrd = pswrd + random.choice(list('!,.@#%^&*()1234567890abcdefghigklmnopqrstuvyxwzABCDEFGHIGKLMNOPQRSTUVYXWZ'))\n",
        "  return 'Привет, ' + str(login) + '! Твой пароль: ' + str(pswrd)"
      ],
      "metadata": {
        "id": "64Q7yox3DMUS"
      },
      "execution_count": null,
      "outputs": []
    },
    {
      "cell_type": "code",
      "execution_count": null,
      "metadata": {
        "colab": {
          "base_uri": "https://localhost:8080/"
        },
        "id": "vLYsMdOh9hHz",
        "outputId": "f1d5a77a-3496-41ee-c1b3-f05d91bf5bbb"
      },
      "outputs": [
        {
          "output_type": "stream",
          "name": "stdout",
          "text": [
            "Логин: chuvilinaann\n",
            "Привет, chuvilinaann! Твой пароль: ZA6!w)1eUmfI*5F,\n"
          ]
        }
      ],
      "source": [
        "#!/usr/bin/env python3\n",
        "import random\n",
        "\n",
        "def random_pass():\n",
        "  login = input('Логин: ')\n",
        "  pswrd = ''\n",
        "  for i in range(16):\n",
        "      pswrd = pswrd + random.choice(list('!,.@#%^&*()1234567890abcdefghigklmnopqrstuvyxwzABCDEFGHIGKLMNOPQRSTUVYXWZ'))\n",
        "  return 'Привет, ' + str(login) + '! Твой пароль: ' + str(pswrd)\n",
        "\n",
        "\n",
        "if __name__ == \"__main__\":\n",
        "  password = random_pass()\n",
        "  print(password)"
      ]
    },
    {
      "cell_type": "markdown",
      "source": [
        "## DailyWiki"
      ],
      "metadata": {
        "id": "rxq0mTrSD2FP"
      }
    },
    {
      "cell_type": "markdown",
      "source": [
        "https://wikipedia.readthedocs.io/en/latest/quickstart.html"
      ],
      "metadata": {
        "id": "Q-DINl3fME4J"
      }
    },
    {
      "cell_type": "code",
      "source": [
        "!pip install wikipedia"
      ],
      "metadata": {
        "id": "slW2ZRDzv5D_"
      },
      "execution_count": null,
      "outputs": []
    },
    {
      "cell_type": "code",
      "source": [
        "import wikipedia #импорт модуля"
      ],
      "metadata": {
        "id": "Qf19mKgzEE6-"
      },
      "execution_count": null,
      "outputs": []
    },
    {
      "cell_type": "code",
      "source": [
        "print(wikipedia.summary(\"Wikipedia\")) #вывести на экран саммари по статье"
      ],
      "metadata": {
        "colab": {
          "base_uri": "https://localhost:8080/"
        },
        "id": "k-hnJNHEETw6",
        "outputId": "b2e0fa16-ba6d-4425-d993-abe31cc12fb5"
      },
      "execution_count": null,
      "outputs": [
        {
          "output_type": "stream",
          "name": "stdout",
          "text": [
            "The Wikimedia Foundation, Inc., or Wikimedia for short and abbreviated as WMF, is an American 501(c)(3) nonprofit organization headquartered in San Francisco, California and registered as a charitable foundation under local laws. Best known as the hosting platform for Wikipedia, a crowdsourced online encyclopedia, it also hosts other related projects and MediaWiki, a wiki software.The Wikimedia Foundation was established in 2003 in St. Petersburg, Florida, by Jimmy Wales as a nonprofit way to fund Wikipedia, Wiktionary, and other crowdsourced wiki projects that had until then been hosted by Bomis, Wales's for-profit company. The Foundation finances itself mainly through millions of small donations from Wikipedia readers, collected through email campaigns and annual fundraising banners placed on Wikipedia. These are complemented by grants from various tech companies and philanthropic organizations.\n",
            "The Foundation has grown rapidly throughout its existence. By 2021, it employed over 550 staff and contractors, with annual revenues in excess of US$160 million, annual expenses of around US$110 million, and a growing endowment, which surpassed US$100 million in June 2021.\n"
          ]
        }
      ]
    },
    {
      "cell_type": "code",
      "source": [
        "wikipedia.set_lang(\"ru\") #смена языка"
      ],
      "metadata": {
        "id": "RIPgzwjzE4K4"
      },
      "execution_count": null,
      "outputs": []
    },
    {
      "cell_type": "code",
      "source": [
        "print(wikipedia.summary(\"Википедия\"))"
      ],
      "metadata": {
        "colab": {
          "base_uri": "https://localhost:8080/"
        },
        "id": "t3WO-h4eE8Cy",
        "outputId": "09ea5795-8251-40d5-f2d8-f079b89482ac"
      },
      "execution_count": null,
      "outputs": [
        {
          "output_type": "stream",
          "name": "stdout",
          "text": [
            "Википе́дия (англ. Wikipedia, произносится [ˌwɪkɨˈpiːdiə] или [ˌwɪkiˈpiːdiə]) — общедоступная многоязычная универсальная интернет-энциклопедия со свободным контентом, реализованная на принципах вики.\n",
            "Владелец сайта — американская некоммерческая организация «Фонд Викимедиа», имеющая 37 региональных представительств. Название энциклопедии образовано от английских слов wiki («вики»; в свою очередь заимствовано из гавайского языка, в котором оно имеет значение «быстро») и encyclopedia («энциклопедия»).\n",
            "Запущенная в январе 2001 года Джимми Уэйлсом и Ларри Сэнгером, Википедия сейчас является самым крупным и наиболее популярным справочником в Интернете. По объёму сведений и тематическому охвату Википедия считается самой полной энциклопедией из когда-либо создававшихся за всю историю человечества. Одним из основных достоинств Википедии как универсальной энциклопедии является возможность представления информации на родном языке пользователя.\n",
            "На май 2018 года разделы Википедии есть на 301 языке, а также на 493 языках в инкубаторе. Она содержит более 50 миллионов статей. Интернет-сайт Википедии входит в топ-10 самых посещаемых сайтов в мире.\n",
            "Главной особенностью Википедии является то, что создавать и редактировать статьи в ней может любой пользователь Интернета. Все вносимые такими добровольцами изменения незамедлительно становятся доступными для просмотра всем посетителям сайта. В декабре 2013 года в заявлении ЮНЕСКО по случаю награждения Джимми Уэйлса, основателя Википедии, Золотой медалью Нильса Бора про Википедию было сказано, что она является «символом эпохи взаимодействия, в которую мы живём, и это не просто инструмент, это воплощение мечты, столь же древней, как человеческий интеллект и собрания Александрийской библиотеки».\n",
            "Надёжность и точность Википедии вызывают вопросы. Википедию критикуют за возможность добавления ложной или непроверенной информации и вандализма на её страницах. Однако научные исследования свидетельствуют о том, что в Википедии следы актов вандализма обычно оперативно устраняются.\n",
            "Раздел Википедии на русском языке, по состоянию на 26 сентября 2022 года, насчитывает 1 856 014 статей различной тематики, занимая 7-е место по количеству статей среди всех языковых разделов.\n"
          ]
        }
      ]
    },
    {
      "cell_type": "code",
      "source": [
        "wikipedia.random() #вывести название случайной статьи"
      ],
      "metadata": {
        "colab": {
          "base_uri": "https://localhost:8080/",
          "height": 36
        },
        "id": "wLlcpqloGlKl",
        "outputId": "75bb3c74-8027-46eb-9120-aaae06d72cca"
      },
      "execution_count": null,
      "outputs": [
        {
          "output_type": "execute_result",
          "data": {
            "text/plain": [
              "'Демиденко, Ефросиния Афанасьевна'"
            ],
            "application/vnd.google.colaboratory.intrinsic+json": {
              "type": "string"
            }
          },
          "metadata": {},
          "execution_count": 26
        }
      ]
    },
    {
      "cell_type": "code",
      "source": [
        "import wikipedia\n",
        "wikipedia.set_lang(\"ru\")\n",
        "\n",
        "while True:\n",
        "    random_article = wikipedia.random()\n",
        "    page = wikipedia.page(random_article)\n",
        "    print(f\"{random_article}\")\n",
        "    print(wikipedia.summary(random_article))\n",
        "    print(\"Вы хотели бы прочитать эту статью? (да/нет). Чтобы закончить работу наберите стоп.\")\n",
        "    ans = input(\"\").lower()\n",
        "    if ans == \"да\":\n",
        "        url = page.url\n",
        "        print(url)\n",
        "        break\n",
        "    elif ans == \"нет\":\n",
        "        print(\"Может быть другую?\")\n",
        "        continue\n",
        "    elif ans == \"стоп\":\n",
        "        print(\"Приходите еще!\")\n",
        "        break\n",
        "    else:\n",
        "        print(\"Ошибка ввода\")\n",
        "        break"
      ],
      "metadata": {
        "colab": {
          "base_uri": "https://localhost:8080/",
          "height": 638
        },
        "id": "a6H4fZJVFQaj",
        "outputId": "4b4610b8-fb58-4cca-f1ec-3a6cf0b482ce"
      },
      "execution_count": null,
      "outputs": [
        {
          "output_type": "stream",
          "name": "stdout",
          "text": [
            "Рибамонтан-аль-Монте\n",
            "Рибамонтан-аль-Монте (исп. Ribamontán al Monte)  —  муниципалитет в Испании, входит в провинцию Кантабрия в составе автономного сообщества Кантабрия (автономное сообщество). Муниципалитет находится в составе района (комарки) Трасмьера. Занимает площадь 36,6 км². Население — 2142 человека (на 2010 год). Расстояние до административного центра провинции — 27 км.\n",
            "Вы хотели бы прочитать эту статью? (да/нет). Чтобы закончить работу наберите стоп.\n",
            "нет\n",
            "Может быть другую?\n"
          ]
        },
        {
          "output_type": "stream",
          "name": "stderr",
          "text": [
            "/usr/local/lib/python3.7/dist-packages/wikipedia/wikipedia.py:389: UserWarning: No parser was explicitly specified, so I'm using the best available HTML parser for this system (\"lxml\"). This usually isn't a problem, but if you run this code on another system, or in a different virtual environment, it may use a different parser and behave differently.\n",
            "\n",
            "The code that caused this warning is on line 389 of the file /usr/local/lib/python3.7/dist-packages/wikipedia/wikipedia.py. To get rid of this warning, pass the additional argument 'features=\"lxml\"' to the BeautifulSoup constructor.\n",
            "\n",
            "  lis = BeautifulSoup(html).find_all('li')\n"
          ]
        },
        {
          "output_type": "error",
          "ename": "DisambiguationError",
          "evalue": "ignored",
          "traceback": [
            "\u001b[0;31m---------------------------------------------------------------------------\u001b[0m",
            "\u001b[0;31mDisambiguationError\u001b[0m                       Traceback (most recent call last)",
            "\u001b[0;32m<ipython-input-66-26222655443f>\u001b[0m in \u001b[0;36m<module>\u001b[0;34m\u001b[0m\n\u001b[1;32m      4\u001b[0m \u001b[0;32mwhile\u001b[0m \u001b[0;32mTrue\u001b[0m\u001b[0;34m:\u001b[0m\u001b[0;34m\u001b[0m\u001b[0;34m\u001b[0m\u001b[0m\n\u001b[1;32m      5\u001b[0m     \u001b[0mrandom_article\u001b[0m \u001b[0;34m=\u001b[0m \u001b[0mwikipedia\u001b[0m\u001b[0;34m.\u001b[0m\u001b[0mrandom\u001b[0m\u001b[0;34m(\u001b[0m\u001b[0;34m)\u001b[0m\u001b[0;34m\u001b[0m\u001b[0;34m\u001b[0m\u001b[0m\n\u001b[0;32m----> 6\u001b[0;31m     \u001b[0mpage\u001b[0m \u001b[0;34m=\u001b[0m \u001b[0mwikipedia\u001b[0m\u001b[0;34m.\u001b[0m\u001b[0mpage\u001b[0m\u001b[0;34m(\u001b[0m\u001b[0mrandom_article\u001b[0m\u001b[0;34m)\u001b[0m\u001b[0;34m\u001b[0m\u001b[0;34m\u001b[0m\u001b[0m\n\u001b[0m\u001b[1;32m      7\u001b[0m     \u001b[0mprint\u001b[0m\u001b[0;34m(\u001b[0m\u001b[0;34mf\"{random_article}\"\u001b[0m\u001b[0;34m)\u001b[0m\u001b[0;34m\u001b[0m\u001b[0;34m\u001b[0m\u001b[0m\n\u001b[1;32m      8\u001b[0m     \u001b[0mprint\u001b[0m\u001b[0;34m(\u001b[0m\u001b[0mwikipedia\u001b[0m\u001b[0;34m.\u001b[0m\u001b[0msummary\u001b[0m\u001b[0;34m(\u001b[0m\u001b[0mrandom_article\u001b[0m\u001b[0;34m)\u001b[0m\u001b[0;34m)\u001b[0m\u001b[0;34m\u001b[0m\u001b[0;34m\u001b[0m\u001b[0m\n",
            "\u001b[0;32m/usr/local/lib/python3.7/dist-packages/wikipedia/wikipedia.py\u001b[0m in \u001b[0;36mpage\u001b[0;34m(title, pageid, auto_suggest, redirect, preload)\u001b[0m\n\u001b[1;32m    274\u001b[0m         \u001b[0;31m# if there is no suggestion or search results, the page doesn't exist\u001b[0m\u001b[0;34m\u001b[0m\u001b[0;34m\u001b[0m\u001b[0;34m\u001b[0m\u001b[0m\n\u001b[1;32m    275\u001b[0m         \u001b[0;32mraise\u001b[0m \u001b[0mPageError\u001b[0m\u001b[0;34m(\u001b[0m\u001b[0mtitle\u001b[0m\u001b[0;34m)\u001b[0m\u001b[0;34m\u001b[0m\u001b[0;34m\u001b[0m\u001b[0m\n\u001b[0;32m--> 276\u001b[0;31m     \u001b[0;32mreturn\u001b[0m \u001b[0mWikipediaPage\u001b[0m\u001b[0;34m(\u001b[0m\u001b[0mtitle\u001b[0m\u001b[0;34m,\u001b[0m \u001b[0mredirect\u001b[0m\u001b[0;34m=\u001b[0m\u001b[0mredirect\u001b[0m\u001b[0;34m,\u001b[0m \u001b[0mpreload\u001b[0m\u001b[0;34m=\u001b[0m\u001b[0mpreload\u001b[0m\u001b[0;34m)\u001b[0m\u001b[0;34m\u001b[0m\u001b[0;34m\u001b[0m\u001b[0m\n\u001b[0m\u001b[1;32m    277\u001b[0m   \u001b[0;32melif\u001b[0m \u001b[0mpageid\u001b[0m \u001b[0;32mis\u001b[0m \u001b[0;32mnot\u001b[0m \u001b[0;32mNone\u001b[0m\u001b[0;34m:\u001b[0m\u001b[0;34m\u001b[0m\u001b[0;34m\u001b[0m\u001b[0m\n\u001b[1;32m    278\u001b[0m     \u001b[0;32mreturn\u001b[0m \u001b[0mWikipediaPage\u001b[0m\u001b[0;34m(\u001b[0m\u001b[0mpageid\u001b[0m\u001b[0;34m=\u001b[0m\u001b[0mpageid\u001b[0m\u001b[0;34m,\u001b[0m \u001b[0mpreload\u001b[0m\u001b[0;34m=\u001b[0m\u001b[0mpreload\u001b[0m\u001b[0;34m)\u001b[0m\u001b[0;34m\u001b[0m\u001b[0;34m\u001b[0m\u001b[0m\n",
            "\u001b[0;32m/usr/local/lib/python3.7/dist-packages/wikipedia/wikipedia.py\u001b[0m in \u001b[0;36m__init__\u001b[0;34m(self, title, pageid, redirect, preload, original_title)\u001b[0m\n\u001b[1;32m    297\u001b[0m       \u001b[0;32mraise\u001b[0m \u001b[0mValueError\u001b[0m\u001b[0;34m(\u001b[0m\u001b[0;34m\"Either a title or a pageid must be specified\"\u001b[0m\u001b[0;34m)\u001b[0m\u001b[0;34m\u001b[0m\u001b[0;34m\u001b[0m\u001b[0m\n\u001b[1;32m    298\u001b[0m \u001b[0;34m\u001b[0m\u001b[0m\n\u001b[0;32m--> 299\u001b[0;31m     \u001b[0mself\u001b[0m\u001b[0;34m.\u001b[0m\u001b[0m__load\u001b[0m\u001b[0;34m(\u001b[0m\u001b[0mredirect\u001b[0m\u001b[0;34m=\u001b[0m\u001b[0mredirect\u001b[0m\u001b[0;34m,\u001b[0m \u001b[0mpreload\u001b[0m\u001b[0;34m=\u001b[0m\u001b[0mpreload\u001b[0m\u001b[0;34m)\u001b[0m\u001b[0;34m\u001b[0m\u001b[0;34m\u001b[0m\u001b[0m\n\u001b[0m\u001b[1;32m    300\u001b[0m \u001b[0;34m\u001b[0m\u001b[0m\n\u001b[1;32m    301\u001b[0m     \u001b[0;32mif\u001b[0m \u001b[0mpreload\u001b[0m\u001b[0;34m:\u001b[0m\u001b[0;34m\u001b[0m\u001b[0;34m\u001b[0m\u001b[0m\n",
            "\u001b[0;32m/usr/local/lib/python3.7/dist-packages/wikipedia/wikipedia.py\u001b[0m in \u001b[0;36m__load\u001b[0;34m(self, redirect, preload)\u001b[0m\n\u001b[1;32m    391\u001b[0m       \u001b[0mmay_refer_to\u001b[0m \u001b[0;34m=\u001b[0m \u001b[0;34m[\u001b[0m\u001b[0mli\u001b[0m\u001b[0;34m.\u001b[0m\u001b[0ma\u001b[0m\u001b[0;34m.\u001b[0m\u001b[0mget_text\u001b[0m\u001b[0;34m(\u001b[0m\u001b[0;34m)\u001b[0m \u001b[0;32mfor\u001b[0m \u001b[0mli\u001b[0m \u001b[0;32min\u001b[0m \u001b[0mfiltered_lis\u001b[0m \u001b[0;32mif\u001b[0m \u001b[0mli\u001b[0m\u001b[0;34m.\u001b[0m\u001b[0ma\u001b[0m\u001b[0;34m]\u001b[0m\u001b[0;34m\u001b[0m\u001b[0;34m\u001b[0m\u001b[0m\n\u001b[1;32m    392\u001b[0m \u001b[0;34m\u001b[0m\u001b[0m\n\u001b[0;32m--> 393\u001b[0;31m       \u001b[0;32mraise\u001b[0m \u001b[0mDisambiguationError\u001b[0m\u001b[0;34m(\u001b[0m\u001b[0mgetattr\u001b[0m\u001b[0;34m(\u001b[0m\u001b[0mself\u001b[0m\u001b[0;34m,\u001b[0m \u001b[0;34m'title'\u001b[0m\u001b[0;34m,\u001b[0m \u001b[0mpage\u001b[0m\u001b[0;34m[\u001b[0m\u001b[0;34m'title'\u001b[0m\u001b[0;34m]\u001b[0m\u001b[0;34m)\u001b[0m\u001b[0;34m,\u001b[0m \u001b[0mmay_refer_to\u001b[0m\u001b[0;34m)\u001b[0m\u001b[0;34m\u001b[0m\u001b[0;34m\u001b[0m\u001b[0m\n\u001b[0m\u001b[1;32m    394\u001b[0m \u001b[0;34m\u001b[0m\u001b[0m\n\u001b[1;32m    395\u001b[0m     \u001b[0;32melse\u001b[0m\u001b[0;34m:\u001b[0m\u001b[0;34m\u001b[0m\u001b[0;34m\u001b[0m\u001b[0m\n",
            "\u001b[0;31mDisambiguationError\u001b[0m: \"Чикрызов\" may refer to: \nЧикрызов, Владимир Григорьевич\nЧикрызов, Григорий Степанович\nЧикризов"
          ]
        }
      ]
    },
    {
      "cell_type": "markdown",
      "source": [
        "**Исключения (exceptions)** - ещё один тип данных в python. Исключения необходимы для того, чтобы сообщать программисту об ошибках."
      ],
      "metadata": {
        "id": "lFiPG_9JWJxC"
      }
    },
    {
      "cell_type": "code",
      "source": [
        "try:\n",
        "  ...\n",
        "except error_name:\n",
        "  ..."
      ],
      "metadata": {
        "id": "v0jV5sXyUF53"
      },
      "execution_count": null,
      "outputs": []
    },
    {
      "cell_type": "code",
      "source": [
        "test_exception = 145/0\n",
        "print(test_exception)"
      ],
      "metadata": {
        "colab": {
          "base_uri": "https://localhost:8080/",
          "height": 186
        },
        "id": "gk6toUPTWNCQ",
        "outputId": "690fdb3d-8de3-4953-b2b4-63516a2ac99e"
      },
      "execution_count": null,
      "outputs": [
        {
          "output_type": "error",
          "ename": "ZeroDivisionError",
          "evalue": "ignored",
          "traceback": [
            "\u001b[0;31m---------------------------------------------------------------------------\u001b[0m",
            "\u001b[0;31mZeroDivisionError\u001b[0m                         Traceback (most recent call last)",
            "\u001b[0;32m<ipython-input-59-78cff794f71b>\u001b[0m in \u001b[0;36m<module>\u001b[0;34m\u001b[0m\n\u001b[0;32m----> 1\u001b[0;31m \u001b[0mtest_exception\u001b[0m \u001b[0;34m=\u001b[0m \u001b[0;36m145\u001b[0m\u001b[0;34m/\u001b[0m\u001b[0;36m0\u001b[0m\u001b[0;34m\u001b[0m\u001b[0;34m\u001b[0m\u001b[0m\n\u001b[0m\u001b[1;32m      2\u001b[0m \u001b[0mprint\u001b[0m\u001b[0;34m(\u001b[0m\u001b[0mtest_exception\u001b[0m\u001b[0;34m)\u001b[0m\u001b[0;34m\u001b[0m\u001b[0;34m\u001b[0m\u001b[0m\n",
            "\u001b[0;31mZeroDivisionError\u001b[0m: division by zero"
          ]
        }
      ]
    },
    {
      "cell_type": "code",
      "source": [
        "try:\n",
        "  test_exception = 145/0\n",
        "  print(test_exception)\n",
        "except ZeroDivisionError:\n",
        "  print('На ноль делить нельзя!')\n"
      ],
      "metadata": {
        "colab": {
          "base_uri": "https://localhost:8080/"
        },
        "id": "3I-N7GNqWcG5",
        "outputId": "0b3c3bb7-b4bc-4057-beaa-c3c76d30fe1e"
      },
      "execution_count": null,
      "outputs": [
        {
          "output_type": "stream",
          "name": "stdout",
          "text": [
            "На ноль делить нельзя!\n"
          ]
        }
      ]
    },
    {
      "cell_type": "markdown",
      "source": [
        "[Перечень возможных ошибок](https://pythonworld.ru/tipy-dannyx-v-python/isklyucheniya-v-python-konstrukciya-try-except-dlya-obrabotki-isklyuchenij.html)"
      ],
      "metadata": {
        "id": "e7yUvIMCWt-q"
      }
    },
    {
      "cell_type": "markdown",
      "source": [
        "**Продолжаем!**"
      ],
      "metadata": {
        "id": "CzI88kF0WpkQ"
      }
    },
    {
      "cell_type": "code",
      "source": [
        "import wikipedia\n",
        "wikipedia.set_lang(\"ru\")\n",
        "\n",
        "try: #обработка исключений\n",
        "   while True:\n",
        "    random_article = wikipedia.random()\n",
        "    page = wikipedia.page(random_article)\n",
        "    print(f\"{random_article}\")\n",
        "    print(wikipedia.summary(random_article))\n",
        "    print(\"Вы хотели бы прочитать эту статью? (да/нет). Чтобы закончить работу наберите стоп.\")\n",
        "    ans = input(\"\").lower()\n",
        "    if ans == \"да\":\n",
        "        url = page.url\n",
        "        print(url)\n",
        "        break\n",
        "    elif ans == \"нет\":\n",
        "        print(\"Может быть другую?\")\n",
        "        continue\n",
        "    elif ans == \"стоп\":\n",
        "        print(\"Приходите еще!\")\n",
        "        continue\n",
        "    else:\n",
        "        print(\"Ошибка ввода\")\n",
        "        break\n",
        "except wikipedia.exceptions.DisambiguationError as e:\n",
        "    print(e.options)"
      ],
      "metadata": {
        "colab": {
          "base_uri": "https://localhost:8080/"
        },
        "id": "TwhJsfbULn5v",
        "outputId": "f46cd852-be34-4b98-93a0-082794fa6b3c"
      },
      "execution_count": null,
      "outputs": [
        {
          "output_type": "stream",
          "name": "stdout",
          "text": [
            "['Абедини, Али', 'Абедини, Амир', 'Абедини, Мойтаба', 'Абедини, Фардин', 'Абедини, Хоссейн', 'Абедин']\n"
          ]
        }
      ]
    },
    {
      "cell_type": "code",
      "source": [
        "#!/usr/bin/env python3\n",
        "import wikipedia\n",
        "wikipedia.set_lang(\"ru\")\n",
        "\n",
        "\n",
        "def wiki():\n",
        "  while True:\n",
        "    random_article = wikipedia.random()\n",
        "    page = wikipedia.page(random_article)\n",
        "    print(f\"{random_article}\")\n",
        "    print(wikipedia.summary(random_article))\n",
        "    print(\"Вы хотели бы прочитать эту статью? (да/нет). Чтобы закончить работу наберите стоп.\")\n",
        "    ans = input(\"\").lower()\n",
        "    if ans == \"да\":\n",
        "        url = page.url\n",
        "        print(url)\n",
        "        break\n",
        "    elif ans == \"нет\":\n",
        "        print(\"Может быть другую?\")\n",
        "        continue\n",
        "    elif ans == \"стоп\":\n",
        "        print(\"Приходите еще!\")\n",
        "        continue\n",
        "    else:\n",
        "        print(\"Ошибка ввода\")\n",
        "        break\n",
        "\n",
        "if __name__ == \"__main__\":\n",
        "  try:\n",
        "    wiki() \n",
        "  except wikipedia.exceptions.DisambiguationError as e:\n",
        "      print(e.options)"
      ],
      "metadata": {
        "colab": {
          "base_uri": "https://localhost:8080/"
        },
        "id": "_ZMy8nV8QMxU",
        "outputId": "a5e3768f-0edc-4510-fa25-c4d28c1cd014"
      },
      "execution_count": null,
      "outputs": [
        {
          "output_type": "stream",
          "name": "stdout",
          "text": [
            "Спасское Первое\n",
            "Спасское Первое — село в Колпнянском районе Орловской области России. Входит в состав Белоколодезьского сельского поселения.\n",
            "Вы хотели бы прочитать эту статью? (да/нет). Чтобы закончить работу наберите стоп.\n",
            "нет\n",
            "Может быть другую?\n",
            "Дылгач\n",
            "Дылгач (болг. Дългач) — село в Болгарии. Находится в Тырговиштской области, входит в общину Тырговиште. Население составляет 478 человек (2022).\n",
            "Вы хотели бы прочитать эту статью? (да/нет). Чтобы закончить работу наберите стоп.\n",
            "нет\n",
            "Может быть другую?\n",
            "Ваньянь Юнцзи\n",
            "Ваньянь Юнцзи (кит. трад. 完顏永濟, пиньинь Wányán Yǒngjì; умер 11 сентября 1213) — седьмой император чжурчжэньской империи Цзинь в 1208—1213 годах.\n",
            "Вы хотели бы прочитать эту статью? (да/нет). Чтобы закончить работу наберите стоп.\n",
            "да\n",
            "https://ru.wikipedia.org/wiki/%D0%92%D0%B0%D0%BD%D1%8C%D1%8F%D0%BD%D1%8C_%D0%AE%D0%BD%D1%86%D0%B7%D0%B8\n"
          ]
        }
      ]
    },
    {
      "cell_type": "markdown",
      "source": [
        "## Репозиторий"
      ],
      "metadata": {
        "id": "7-llysyMW0No"
      }
    },
    {
      "cell_type": "markdown",
      "source": [
        "**Репозиторий** - это электорнное хранилище данных (чаще всего программного кода)  \n",
        "\n",
        "**Системы контроля версий** — это программные инструменты, помогающие командам разработчиков управлять изменениями в исходном коде с течением времени."
      ],
      "metadata": {
        "id": "XVW9P73CW2VH"
      }
    },
    {
      "cell_type": "markdown",
      "source": [
        "![1_7d628edbb9cbcf75d9da97d8a8a506ec.png](data:image/png;base64,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)"
      ],
      "metadata": {
        "id": "OWFW4tLKXLOv"
      }
    },
    {
      "cell_type": "code",
      "source": [],
      "metadata": {
        "id": "qieZDqHVW1yk"
      },
      "execution_count": null,
      "outputs": []
    }
  ]
}