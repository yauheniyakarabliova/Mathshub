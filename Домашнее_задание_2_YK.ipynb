{
  "nbformat": 4,
  "nbformat_minor": 0,
  "metadata": {
    "colab": {
      "provenance": [],
      "collapsed_sections": [],
      "include_colab_link": true
    },
    "kernelspec": {
      "name": "python3",
      "display_name": "Python 3"
    },
    "language_info": {
      "name": "python"
    }
  },
  "cells": [
    {
      "cell_type": "markdown",
      "metadata": {
        "id": "view-in-github",
        "colab_type": "text"
      },
      "source": [
        "<a href=\"https://colab.research.google.com/github/yauheniyakarabliova/Mathshub/blob/main/%D0%94%D0%BE%D0%BC%D0%B0%D1%88%D0%BD%D0%B5%D0%B5_%D0%B7%D0%B0%D0%B4%D0%B0%D0%BD%D0%B8%D0%B5_2_YK.ipynb\" target=\"_parent\"><img src=\"https://colab.research.google.com/assets/colab-badge.svg\" alt=\"Open In Colab\"/></a>"
      ]
    },
    {
      "cell_type": "markdown",
      "source": [
        "# Домашнее задание №2"
      ],
      "metadata": {
        "id": "ZEfFasFJqw1A"
      }
    },
    {
      "cell_type": "markdown",
      "source": [
        "## Задача №1\n",
        "\n",
        "**Условие:** Напишите программу, которая позволяет найти сумму и произведение 3-ех целых чисел. Числа необходимо вводить с клавиатуры. Выведите на экран результат сложения и умножения через запятую в одной строке.\n",
        "\n",
        "**Данные для получения ответа:**\n",
        "3, 8, 2\n",
        "\n",
        "**Варианты ответа для Canvas:**\n",
        "\n",
        "\n",
        "1. 13 48 \n",
        "2. 13, 48\n",
        "3. 48\n",
        "4. 48, 13  \n",
        "\n"
      ],
      "metadata": {
        "id": "NFpHXzQ6qJxb"
      }
    },
    {
      "cell_type": "code",
      "source": [
        "num_1 = int(input(\"Введите число 1 \"))\n",
        "num_2 = int(input(\"Введите число 2 \"))\n",
        "num_3 = int(input(\"Введите число 3 \"))\n",
        "sum = num_1 + num_2 + num_3\n",
        "prod = num_1 * num_2 * num_3\n",
        "print(f\"{sum}, {prod}\")"
      ],
      "metadata": {
        "colab": {
          "base_uri": "https://localhost:8080/"
        },
        "id": "3EDd6vw9GIYe",
        "outputId": "a785b469-05c2-4448-fef3-4937c67dd37e"
      },
      "execution_count": null,
      "outputs": [
        {
          "output_type": "stream",
          "name": "stdout",
          "text": [
            "Введите число 1 3\n",
            "Введите число 2 8\n",
            "Введите число 3 2\n",
            "13, 48\n"
          ]
        }
      ]
    },
    {
      "cell_type": "markdown",
      "source": [
        "## Задача №2\n",
        "\n",
        "**Условие:** Напишите программу для пересчёта величины временного интервала, заданного в минутах, в величину, выраженную в часах и минутах. Необходимо вывести сообщение вида x минут - это m час n минут.\n",
        "\n",
        "**Данные для получения ответа:**\n",
        "115\n",
        "\n",
        "**Варианты ответа для Canvas:**\n",
        "\n",
        "\n",
        "1. 115 минут - 1,92 час \n",
        "2. 1 час 55 минут\n",
        "3. 115 минут - 1 час 55 минут\n",
        "4. 115 минут - 2 час\n",
        "\n"
      ],
      "metadata": {
        "id": "BXBB8FYxVrQ7"
      }
    },
    {
      "cell_type": "code",
      "source": [
        "n = 115\n",
        "h = int(n / 60)\n",
        "min = n % 60\n",
        "\n",
        "print(f\"{n} минут - {h} час {min} минут\")"
      ],
      "metadata": {
        "colab": {
          "base_uri": "https://localhost:8080/"
        },
        "id": "ldif2CG7IwHd",
        "outputId": "d65f515b-6908-4949-fa75-227c9345049a"
      },
      "execution_count": null,
      "outputs": [
        {
          "output_type": "stream",
          "name": "stdout",
          "text": [
            "115 минут - 1 час 55 минут\n"
          ]
        }
      ]
    },
    {
      "cell_type": "markdown",
      "source": [
        "## Задача №3\n",
        "\n",
        "**Условие:** Напишите программу для пересчёта величины временного интервала, заданного в минутах, в величину, выраженную в часах и минутах. Необходимо вывести сообщение вида m час n минут с учетом правильного отображения форм слов \"час\" и \"минута\" (в зависимости от полученного результата).\n",
        "\n",
        "**Данные для получения ответа:**\n",
        "45\n",
        "\n",
        "**Варианты ответа для Canvas:**\n",
        "\n",
        "\n",
        "1. 0 часов\n",
        "2. 45 минут\n",
        "3. 0 час 45 минут\n",
        "4. 0 часов 45 минут\n",
        "\n"
      ],
      "metadata": {
        "id": "x8ciCybeW2xC"
      }
    },
    {
      "cell_type": "code",
      "source": [
        "n = int(input(\"Введите количество минут\"))\n",
        "h = int(n / 60)\n",
        "min = n % 60\n",
        "\n",
        "h_str = \"\"\n",
        "if h == 1:\n",
        "  h_str = \"час\"\n",
        "elif h == 2 or h == 3 or h == 4:\n",
        "  h_str = \"часа\"\n",
        "else:\n",
        "  h_str = \"часов\"\n",
        "\n",
        "min_str = \"\"\n",
        "if min == 1:\n",
        "  min_str = \"минута\"\n",
        "else:\n",
        "  min_str = \"минут\"\n",
        "\n",
        "print(f\"{n} {min_str} - {h} {h_str} {min} {min_str}\")"
      ],
      "metadata": {
        "colab": {
          "base_uri": "https://localhost:8080/"
        },
        "id": "shHpM2eZJRJg",
        "outputId": "a341d862-7b1a-43b9-f9e1-900d4a26c6cb"
      },
      "execution_count": null,
      "outputs": [
        {
          "output_type": "stream",
          "name": "stdout",
          "text": [
            "Введите количество минут45\n",
            "45 минут - 0 часов 45 минут\n"
          ]
        }
      ]
    },
    {
      "cell_type": "markdown",
      "source": [
        "## Задача №4\n",
        "\n",
        "**Условие:** Напишите программу, которая принимает целое число N и определяет, принадлежит ли данное число указанным промежуткам: от минус бесконечности до -10 включительно и от 15 до бесконечности.\n",
        "\n",
        "**Данные для получения ответа:**\n",
        "15\n",
        "\n",
        "**Варианты ответа для Canvas:**\n",
        "\n",
        "\n",
        "1. Принадлежит\n",
        "2. Не принадлежит\n",
        "3. Невозможно дать ответ\n",
        "4. Программа выдаст ошибку\n",
        "\n"
      ],
      "metadata": {
        "id": "VJZuJcAAX2Td"
      }
    },
    {
      "cell_type": "code",
      "source": [
        "N = int(input(\"Введите целое число \"))\n",
        "if N <= -10 or N > 15:\n",
        "  print(\"Принадлежит\")\n",
        "else:\n",
        "  print(\"Не принадлежит\")\n"
      ],
      "metadata": {
        "colab": {
          "base_uri": "https://localhost:8080/"
        },
        "id": "yfW9QUXaOxCT",
        "outputId": "21d0bf7c-86d4-4c42-d3a9-4e44f4bcf8fa"
      },
      "execution_count": null,
      "outputs": [
        {
          "output_type": "stream",
          "name": "stdout",
          "text": [
            "Введите целое число 15\n",
            "Не принадлежит\n"
          ]
        }
      ]
    },
    {
      "cell_type": "code",
      "source": [],
      "metadata": {
        "id": "tbXP4b64PN_u"
      },
      "execution_count": null,
      "outputs": []
    },
    {
      "cell_type": "markdown",
      "source": [
        "## Задача №5\n",
        "\n",
        "**Условие:** Напишите программу, которая принимает целое число N и определяет, принадлежит ли данное число указанным промежуткам: от -3 до 10 включительно и от 35 до 70.\n",
        "\n",
        "**Данные для получения ответа:**\n",
        "-3\n",
        "\n",
        "**Варианты ответа для Canvas:**\n",
        "\n",
        "\n",
        "1. Принадлежит\n",
        "2. Не принадлежит\n",
        "3. Невозможно дать ответ\n",
        "4. Программа выдаст ошибку\n",
        "\n"
      ],
      "metadata": {
        "id": "Muk2CUktYmUk"
      }
    },
    {
      "cell_type": "code",
      "source": [
        "N = int(input(\"Введите целое число \"))\n",
        "if (N > -3 and N<= 10) or (N > 35 and N < 70):\n",
        "  print(\"Принадлежит\")\n",
        "else:\n",
        "  print(\"Не принадлежит\")"
      ],
      "metadata": {
        "colab": {
          "base_uri": "https://localhost:8080/"
        },
        "id": "ATAW_51-RRk4",
        "outputId": "02486be9-a374-40d5-853d-5b060096b12b"
      },
      "execution_count": null,
      "outputs": [
        {
          "output_type": "stream",
          "name": "stdout",
          "text": [
            "Введите целое число -3\n",
            "Не принадлежит\n"
          ]
        }
      ]
    },
    {
      "cell_type": "markdown",
      "source": [
        "## Задача №6\n",
        "\n",
        "**Условие:** Напишите программу, которая определяет, является ли год с данным номером високосным. Если год является високосным, то выведите «Високосный», иначе выведите «Не високосный».\n",
        "\n",
        "**Данные для получения ответа:**\n",
        "1984\n",
        "1998\n",
        "2002\n",
        "2004\n",
        "\n",
        "**Варианты ответа для Canvas:**\n",
        "\n",
        "\n",
        "1. Високосный, Високосный, Високосный, Високосный\n",
        "2. Високосный, Не високосный, Не високосный, Високосный\n",
        "3. Не високосный, Не високосный, Високосный, Високосный\n",
        "4. Високосный, Високосный, Не високосный, Високосный\n",
        "\n"
      ],
      "metadata": {
        "id": "h1SQFk5RZDuu"
      }
    },
    {
      "cell_type": "code",
      "source": [
        "user_inputs = input(\"Введите годы через пробелы: \")\n",
        "years = user_inputs.split()\n",
        "\n",
        "years = list(map(int, years))\n",
        "\n",
        "years_result = []\n",
        "for year in years:\n",
        "  if year % 4 == 0:\n",
        "    if year % 100 == 0:\n",
        "      if year % 400 == 0:\n",
        "        years_result.append(\"Високосный\") \n",
        "      else:\n",
        "        years_result.append(\"Не високосный\")\n",
        "    else:\n",
        "      years_result.append(\"Високосный\") \n",
        "  else:\n",
        "    years_result.append(\"Не високосный\")\n",
        "\n",
        "print(\", \".join(years_result))\n"
      ],
      "metadata": {
        "colab": {
          "base_uri": "https://localhost:8080/"
        },
        "id": "hljQyjf3Szeb",
        "outputId": "cc592e1c-8537-41c0-bd32-e7d68227f09a"
      },
      "execution_count": null,
      "outputs": [
        {
          "output_type": "stream",
          "name": "stdout",
          "text": [
            "Введите годы через пробелы: 1984 1998 2002 2004\n",
            "Високосный, Не високосный, Не високосный, Високосный\n"
          ]
        }
      ]
    },
    {
      "cell_type": "markdown",
      "source": [
        "## Задача №7\n",
        "\n",
        "**Условие:**  Преподавателю необходимо распределить студентов для сдачи экзамена по 2-ум аудиториям. Если количество студентов является нечетным числом, то преподаватель округлит количество студентов во второй аудитории в большую сторону. Помогите подсчитать количество студентов во второй аудитории.\n",
        "\n",
        "**Данные для получения ответа:**\n",
        "579\n",
        "\n",
        "**Варианты ответа для Canvas:**\n",
        "\n",
        "\n",
        "1. 289\n",
        "2. 290\n",
        "3. 289.5\n",
        "4. 291\n",
        "\n"
      ],
      "metadata": {
        "id": "j8lKmXffaG44"
      }
    },
    {
      "cell_type": "code",
      "source": [
        "students = int(input(\"Количество студентов: \"))\n",
        "if students % 2 != 0:\n",
        "  students2 = students - students // 2\n",
        "  print(students2)\n",
        "else:\n",
        "  print(\"Студентов равное количество\")\n"
      ],
      "metadata": {
        "id": "LeJNUJ-2qVGf",
        "colab": {
          "base_uri": "https://localhost:8080/"
        },
        "outputId": "b3d72978-356b-4bd9-975d-4dd19d9995b2"
      },
      "execution_count": null,
      "outputs": [
        {
          "output_type": "stream",
          "name": "stdout",
          "text": [
            "Количество студентов: 571\n",
            "286\n"
          ]
        }
      ]
    },
    {
      "cell_type": "markdown",
      "source": [],
      "metadata": {
        "id": "SaKl5w6PqW2J"
      }
    }
  ]
}