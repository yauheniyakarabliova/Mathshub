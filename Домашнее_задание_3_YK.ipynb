{
  "nbformat": 4,
  "nbformat_minor": 0,
  "metadata": {
    "colab": {
      "provenance": [],
      "include_colab_link": true
    },
    "kernelspec": {
      "name": "python3",
      "display_name": "Python 3"
    },
    "language_info": {
      "name": "python"
    }
  },
  "cells": [
    {
      "cell_type": "markdown",
      "metadata": {
        "id": "view-in-github",
        "colab_type": "text"
      },
      "source": [
        "<a href=\"https://colab.research.google.com/github/yauheniyakarabliova/Mathshub/blob/main/%D0%94%D0%BE%D0%BC%D0%B0%D1%88%D0%BD%D0%B5%D0%B5_%D0%B7%D0%B0%D0%B4%D0%B0%D0%BD%D0%B8%D0%B5_3_YK.ipynb\" target=\"_parent\"><img src=\"https://colab.research.google.com/assets/colab-badge.svg\" alt=\"Open In Colab\"/></a>"
      ]
    },
    {
      "cell_type": "markdown",
      "source": [
        "# Домашнее задание №3"
      ],
      "metadata": {
        "id": "ZEfFasFJqw1A"
      }
    },
    {
      "cell_type": "markdown",
      "source": [
        "Во всех задачах для ввода данных используйте `input()`, а для вывода данных используйте `print()`"
      ],
      "metadata": {
        "id": "DCG5sNU051Re"
      }
    },
    {
      "cell_type": "markdown",
      "source": [
        "## Задача №1\n",
        "\n",
        "**Условие:** Необходимо ввести с клавиатуры последовательность натуральных чисел, каждое число на новой строке. Последовательность завершается числом 0. Необходимо найти наибольший элемент в последовательности.\n",
        "\n",
        "**Пример для проверки:**  \n",
        "*Входные данные*     \n",
        "1                       \n",
        "8  \n",
        "4  \n",
        "0  \n",
        "*Выходные данные*   \n",
        "8\n"
      ],
      "metadata": {
        "id": "NFpHXzQ6qJxb"
      }
    },
    {
      "cell_type": "code",
      "source": [
        "a = int(input())\n",
        "lis = []\n",
        "while a != 0:\n",
        "  lis.append(a)\n",
        "  a = int(input())\n",
        "print(max(lis))"
      ],
      "metadata": {
        "colab": {
          "base_uri": "https://localhost:8080/"
        },
        "id": "Q28l9igSgUAy",
        "outputId": "ab2b0baf-4367-4aaa-a9ac-288bb132515d"
      },
      "execution_count": null,
      "outputs": [
        {
          "output_type": "stream",
          "name": "stdout",
          "text": [
            "1\n",
            "8\n",
            "4\n",
            "0\n",
            "8\n"
          ]
        }
      ]
    },
    {
      "cell_type": "markdown",
      "source": [
        "## Задача №2\n",
        "\n",
        "**Условие:** Дана строка. Необходимо удалить из этой строки все символы %. Для решения задачи используйте цикл.\n",
        "\n",
        "**Пример для проверки:**  \n",
        "*Входные данные*  \n",
        "GHRE%%%%fd%dfjkan%%fleo%%%%r%fe%  \n",
        "*Выходные данные*  \n",
        "GHREfddfjkanfleorfe\n",
        "\n",
        "\n"
      ],
      "metadata": {
        "id": "BXBB8FYxVrQ7"
      }
    },
    {
      "cell_type": "code",
      "source": [
        "#solution 1 using cycle \"for\"\n",
        "example_str = input()\n",
        "result = ''\n",
        "for i in example_str:\n",
        "  if i != \"%\":\n",
        "    result += i\n",
        "print(result)\n"
      ],
      "metadata": {
        "id": "bH8-aerpgFej",
        "colab": {
          "base_uri": "https://localhost:8080/"
        },
        "outputId": "0b45b95b-c79b-4d99-ee2a-bfac01e8a3ad"
      },
      "execution_count": null,
      "outputs": [
        {
          "output_type": "stream",
          "name": "stdout",
          "text": [
            "GHRE%%%%fd%dfjkan%%fleo%%%%r%fe%\n",
            "GHREfddfjkanfleorfe\n"
          ]
        }
      ]
    },
    {
      "cell_type": "code",
      "source": [
        "#solution 2 using built-in method replace()\n",
        "#replace() can be used for strings only\n",
        "print(input().replace(\"%\",\"\"))"
      ],
      "metadata": {
        "colab": {
          "base_uri": "https://localhost:8080/"
        },
        "id": "LyRg29TYj_o9",
        "outputId": "d6c4f6ad-a12d-44de-d53f-0eab06b86511"
      },
      "execution_count": null,
      "outputs": [
        {
          "output_type": "stream",
          "name": "stdout",
          "text": [
            "GHRE%%%%fd%dfjkan%%fleo%%%%r%fe%\n",
            "GHREfddfjkanfleorfe\n"
          ]
        }
      ]
    },
    {
      "cell_type": "markdown",
      "source": [
        "## Задача №3\n",
        "\n",
        "**Условие:** Даны два целых числа A и B (при этом A ≤ B). Выведите все числа от A включительно до B включительно (математическая запись - [A, B]).\n",
        "\n",
        "**Пример для проверки:**  \n",
        "*Входные данные*  \n",
        "1  \n",
        "10  \n",
        "*Выходные данные*  \n",
        "1 2 3 4 5 6 7 8 9 10\n",
        "\n"
      ],
      "metadata": {
        "id": "x8ciCybeW2xC"
      }
    },
    {
      "cell_type": "code",
      "source": [
        "a = int(input())\n",
        "b = int(input())\n",
        "for i in range (a, b +1):\n",
        "  print(i, end = \" \") #print(i, end = \" \") >> end is separator when you want to print results in one line"
      ],
      "metadata": {
        "colab": {
          "base_uri": "https://localhost:8080/"
        },
        "id": "ymoVmy4hk6FD",
        "outputId": "15fd0163-4210-482b-a91d-b6d86dfe4065"
      },
      "execution_count": null,
      "outputs": [
        {
          "output_type": "stream",
          "name": "stdout",
          "text": [
            "1\n",
            "20\n",
            "1 2 3 4 5 6 7 8 9 10 11 12 13 14 15 16 17 18 19 20 "
          ]
        }
      ]
    },
    {
      "cell_type": "markdown",
      "source": [
        "## Задача №4\n",
        "\n",
        "**Условие:** Необходимо ввести с клавиатуры 10 целых чисел. Вычислите сумму введенных чисел. \n",
        "\n",
        "**Пример для проверки:**  \n",
        "*Входные данные*  \n",
        "8  \n",
        "4  \n",
        "5  \n",
        "3  \n",
        "9  \n",
        "2  \n",
        "3   \n",
        "4  \n",
        "5  \n",
        "1  \n",
        "*Выходные данные*  \n",
        "44\n"
      ],
      "metadata": {
        "id": "VJZuJcAAX2Td"
      }
    },
    {
      "cell_type": "code",
      "source": [
        "#using \"for\"\n",
        "sum = 0\n",
        "for i in range (10):\n",
        "  number_input = int(input())\n",
        "  sum += number_input\n",
        "print(sum)\n"
      ],
      "metadata": {
        "colab": {
          "base_uri": "https://localhost:8080/"
        },
        "id": "8Du5DBddlxno",
        "outputId": "264dde2a-90e4-4a6f-fb50-a84397a166c6"
      },
      "execution_count": null,
      "outputs": [
        {
          "output_type": "stream",
          "name": "stdout",
          "text": [
            "8\n",
            "4\n",
            "5\n",
            "3\n",
            "9\n",
            "2\n",
            "3\n",
            "4\n",
            "5\n",
            "1\n",
            "44\n"
          ]
        }
      ]
    },
    {
      "cell_type": "code",
      "source": [
        "#using \"while\"\n",
        "counter = 0\n",
        "sum = 0\n",
        "while counter != 10:\n",
        "  counter += 1\n",
        "  i = int(input(f\"Insert {counter} number: \"))\n",
        "  sum += i\n",
        "print(sum)\n"
      ],
      "metadata": {
        "colab": {
          "base_uri": "https://localhost:8080/"
        },
        "id": "Owa0bmGgnEVR",
        "outputId": "f164251e-fcb7-4da3-c2f2-115abdb4ce25"
      },
      "execution_count": null,
      "outputs": [
        {
          "output_type": "stream",
          "name": "stdout",
          "text": [
            "Insert 1 number: 8\n",
            "Insert 2 number: 4\n",
            "Insert 3 number: 5\n",
            "Insert 4 number: 3\n",
            "Insert 5 number: 9\n",
            "Insert 6 number: 2\n",
            "Insert 7 number: 3\n",
            "Insert 8 number: 4\n",
            "Insert 9 number: 5\n",
            "Insert 10 number: 1\n",
            "44\n"
          ]
        }
      ]
    },
    {
      "cell_type": "markdown",
      "source": [
        "## Задача №5\n",
        "\n",
        "**Условие:** Факториалом числа n называется произведение 1 * 2 * ... * n. Обозначение: n!.\n",
        "Введите с клавиатуры натуральное число n. Вычислите значение n!. \n",
        "\n",
        "В решении задачи нельзя использовать математическую библиотеку math.\n",
        "\n",
        "**Пример для проверки:**  \n",
        "*Входные данные*  \n",
        "7  \n",
        "*Выходные данные*  \n",
        "5040\n",
        "\n"
      ],
      "metadata": {
        "id": "Muk2CUktYmUk"
      }
    },
    {
      "cell_type": "code",
      "source": [
        "result = 1\n",
        "n = int(input())\n",
        "for i in range (1, n+1):\n",
        "  result *= i\n",
        "print(result)"
      ],
      "metadata": {
        "colab": {
          "base_uri": "https://localhost:8080/"
        },
        "id": "pasQpNvToGBc",
        "outputId": "b2c01dc9-981a-43d2-fcdb-0992cc497429"
      },
      "execution_count": null,
      "outputs": [
        {
          "output_type": "stream",
          "name": "stdout",
          "text": [
            "12\n",
            "479001600\n"
          ]
        }
      ]
    }
  ]
}