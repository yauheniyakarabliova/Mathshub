{
  "nbformat": 4,
  "nbformat_minor": 0,
  "metadata": {
    "colab": {
      "provenance": [],
      "include_colab_link": true
    },
    "kernelspec": {
      "name": "python3",
      "display_name": "Python 3"
    },
    "language_info": {
      "name": "python"
    }
  },
  "cells": [
    {
      "cell_type": "markdown",
      "metadata": {
        "id": "view-in-github",
        "colab_type": "text"
      },
      "source": [
        "<a href=\"https://colab.research.google.com/github/yauheniyakarabliova/Mathshub/blob/main/YK_PY_Lesson_12_%D0%9F%D1%80%D0%B0%D0%BA%D1%82%D0%B8%D0%BA%D0%B0_3.ipynb\" target=\"_parent\"><img src=\"https://colab.research.google.com/assets/colab-badge.svg\" alt=\"Open In Colab\"/></a>"
      ]
    },
    {
      "cell_type": "markdown",
      "source": [
        "Привет! \n",
        "\n",
        "Это практическое занятие, которое пройдет в формате \"парного программирования\".\n",
        "\n",
        "Немного о правилах:\n",
        "\n",
        "\n",
        "*   Все участники практики разбиваются на группы по 2 человека\n",
        "*   Работа идет в индивидуальных комнатах Zoom\n",
        "* Ваша задача вместе разобраться и решить предложенные задачи\n",
        "* Преподаватель в течение практики будет перемещаться по комнатам и отвечать на ваши вопросы/давать комментарии\n",
        "\n",
        "Поехали!\n",
        "\n"
      ],
      "metadata": {
        "id": "grBrJrWwTMLg"
      }
    },
    {
      "cell_type": "markdown",
      "source": [
        "## Задача 1\n",
        "\n",
        "Напишите программу, запрашивающую у пользователя целые числа, пока он не оставит строку ввода пустой. После окончания ввода на экран должны быть выведены сначала все отрицательные числа, которые были введены, затем нулевые и только после этого положительные. \n",
        "\n",
        "Внутри каждой группы числа должны отображаться в той последовательности, в которой были введены пользователем. \n",
        "\n",
        "\n",
        "Например, если он ввел следующие числа: 3, -4, 1, 0, -1, 0 и -2, вывод должен оказаться таким: -4, -1, -2, 0, 0, 3 и 1. Каждое значение должно отображаться на новой строке."
      ],
      "metadata": {
        "id": "m5YZduTitcNd"
      }
    },
    {
      "cell_type": "code",
      "execution_count": null,
      "metadata": {
        "id": "q-Bg_oEMkD9C"
      },
      "outputs": [],
      "source": [
        "#number != \"\""
      ]
    },
    {
      "cell_type": "markdown",
      "source": [
        "## Задача 2\n",
        "\n",
        "Необходимо ввести числов N - количество чисел. Затем ввести с клавиатуры числа и добавить их в список. Далее необходимо получить кортеж уникальных элементов списка.\n",
        "\n",
        "Например, строка на вход: `[1, 2, 3, 3, 2]`  \n",
        "Кортеж на выходе: `(1, 2, 3)`"
      ],
      "metadata": {
        "id": "e11LXCYHthqp"
      }
    },
    {
      "cell_type": "code",
      "execution_count": null,
      "metadata": {
        "id": "1n9Ejk__thqq"
      },
      "outputs": [],
      "source": []
    },
    {
      "cell_type": "markdown",
      "source": [
        "## Задача 3\n",
        "\n",
        "Дан словарь с числовыми значениями. Необходимо их все перемножить и вывести на экран."
      ],
      "metadata": {
        "id": "_KtznBMQtiSB"
      }
    },
    {
      "cell_type": "code",
      "execution_count": null,
      "metadata": {
        "id": "m8Qs7LjStiSC"
      },
      "outputs": [],
      "source": [
        "my_dictionary = {'data1': 3, 'data2': 5, 'data3': -3, 'data4': 2}\n",
        "\n"
      ]
    }
  ]
}