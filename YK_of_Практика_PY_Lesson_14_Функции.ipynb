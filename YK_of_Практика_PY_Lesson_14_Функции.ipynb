{
  "nbformat": 4,
  "nbformat_minor": 0,
  "metadata": {
    "colab": {
      "provenance": [],
      "include_colab_link": true
    },
    "kernelspec": {
      "name": "python3",
      "display_name": "Python 3"
    },
    "language_info": {
      "name": "python"
    }
  },
  "cells": [
    {
      "cell_type": "markdown",
      "metadata": {
        "id": "view-in-github",
        "colab_type": "text"
      },
      "source": [
        "<a href=\"https://colab.research.google.com/github/yauheniyakarabliova/Mathshub/blob/main/YK_of_%D0%9F%D1%80%D0%B0%D0%BA%D1%82%D0%B8%D0%BA%D0%B0_PY_Lesson_14_%D0%A4%D1%83%D0%BD%D0%BA%D1%86%D0%B8%D0%B8.ipynb\" target=\"_parent\"><img src=\"https://colab.research.google.com/assets/colab-badge.svg\" alt=\"Open In Colab\"/></a>"
      ]
    },
    {
      "cell_type": "markdown",
      "source": [
        "# Функции в Python"
      ],
      "metadata": {
        "id": "PR_bYTVBM7lN"
      }
    },
    {
      "cell_type": "markdown",
      "source": [
        "## Определение функции"
      ],
      "metadata": {
        "id": "ZlHXJSg2NAjm"
      }
    },
    {
      "cell_type": "code",
      "source": [
        "def mult_two(x):\n",
        "  return x * 2\n",
        "\n",
        "#mult_two_1(7)\n",
        "\n",
        "result = mult_two(5)\n",
        "print(result)\n",
        "mult_two(5)"
      ],
      "metadata": {
        "colab": {
          "base_uri": "https://localhost:8080/"
        },
        "id": "AdaQeAXzdwG9",
        "outputId": "4f46fb44-9fc2-47b1-8b63-a9d555a20fc8"
      },
      "execution_count": null,
      "outputs": [
        {
          "output_type": "stream",
          "name": "stdout",
          "text": [
            "10\n"
          ]
        },
        {
          "output_type": "execute_result",
          "data": {
            "text/plain": [
              "10"
            ]
          },
          "metadata": {},
          "execution_count": 4
        }
      ]
    },
    {
      "cell_type": "markdown",
      "source": [
        "**Важно!** Сначала объявляем функцию, затем вызываем ее!"
      ],
      "metadata": {
        "id": "zyPH6WrqmWM6"
      }
    },
    {
      "cell_type": "code",
      "source": [
        "mult_two(7)"
      ],
      "metadata": {
        "colab": {
          "base_uri": "https://localhost:8080/"
        },
        "id": "VHSALpPQ9cc3",
        "outputId": "b340d753-0727-4727-c01b-64aa99482121"
      },
      "execution_count": null,
      "outputs": [
        {
          "output_type": "execute_result",
          "data": {
            "text/plain": [
              "14"
            ]
          },
          "metadata": {},
          "execution_count": 27
        }
      ]
    },
    {
      "cell_type": "code",
      "source": [
        "def special_print(special_string):\n",
        "  \"\"\"Вот так можно написать специальный комментарий для функции\"\"\"\n",
        "  print(f'{special_string} прямо сейчас на экране, вау!')\n",
        "\n",
        "special_print('Этот код')\n",
        "result = special_print('Этот код')\n",
        "print(result)"
      ],
      "metadata": {
        "colab": {
          "base_uri": "https://localhost:8080/"
        },
        "id": "VI-PFCSzeI-E",
        "outputId": "2b525e51-68b4-4656-f800-f1d3f1907f2d"
      },
      "execution_count": null,
      "outputs": [
        {
          "output_type": "stream",
          "name": "stdout",
          "text": [
            "Этот код прямо сейчас на экране, вау!\n",
            "Этот код прямо сейчас на экране, вау!\n",
            "None\n"
          ]
        }
      ]
    },
    {
      "cell_type": "code",
      "source": [
        "import sys\n",
        "\n",
        "sys.getsizeof(\"\"\"\"\"\")"
      ],
      "metadata": {
        "colab": {
          "base_uri": "https://localhost:8080/"
        },
        "id": "cDp64jM_IJeL",
        "outputId": "f9222d90-67f2-4bf3-ec2d-026847d2b32e"
      },
      "execution_count": null,
      "outputs": [
        {
          "output_type": "execute_result",
          "data": {
            "text/plain": [
              "78"
            ]
          },
          "metadata": {},
          "execution_count": 6
        }
      ]
    },
    {
      "cell_type": "code",
      "source": [
        "set_example = {1,2,3}"
      ],
      "metadata": {
        "id": "kiRCQlP3JDHB"
      },
      "execution_count": null,
      "outputs": []
    },
    {
      "cell_type": "code",
      "source": [],
      "metadata": {
        "id": "mLWrYgf6JSyE"
      },
      "execution_count": null,
      "outputs": []
    },
    {
      "cell_type": "code",
      "source": [
        "def fib(n): # числа Фибоначчи до n\n",
        "    \"\"\"Возвращает список чисел Фибоначчи до n.\"\"\"\n",
        "    result = []\n",
        "    a, b = 0, 1\n",
        "    while a < n:\n",
        "        result.append(a)\n",
        "        a, b = b, a + b\n",
        "    return result\n",
        "\n",
        "\n",
        "fibonachi = fib(100) # вызываем функцию\n",
        "fibonachi"
      ],
      "metadata": {
        "colab": {
          "base_uri": "https://localhost:8080/"
        },
        "id": "t0BjA-offUvN",
        "outputId": "d9de93d0-8cc1-43b3-e41c-dffdca7acca3"
      },
      "execution_count": null,
      "outputs": [
        {
          "output_type": "execute_result",
          "data": {
            "text/plain": [
              "[0, 1, 1, 2, 3, 5, 8, 13, 21, 34, 55, 89]"
            ]
          },
          "metadata": {},
          "execution_count": 6
        }
      ]
    },
    {
      "cell_type": "code",
      "source": [
        "name = 'Максим'\n",
        "age = '18'\n",
        "date = '22-02-2023'\n",
        "print('Привет!')\n",
        "print(f'Твое имя: {name}')\n",
        "print(f'Твой возраст: {age}')\n",
        "print(f'Используй этот промокод на скидку до: {date}')"
      ],
      "metadata": {
        "colab": {
          "base_uri": "https://localhost:8080/"
        },
        "id": "z9iJVK9FfuF7",
        "outputId": "3e5a3ff1-6cd4-4316-d02a-c0571facc3d3"
      },
      "execution_count": null,
      "outputs": [
        {
          "output_type": "stream",
          "name": "stdout",
          "text": [
            "Привет!\n",
            "Твое имя: Максим\n",
            "Твой возраст: 18\n",
            "Используй этот промокод на скидку до: 22-02-2023\n"
          ]
        }
      ]
    },
    {
      "cell_type": "code",
      "source": [
        "def promocode_printing(name, age, date):\n",
        "  print('Привет')\n",
        "  print(f'Твое имя: {name}')\n",
        "  print(f'Твой возраст: {age}')\n",
        "  print(f'Используй этот промокод на скидку до: {date}')\n",
        "\n",
        "promocode_printing('Олег', '22', '22-03-2023')"
      ],
      "metadata": {
        "colab": {
          "base_uri": "https://localhost:8080/"
        },
        "id": "djExDOasgPz5",
        "outputId": "83231438-d8b6-4f08-a1b1-f85300aa9c8f"
      },
      "execution_count": null,
      "outputs": [
        {
          "output_type": "stream",
          "name": "stdout",
          "text": [
            "Привет\n",
            "Твое имя: Олег\n",
            "Твой возраст: 22\n",
            "Используй этот промокод на скидку до: 22-03-2023\n"
          ]
        }
      ]
    },
    {
      "cell_type": "code",
      "source": [
        "def promocode_printing(name, age, date):\n",
        "  return 'Привет\\n',f'Твое имя: {name}\\n',f'Твой возраст: {age}\\n',f'Используй этот промокод на скидку до: {date}\\n'\n",
        "\n",
        "promocode_printing('Олег', '22', '22-03-2023')"
      ],
      "metadata": {
        "colab": {
          "base_uri": "https://localhost:8080/"
        },
        "id": "MacGiiTAgxIZ",
        "outputId": "0c587c7c-987e-4017-fd6c-1aac7b139834"
      },
      "execution_count": null,
      "outputs": [
        {
          "output_type": "execute_result",
          "data": {
            "text/plain": [
              "('Привет/n',\n",
              " 'Твое имя: Олег/n',\n",
              " 'Твой возраст: 22/n',\n",
              " 'Используй этот промокод на скидку до: 22-03-2023/n')"
            ]
          },
          "metadata": {},
          "execution_count": 9
        }
      ]
    },
    {
      "cell_type": "markdown",
      "source": [
        "## Области видимости\n",
        "\n",
        "\n",
        "\n",
        "*   local\n",
        "*   nonlocal\n",
        "* global\n",
        "\n"
      ],
      "metadata": {
        "id": "_hl8ANepe93s"
      }
    },
    {
      "cell_type": "code",
      "source": [
        "x = 10 #глобальная пееременная\n",
        "\n",
        "def test():\n",
        "  x = 5 #локальная переменная\n",
        "  x += 1\n",
        "  print(x)\n",
        "\n",
        "print(x)\n",
        "test()"
      ],
      "metadata": {
        "colab": {
          "base_uri": "https://localhost:8080/"
        },
        "id": "7J-LXP70Bk4P",
        "outputId": "a1a7f4b8-bac2-4392-eff1-bd67928b6944"
      },
      "execution_count": null,
      "outputs": [
        {
          "output_type": "stream",
          "name": "stdout",
          "text": [
            "10\n",
            "6\n"
          ]
        }
      ]
    },
    {
      "cell_type": "code",
      "source": [
        "def scope_test():\n",
        "    def do_local():\n",
        "        test = \"local test\"\n",
        "\n",
        "    def do_nonlocal():\n",
        "        nonlocal test\n",
        "        test = \"nonlocal test\"\n",
        "\n",
        "    def do_global():\n",
        "        global test\n",
        "        test = \"global test\"\n",
        "\n",
        "    test = \"test spam\"\n",
        "    do_local()\n",
        "    print(\"После локального присваивания:\", test)\n",
        "    do_nonlocal()\n",
        "    print(\"После нелокального присваивания:\", test)\n",
        "    do_global()\n",
        "    print(\"После глобального присваивания:\", test)\n",
        "\n",
        "scope_test()\n",
        "print(\"В глобальной области видимости:\", test)"
      ],
      "metadata": {
        "colab": {
          "base_uri": "https://localhost:8080/"
        },
        "id": "1tOZTiDgftEg",
        "outputId": "3ae62320-9d05-48ce-ce47-d929dc5a9ef6"
      },
      "execution_count": null,
      "outputs": [
        {
          "output_type": "stream",
          "name": "stdout",
          "text": [
            "После локального присваивания: test spam\n",
            "После нелокального присваивания: nonlocal test\n",
            "После глобального присваивания: nonlocal test\n",
            "В глобальной области видимости: global test\n"
          ]
        }
      ]
    },
    {
      "cell_type": "code",
      "source": [
        "#глобальная область видимости\n",
        "candy = 5\n",
        "\n",
        "def get_candy():\n",
        "    global candy \n",
        "    candy += 1\n",
        "    print(f'У меня {candy}  конфет.')\n",
        "    \n",
        "get_candy()\n",
        "print(candy)\n",
        "get_candy()\n",
        "print(candy)"
      ],
      "metadata": {
        "colab": {
          "base_uri": "https://localhost:8080/"
        },
        "id": "lrOQMaqJuqxJ",
        "outputId": "ad91d851-3b7c-4a0d-8113-572cff20e3e1"
      },
      "execution_count": null,
      "outputs": [
        {
          "output_type": "stream",
          "name": "stdout",
          "text": [
            "У меня 6  конфет.\n",
            "6\n",
            "У меня 7  конфет.\n",
            "7\n"
          ]
        }
      ]
    },
    {
      "cell_type": "code",
      "source": [
        "#нелокальная область видимости\n",
        "def get_candy():\n",
        "    candy = 5\n",
        "    def increment_candy(): \n",
        "        nonlocal candy\n",
        "        candy += 1\n",
        "        return candy\n",
        "    return increment_candy\n",
        "    \n",
        "result = get_candy()()\n",
        "print(f'Всего {result} конфет.')"
      ],
      "metadata": {
        "colab": {
          "base_uri": "https://localhost:8080/"
        },
        "id": "ATy2GFH7hxhI",
        "outputId": "fa36c86d-4062-4bc5-eae4-bc698ee828b9"
      },
      "execution_count": null,
      "outputs": [
        {
          "output_type": "stream",
          "name": "stdout",
          "text": [
            "Всего 6 конфет.\n"
          ]
        }
      ]
    },
    {
      "cell_type": "markdown",
      "source": [
        "## Аргументы"
      ],
      "metadata": {
        "id": "xcUZ0A75nNZR"
      }
    },
    {
      "cell_type": "code",
      "source": [
        "#позиционные аргументы\n",
        "example_list = [1,4,5]\n",
        "example_string = 'Hello!'\n",
        "def position_arguments(argument_1,argument_2):\n",
        "  print(argument_1)\n",
        "  print(argument_2)\n",
        "\n",
        "#position_arguments(example_list,example_string)\n",
        "position_arguments('Hello!',[1,4,5])"
      ],
      "metadata": {
        "id": "CBl1kWqsvj5V",
        "colab": {
          "base_uri": "https://localhost:8080/"
        },
        "outputId": "c49e0ae3-adc0-4064-a363-044804a8836c"
      },
      "execution_count": null,
      "outputs": [
        {
          "output_type": "stream",
          "name": "stdout",
          "text": [
            "Hello!\n",
            "[1, 4, 5]\n"
          ]
        }
      ]
    },
    {
      "cell_type": "code",
      "source": [
        "#именованные аргументы\n",
        "def print_info(name='Вася',surname='Петров'):\n",
        "  print(name,surname)\n",
        "\n",
        "print_info()\n",
        "#print_info('Петя','Иванов')\n",
        "print_info(surname='Иванов', name='Петя')"
      ],
      "metadata": {
        "colab": {
          "base_uri": "https://localhost:8080/"
        },
        "id": "9J-Z0s5TwF9h",
        "outputId": "63f8cfc5-c42e-4be2-b3b5-3625edbfba9d"
      },
      "execution_count": null,
      "outputs": [
        {
          "output_type": "stream",
          "name": "stdout",
          "text": [
            "Вася Петров\n",
            "Петя Иванов\n"
          ]
        }
      ]
    },
    {
      "cell_type": "code",
      "source": [
        "#необязательные параметры\n",
        "def test_arg(y,x='Good'):\n",
        "  print(x,y)\n",
        "\n",
        "test_arg(10)\n",
        "\n",
        "test_arg(45,5)"
      ],
      "metadata": {
        "colab": {
          "base_uri": "https://localhost:8080/"
        },
        "id": "RzOoG-t4wc3p",
        "outputId": "dade285b-e138-4cc5-f182-ea42180a366d"
      },
      "execution_count": null,
      "outputs": [
        {
          "output_type": "stream",
          "name": "stdout",
          "text": [
            "Good 10\n",
            "5 45\n"
          ]
        }
      ]
    },
    {
      "cell_type": "code",
      "source": [
        "#аргументы переменной длины\n",
        "def changeable(*args):\n",
        "  print(args)\n",
        "\n",
        "def changeable_too(**kwargs):\n",
        "  print(kwargs)\n",
        "\n",
        "changeable(1,'2','hello',[92,36])\n",
        "changeable_too(first='nothing', second='else', third='matters')"
      ],
      "metadata": {
        "colab": {
          "base_uri": "https://localhost:8080/"
        },
        "id": "TM-XgeVpnhjm",
        "outputId": "41ecfd20-c1a7-47e1-be9e-e15ed5747005"
      },
      "execution_count": null,
      "outputs": [
        {
          "output_type": "stream",
          "name": "stdout",
          "text": [
            "(1, '2', 'hello', [92, 36])\n",
            "{'first': 'nothing', 'second': 'else', 'third': 'matters'}\n"
          ]
        }
      ]
    },
    {
      "cell_type": "code",
      "source": [
        "#неизменяемые объекты передаются в функцию по значению\n",
        "#числовые типы данных, строки, кортежи\n",
        "\n",
        "num = 42\n",
        "\n",
        "def some_function(n):\n",
        "    # в \"n\" передается значение переменной num (42)\n",
        "    n = n + 10\n",
        "    print(n)\n",
        "\n",
        "\n",
        "some_function(num)\n",
        "print(num)  # \"num\" по прежнему содержит 42"
      ],
      "metadata": {
        "colab": {
          "base_uri": "https://localhost:8080/"
        },
        "id": "cVps57FzovLg",
        "outputId": "8cda6ebf-6410-47e4-8b14-1d820de0b344"
      },
      "execution_count": null,
      "outputs": [
        {
          "output_type": "stream",
          "name": "stdout",
          "text": [
            "52\n",
            "42\n"
          ]
        }
      ]
    },
    {
      "cell_type": "code",
      "source": [
        "#изменяемые объекты передаются в фукнцию по ссылке\n",
        "#списки, множества, словари\n",
        "\n",
        "num = [42, 43, 44]\n",
        "\n",
        "def some_function(n):\n",
        "    # в \"n\" передается ссылка на переменную \"num\". \n",
        "    # \"n\" и \"num\" ссылаются на один и тот же объект\n",
        "    n[0] = 0\n",
        "    print(n)\n",
        "\n",
        "\n",
        "some_function(num)\n",
        "print(num)  # \"num\" изменился"
      ],
      "metadata": {
        "colab": {
          "base_uri": "https://localhost:8080/"
        },
        "id": "ZmODiW5VoYF6",
        "outputId": "724815b3-58ff-4ef2-ad34-272b1e44e5d1"
      },
      "execution_count": null,
      "outputs": [
        {
          "output_type": "stream",
          "name": "stdout",
          "text": [
            "[0, 43, 44]\n",
            "[0, 43, 44]\n"
          ]
        }
      ]
    },
    {
      "cell_type": "code",
      "source": [
        "#словарь для аргументов\n",
        "def arg_dict(**arguments):\n",
        "    print(arguments)\n",
        "\n",
        "arg_dict(key='value')"
      ],
      "metadata": {
        "colab": {
          "base_uri": "https://localhost:8080/"
        },
        "id": "pye8H9KdpB6-",
        "outputId": "862607be-8ddb-47df-a9ca-96b9df658651"
      },
      "execution_count": null,
      "outputs": [
        {
          "output_type": "stream",
          "name": "stdout",
          "text": [
            "{'key': 'value'}\n"
          ]
        }
      ]
    },
    {
      "cell_type": "markdown",
      "source": [
        "## return"
      ],
      "metadata": {
        "id": "rdY1PkHcpPDk"
      }
    },
    {
      "cell_type": "code",
      "source": [
        "#можно возвращать сразу несколько значений\n",
        "\n",
        "def sum_func(a,b):\n",
        "  return a,b,a+b\n",
        "\n",
        "sum_func(5,4) #будет возвращен кортеж"
      ],
      "metadata": {
        "colab": {
          "base_uri": "https://localhost:8080/"
        },
        "id": "OmJBe6VspRkw",
        "outputId": "1f80004c-0871-4f25-8900-4f77e9c80f31"
      },
      "execution_count": null,
      "outputs": [
        {
          "output_type": "execute_result",
          "data": {
            "text/plain": [
              "(5, 4, 9)"
            ]
          },
          "metadata": {},
          "execution_count": 6
        }
      ]
    },
    {
      "cell_type": "code",
      "source": [
        "def sum_func(a,b):\n",
        "  return a,b,a+b\n",
        "\n",
        "a, b, sum = sum_func(5,4) #должно совпадать количество переменных и количество возвращаемых значений\n",
        "#a, b, sum = (5, 4, 9)\n",
        "print(a, b, sum)"
      ],
      "metadata": {
        "colab": {
          "base_uri": "https://localhost:8080/"
        },
        "id": "u4YPWzZapkHd",
        "outputId": "c3bd6a84-8831-48c2-a704-6cfd46bbc166"
      },
      "execution_count": null,
      "outputs": [
        {
          "output_type": "stream",
          "name": "stdout",
          "text": [
            "5 4 9\n"
          ]
        }
      ]
    },
    {
      "cell_type": "code",
      "source": [
        "#пустая функция\n",
        "\n",
        "def a_little_bit_later():\n",
        "  pass"
      ],
      "metadata": {
        "id": "2vYkiNp_p203"
      },
      "execution_count": null,
      "outputs": []
    },
    {
      "cell_type": "markdown",
      "source": [
        "## Аннотация типов*"
      ],
      "metadata": {
        "id": "zfrAj-lqqBYX"
      }
    },
    {
      "cell_type": "code",
      "source": [
        "def mult(a: int, b: int) -> float: #интерпретатор считывает аннотации типов, но никак их не обрабатывает\n",
        "    return a * b\n",
        "\n",
        "mult(5.0, 6)"
      ],
      "metadata": {
        "colab": {
          "base_uri": "https://localhost:8080/"
        },
        "id": "jTlDkxNpqFsq",
        "outputId": "fc519ebf-00e8-492c-a87f-ee47d3ba8763"
      },
      "execution_count": null,
      "outputs": [
        {
          "output_type": "execute_result",
          "data": {
            "text/plain": [
              "30.0"
            ]
          },
          "metadata": {},
          "execution_count": 12
        }
      ]
    },
    {
      "cell_type": "markdown",
      "source": [
        "## Время выполнения фукнции*"
      ],
      "metadata": {
        "id": "aR2jcVAVqdCH"
      }
    },
    {
      "cell_type": "code",
      "source": [
        "from datetime import datetime\n",
        "import time\n",
        "\n",
        "start_time = datetime.now()\n",
        "mult(5, 6)\n",
        "time.sleep(5)\n",
        "\n",
        "print(datetime.now() - start_time)"
      ],
      "metadata": {
        "colab": {
          "base_uri": "https://localhost:8080/"
        },
        "id": "0C6dl_DpqcNB",
        "outputId": "14d17106-4dc4-4b72-b1ca-00e6dd249dfb"
      },
      "execution_count": null,
      "outputs": [
        {
          "output_type": "stream",
          "name": "stdout",
          "text": [
            "0:00:05.002328\n"
          ]
        }
      ]
    },
    {
      "cell_type": "markdown",
      "source": [
        "## Вложенные фукнции и рекурсия"
      ],
      "metadata": {
        "id": "WwvfycJoqoKA"
      }
    },
    {
      "cell_type": "code",
      "source": [
        "def outerFunc():\n",
        "    def firstInner():\n",
        "        print('This is first inner function')\n",
        "\n",
        "    def secondInner():\n",
        "        print('This is second inner function')\n",
        "\n",
        "    firstInner()\n",
        "    secondInner()\n",
        "\n",
        "outerFunc()"
      ],
      "metadata": {
        "colab": {
          "base_uri": "https://localhost:8080/"
        },
        "id": "WInqARyNqquS",
        "outputId": "8b9bbef6-efde-4c23-cb0e-2c7795c35dc2"
      },
      "execution_count": null,
      "outputs": [
        {
          "output_type": "stream",
          "name": "stdout",
          "text": [
            "This is first inner function\n",
            "This is second inner function\n"
          ]
        }
      ]
    },
    {
      "cell_type": "markdown",
      "source": [
        "**Рекурсия** - фукнция может вызвать не только другую фукнцию, но и саму себя\n",
        "\n",
        "Плюсы: сокращается количество кода, выше производительность   \n",
        "Минусы: замедление работы, если рекурсия реализована неправильно"
      ],
      "metadata": {
        "id": "EuxDMMEGq9N3"
      }
    },
    {
      "cell_type": "code",
      "source": [
        "def sum_from_one(num):\n",
        "    if num == 1:\n",
        "        return 1\n",
        "    return num + sum_from_one(num - 1)\n",
        "\n",
        "\n",
        "print(sum_from_one(2))"
      ],
      "metadata": {
        "colab": {
          "base_uri": "https://localhost:8080/"
        },
        "id": "_x7DmXMjq0ke",
        "outputId": "fe47fbed-f780-4a3a-95bd-22a8e41988a9"
      },
      "execution_count": null,
      "outputs": [
        {
          "output_type": "stream",
          "name": "stdout",
          "text": [
            "3\n"
          ]
        }
      ]
    },
    {
      "cell_type": "code",
      "source": [
        "def factorial_recursive(n):\n",
        "    if n == 1:\n",
        "        return n\n",
        "    else:\n",
        "        return n*factorial_recursive(n-1)\n",
        "\n",
        "factorial_recursive(3)"
      ],
      "metadata": {
        "colab": {
          "base_uri": "https://localhost:8080/"
        },
        "id": "roFqaoVbrO7v",
        "outputId": "e34978a4-0ddd-4be1-d40c-a90cf9eac359"
      },
      "execution_count": null,
      "outputs": [
        {
          "output_type": "execute_result",
          "data": {
            "text/plain": [
              "6"
            ]
          },
          "metadata": {},
          "execution_count": 27
        }
      ]
    },
    {
      "cell_type": "markdown",
      "source": [
        "### Как это работает?"
      ],
      "metadata": {
        "id": "BfyMpph5sKXA"
      }
    },
    {
      "cell_type": "markdown",
      "source": [
        "```\n",
        "# Первый вызов\n",
        "factorial_recursive(3):\n",
        "    if 3 == 1:\n",
        "        return 3\n",
        "    else:\n",
        "        return 3*factorial_recursive(3-1)\n",
        "\n",
        "# Второй вызов\n",
        "factorial_recursive(2):\n",
        "    if 2 == 1:\n",
        "        return 2\n",
        "    else:\n",
        "        return 2*factorial_recursive(2-1)\n",
        "\n",
        "# Третий вызов\n",
        "factorial_recursive(1):\n",
        "    if 1 == 1:\n",
        "        return 1\n",
        "    else:\n",
        "        return 1*factorial_recursive(1-1)\n",
        "\n",
        "```\n",
        "\n"
      ],
      "metadata": {
        "id": "-U9W0ZKvsdzk"
      }
    },
    {
      "cell_type": "markdown",
      "source": [
        "## Задачи"
      ],
      "metadata": {
        "id": "EuAxXNfVO2_n"
      }
    },
    {
      "cell_type": "markdown",
      "source": [
        "Напишите функцию, которая будет определять количество различных чисел в списке"
      ],
      "metadata": {
        "id": "7x4fakgvafcZ"
      }
    },
    {
      "cell_type": "code",
      "source": [
        "def unique_numbers(numbers_list):\n",
        "  return len(set(numbers_list))\n",
        "\n",
        "example_list = [5,4,6,2,2,7,5,3,9,2,3,9] \n",
        "unique_numbers(example_list) "
      ],
      "metadata": {
        "colab": {
          "base_uri": "https://localhost:8080/"
        },
        "id": "sIJlXfCtajvJ",
        "outputId": "f8ea95a4-b488-4200-fa0c-fcdfc2e2457b"
      },
      "execution_count": null,
      "outputs": [
        {
          "output_type": "execute_result",
          "data": {
            "text/plain": [
              "7"
            ]
          },
          "metadata": {},
          "execution_count": 43
        }
      ]
    },
    {
      "cell_type": "markdown",
      "source": [
        "Даны четыре действительных числа: x1, y1, x2, y2. Напишите функцию distance(x1, y1, x2, y2), вычисляющая расстояние между точкой (x1,y1) и (x2,y2). Считайте четыре действительных числа и выведите результат работы этой функции."
      ],
      "metadata": {
        "id": "4b6saDmkxpQ7"
      }
    },
    {
      "cell_type": "code",
      "source": [
        "from math import sqrt\n",
        " \n",
        "def distance(x1, y1, x2, y2):\n",
        "    return sqrt((x1 - x2) ** 2 + (y1 - y2) ** 2)\n",
        " \n",
        "x1 = float(input())\n",
        "x2 = float(input())\n",
        "y1 = float(input())\n",
        "y2 = float(input())\n",
        "print(distance(x1, x2, y1, y2))"
      ],
      "metadata": {
        "colab": {
          "base_uri": "https://localhost:8080/"
        },
        "id": "kviTDV_qx5La",
        "outputId": "f4325764-74bd-4c3b-dedb-f48d2ac29187"
      },
      "execution_count": null,
      "outputs": [
        {
          "output_type": "stream",
          "name": "stdout",
          "text": [
            "3\n",
            "4\n",
            "5\n",
            "6\n",
            "2.8284271247461903\n"
          ]
        }
      ]
    },
    {
      "cell_type": "markdown",
      "source": [
        "Дано действительное положительное число a и целоe число n. Вычислите a**n. Решение оформите в виде функции power(a, n). Стандартной функцией возведения в степень пользоваться нельзя."
      ],
      "metadata": {
        "id": "Ow7Cwsc-yDTD"
      }
    },
    {
      "cell_type": "code",
      "source": [
        "def power(a, n):\n",
        "    res = 1\n",
        "    for i in range(abs(n)):\n",
        "        res *= a\n",
        "    if n >= 0:\n",
        "        return res\n",
        "    else:\n",
        "        return 1 / res\n",
        " \n",
        "print(power(float(input()), int(input())))"
      ],
      "metadata": {
        "colab": {
          "base_uri": "https://localhost:8080/"
        },
        "id": "0BTlk_aiykJ7",
        "outputId": "2f2e2ece-3c16-4ade-a986-d9d2fe978499"
      },
      "execution_count": null,
      "outputs": [
        {
          "output_type": "stream",
          "name": "stdout",
          "text": [
            "5\n",
            "-1\n",
            "0.2\n"
          ]
        }
      ]
    },
    {
      "cell_type": "markdown",
      "source": [
        "Напишите функцию sum_range(start, end), которая суммирует все целые числа от значения «start» до величины «end» включительно. \n",
        "Если пользователь задаст первое число большее чем второе, просто поменяйте их местами."
      ],
      "metadata": {
        "id": "w90ineqIzEyO"
      }
    },
    {
      "cell_type": "code",
      "source": [
        "def sum_range(start, end):\n",
        "    if start > end:\n",
        "        end, start = start, end\n",
        "    return sum(range(start, end + 1))\n",
        "\n",
        "print(sum_range(2, 12))\n",
        "print(sum_range(-4, 4))\n",
        "print(sum_range(3, 2))"
      ],
      "metadata": {
        "id": "qmspuPvEzFLq",
        "colab": {
          "base_uri": "https://localhost:8080/"
        },
        "outputId": "48351a52-3acc-43cc-ab97-c06ab20c82ae"
      },
      "execution_count": null,
      "outputs": [
        {
          "output_type": "stream",
          "name": "stdout",
          "text": [
            "77\n",
            "0\n",
            "5\n"
          ]
        }
      ]
    }
  ]
}