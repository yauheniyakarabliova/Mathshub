{
  "nbformat": 4,
  "nbformat_minor": 0,
  "metadata": {
    "colab": {
      "provenance": [],
      "include_colab_link": true
    },
    "kernelspec": {
      "name": "python3",
      "display_name": "Python 3"
    },
    "language_info": {
      "name": "python"
    }
  },
  "cells": [
    {
      "cell_type": "markdown",
      "metadata": {
        "id": "view-in-github",
        "colab_type": "text"
      },
      "source": [
        "<a href=\"https://colab.research.google.com/github/yauheniyakarabliova/Mathshub/blob/main/YK_Lesson_10_%D0%9F%D1%80%D0%B0%D0%BA%D1%82%D0%B8%D0%BA%D0%B0_%D0%A1%D1%82%D1%80%D1%83%D0%BA%D1%82%D1%83%D1%80%D1%8B_%D0%B4%D0%B0%D0%BD%D0%BD%D1%8B%D1%85_%D0%B2_Python(%D0%9F%D1%80%D0%BE%D0%B4%D0%BE%D0%BB%D0%B6%D0%B5%D0%BD%D0%B8%D0%B5).ipynb\" target=\"_parent\"><img src=\"https://colab.research.google.com/assets/colab-badge.svg\" alt=\"Open In Colab\"/></a>"
      ]
    },
    {
      "cell_type": "markdown",
      "source": [
        "# Структуры данных в Python"
      ],
      "metadata": {
        "id": "PR_bYTVBM7lN"
      }
    },
    {
      "cell_type": "markdown",
      "source": [
        "## Множество"
      ],
      "metadata": {
        "id": "ZlHXJSg2NAjm"
      }
    },
    {
      "cell_type": "code",
      "metadata": {
        "id": "FpVb09gc1eRb",
        "colab": {
          "base_uri": "https://localhost:8080/"
        },
        "outputId": "1bb4f1a3-7382-437c-955e-7334bc0822f5"
      },
      "source": [
        "new_set = {1,2,3,1,2,3}\n",
        "new_set"
      ],
      "execution_count": null,
      "outputs": [
        {
          "output_type": "execute_result",
          "data": {
            "text/plain": [
              "{1, 2, 3}"
            ]
          },
          "metadata": {},
          "execution_count": 1
        }
      ]
    },
    {
      "cell_type": "code",
      "source": [
        "set_test = {}\n",
        "set_test"
      ],
      "metadata": {
        "colab": {
          "base_uri": "https://localhost:8080/"
        },
        "id": "NEjXKfxolDjP",
        "outputId": "344df318-86ef-4f8c-b21f-03c9e63d8537"
      },
      "execution_count": null,
      "outputs": [
        {
          "output_type": "execute_result",
          "data": {
            "text/plain": [
              "{}"
            ]
          },
          "metadata": {},
          "execution_count": 1
        }
      ]
    },
    {
      "cell_type": "code",
      "source": [
        "type(new_set)"
      ],
      "metadata": {
        "colab": {
          "base_uri": "https://localhost:8080/"
        },
        "id": "kIMlmsyHfxz7",
        "outputId": "739d78bd-45a1-4399-ee68-53bdfd61e52a"
      },
      "execution_count": null,
      "outputs": [
        {
          "output_type": "execute_result",
          "data": {
            "text/plain": [
              "set"
            ]
          },
          "metadata": {},
          "execution_count": 75
        }
      ]
    },
    {
      "cell_type": "code",
      "metadata": {
        "id": "A8z6ZCnR1eRd",
        "colab": {
          "base_uri": "https://localhost:8080/"
        },
        "outputId": "5b8f95de-4e9c-4c65-b5b4-ee1d57edd095"
      },
      "source": [
        "new_another_set = set([3,1,2,1])\n",
        "print(new_another_set)"
      ],
      "execution_count": null,
      "outputs": [
        {
          "output_type": "stream",
          "name": "stdout",
          "text": [
            "{1, 2, 3}\n"
          ]
        }
      ]
    },
    {
      "cell_type": "code",
      "metadata": {
        "id": "JMtNP9z-1eRf",
        "colab": {
          "base_uri": "https://localhost:8080/"
        },
        "outputId": "2319da53-9823-41ab-829a-8d024cd57ac3"
      },
      "source": [
        "new_set == new_another_set"
      ],
      "execution_count": null,
      "outputs": [
        {
          "output_type": "execute_result",
          "data": {
            "text/plain": [
              "True"
            ]
          },
          "metadata": {},
          "execution_count": 4
        }
      ]
    },
    {
      "cell_type": "code",
      "metadata": {
        "id": "EYE2QjFZ1eRi",
        "colab": {
          "base_uri": "https://localhost:8080/"
        },
        "outputId": "53593726-3c80-4c3d-fe79-3a36e7e94ecb"
      },
      "source": [
        "print(set(range(15)))\n",
        "print(set('йцукенйууркрыойуееееццц'))"
      ],
      "execution_count": null,
      "outputs": [
        {
          "output_type": "stream",
          "name": "stdout",
          "text": [
            "{0, 1, 2, 3, 4, 5, 6, 7, 8, 9, 10, 11, 12, 13, 14}\n",
            "{'ы', 'о', 'у', 'н', 'к', 'р', 'й', 'ц', 'е'}\n"
          ]
        }
      ]
    },
    {
      "cell_type": "code",
      "metadata": {
        "id": "_Wdth9IW1eRk",
        "outputId": "07e1b283-94e7-455e-a7a8-c8d37a02170b",
        "colab": {
          "base_uri": "https://localhost:8080/"
        }
      },
      "source": [
        "diff_types_set = {1,'2',True,(1,2,3,4,'привет')}\n",
        "diff_types_set"
      ],
      "execution_count": null,
      "outputs": [
        {
          "output_type": "execute_result",
          "data": {
            "text/plain": [
              "{(1, 2, 3, 4, 'привет'), 1, '2'}"
            ]
          },
          "metadata": {},
          "execution_count": 1
        }
      ]
    },
    {
      "cell_type": "code",
      "metadata": {
        "id": "gz5Ln2nxdBu8",
        "colab": {
          "base_uri": "https://localhost:8080/"
        },
        "outputId": "c192f8ae-d9a8-4409-f286-15c82e9ad02f"
      },
      "source": [
        "diff_types_set = {1,'2',True,(1,2,3),tuple([1, 2])} \n",
        "diff_types_set"
      ],
      "execution_count": null,
      "outputs": [
        {
          "output_type": "execute_result",
          "data": {
            "text/plain": [
              "{(1, 2), (1, 2, 3), 1, '2'}"
            ]
          },
          "metadata": {},
          "execution_count": 6
        }
      ]
    },
    {
      "cell_type": "code",
      "source": [
        "diff_types_set.add(10)\n",
        "diff_types_set\n",
        "\n"
      ],
      "metadata": {
        "colab": {
          "base_uri": "https://localhost:8080/",
          "height": 190
        },
        "id": "CtJA0sWZKwro",
        "outputId": "e6f710bf-cfbf-4d77-c817-fc98bd28be55"
      },
      "execution_count": null,
      "outputs": [
        {
          "output_type": "error",
          "ename": "TypeError",
          "evalue": "ignored",
          "traceback": [
            "\u001b[0;31m---------------------------------------------------------------------------\u001b[0m",
            "\u001b[0;31mTypeError\u001b[0m                                 Traceback (most recent call last)",
            "\u001b[0;32m<ipython-input-9-ffc06e78e49e>\u001b[0m in \u001b[0;36m<module>\u001b[0;34m\u001b[0m\n\u001b[0;32m----> 1\u001b[0;31m \u001b[0mdiff_types_set\u001b[0m\u001b[0;34m.\u001b[0m\u001b[0madd\u001b[0m\u001b[0;34m(\u001b[0m\u001b[0;34m[\u001b[0m\u001b[0;36m5\u001b[0m\u001b[0;34m,\u001b[0m\u001b[0;36m6\u001b[0m\u001b[0;34m]\u001b[0m\u001b[0;34m)\u001b[0m\u001b[0;34m\u001b[0m\u001b[0;34m\u001b[0m\u001b[0m\n\u001b[0m\u001b[1;32m      2\u001b[0m \u001b[0mdiff_types_set\u001b[0m\u001b[0;34m\u001b[0m\u001b[0;34m\u001b[0m\u001b[0m\n",
            "\u001b[0;31mTypeError\u001b[0m: unhashable type: 'list'"
          ]
        }
      ]
    },
    {
      "cell_type": "code",
      "source": [
        "tuple_example = (1,2,3)\n",
        "diff_types_set.update(tuple_example)\n",
        "diff_types_set"
      ],
      "metadata": {
        "colab": {
          "base_uri": "https://localhost:8080/"
        },
        "id": "iAAAfsvvLU5d",
        "outputId": "b2aeee14-e970-43f6-e707-7c5f72ef0299"
      },
      "execution_count": null,
      "outputs": [
        {
          "output_type": "execute_result",
          "data": {
            "text/plain": [
              "{(1, 2), (1, 2, 3), 1, 10, 2, '2', 3}"
            ]
          },
          "metadata": {},
          "execution_count": 11
        }
      ]
    },
    {
      "cell_type": "markdown",
      "metadata": {
        "id": "nMsObOOt1eRm"
      },
      "source": [
        "### Операции"
      ]
    },
    {
      "cell_type": "code",
      "metadata": {
        "id": "CPI05yr6DZrd",
        "colab": {
          "base_uri": "https://localhost:8080/"
        },
        "outputId": "a4105f81-a349-442b-f0a2-3b9fe1eef62e"
      },
      "source": [
        "# Подмножество/Надмножество\n",
        "a = {0, 1}\n",
        "b = {1}\n",
        "a >= b"
      ],
      "execution_count": null,
      "outputs": [
        {
          "output_type": "execute_result",
          "data": {
            "text/plain": [
              "True"
            ]
          },
          "metadata": {},
          "execution_count": 82
        }
      ]
    },
    {
      "cell_type": "code",
      "metadata": {
        "id": "Jp9PsTN8Damj",
        "colab": {
          "base_uri": "https://localhost:8080/"
        },
        "outputId": "4ad61585-673c-46f4-afcb-b5a9272bfd1d"
      },
      "source": [
        "# Пересечение\n",
        "a = {0, 1}\n",
        "b = {1, 2}\n",
        "print (a & b)\n",
        "\n",
        "a &= b\n",
        "a"
      ],
      "execution_count": null,
      "outputs": [
        {
          "output_type": "stream",
          "name": "stdout",
          "text": [
            "{1}\n"
          ]
        },
        {
          "output_type": "execute_result",
          "data": {
            "text/plain": [
              "{1}"
            ]
          },
          "metadata": {},
          "execution_count": 83
        }
      ]
    },
    {
      "cell_type": "code",
      "metadata": {
        "id": "XuKjRovPDd1L",
        "colab": {
          "base_uri": "https://localhost:8080/"
        },
        "outputId": "be26041a-79c4-411c-cbd5-95ecb20bfde3"
      },
      "source": [
        "# Объединение\n",
        "a = {0, 1}\n",
        "b = {1, 2}\n",
        "a | b\n",
        "\n",
        "a |= b\n",
        "a"
      ],
      "execution_count": null,
      "outputs": [
        {
          "output_type": "execute_result",
          "data": {
            "text/plain": [
              "{0, 1, 2}"
            ]
          },
          "metadata": {},
          "execution_count": 84
        }
      ]
    },
    {
      "cell_type": "code",
      "metadata": {
        "id": "42l_q2VQDgNp",
        "colab": {
          "base_uri": "https://localhost:8080/"
        },
        "outputId": "4990a6e9-9c3d-4884-f4f1-90a81ad0034c"
      },
      "source": [
        "# Разность\n",
        "a = {0, 1}\n",
        "b = {1, 2}\n",
        "a - b\n",
        "\n",
        "a -= b\n",
        "a"
      ],
      "execution_count": null,
      "outputs": [
        {
          "output_type": "execute_result",
          "data": {
            "text/plain": [
              "{0}"
            ]
          },
          "metadata": {},
          "execution_count": 85
        }
      ]
    },
    {
      "cell_type": "code",
      "metadata": {
        "id": "udgtBhFmDjdu",
        "colab": {
          "base_uri": "https://localhost:8080/"
        },
        "outputId": "b23ef401-e7c3-4c4e-9414-20cab2c4178f"
      },
      "source": [
        "# Симметричная разность\n",
        "a = {0, 1}\n",
        "b = {1, 2}\n",
        "a ^ b\n",
        "\n",
        "a ^= b\n",
        "a"
      ],
      "execution_count": null,
      "outputs": [
        {
          "output_type": "execute_result",
          "data": {
            "text/plain": [
              "{0, 2}"
            ]
          },
          "metadata": {},
          "execution_count": 86
        }
      ]
    },
    {
      "cell_type": "code",
      "metadata": {
        "id": "VvAlhR0p1eRq",
        "colab": {
          "base_uri": "https://localhost:8080/"
        },
        "outputId": "dfaa84a8-f1c2-4477-b9a8-1a7181db9cf8"
      },
      "source": [
        "if 1 in {1,2,3}:\n",
        "    print('YES')"
      ],
      "execution_count": null,
      "outputs": [
        {
          "output_type": "stream",
          "name": "stdout",
          "text": [
            "YES\n"
          ]
        }
      ]
    },
    {
      "cell_type": "code",
      "metadata": {
        "id": "zO47qIQc1eRt"
      },
      "source": [
        "if 1 in {2,3} and {1,5}:\n",
        "    print('YES')"
      ],
      "execution_count": null,
      "outputs": []
    },
    {
      "cell_type": "code",
      "metadata": {
        "id": "622qxObp1eRv",
        "colab": {
          "base_uri": "https://localhost:8080/"
        },
        "outputId": "fc4e7c37-7c1d-4b66-d96b-5dc8fd31e887"
      },
      "source": [
        "if 1 in {2,3} or {1,5}:\n",
        "    print('YES')"
      ],
      "execution_count": null,
      "outputs": [
        {
          "output_type": "stream",
          "name": "stdout",
          "text": [
            "YES\n"
          ]
        }
      ]
    },
    {
      "cell_type": "code",
      "metadata": {
        "id": "vazpUAZD1eRx"
      },
      "source": [
        "if 1 in {1,2,3} - {1,5}:\n",
        "    print('YES')"
      ],
      "execution_count": null,
      "outputs": []
    },
    {
      "cell_type": "code",
      "metadata": {
        "id": "hx2DTgQO1eRy",
        "colab": {
          "base_uri": "https://localhost:8080/"
        },
        "outputId": "d8e25967-3968-44f6-cfe4-176c19e15162"
      },
      "source": [
        "if 1 in {2,3} ^ {1,5}:\n",
        "    print('YES')"
      ],
      "execution_count": null,
      "outputs": [
        {
          "output_type": "stream",
          "name": "stdout",
          "text": [
            "YES\n"
          ]
        }
      ]
    },
    {
      "cell_type": "markdown",
      "metadata": {
        "id": "Exsg1oDw1eR0"
      },
      "source": [
        "### Методы множеств"
      ]
    },
    {
      "cell_type": "code",
      "metadata": {
        "id": "G6LxTnW01eR0",
        "colab": {
          "base_uri": "https://localhost:8080/"
        },
        "outputId": "b44eb3bb-6ebe-4ebf-f6e1-9cf24050389b"
      },
      "source": [
        "sample_set = set(range(10))\n",
        "sample_set"
      ],
      "execution_count": null,
      "outputs": [
        {
          "output_type": "execute_result",
          "data": {
            "text/plain": [
              "{0, 1, 2, 3, 4, 5, 6, 7, 8, 9}"
            ]
          },
          "metadata": {},
          "execution_count": 11
        }
      ]
    },
    {
      "cell_type": "code",
      "metadata": {
        "id": "vCL10vqx1eR3",
        "colab": {
          "base_uri": "https://localhost:8080/"
        },
        "outputId": "c2d08f67-2c13-4afe-cc5d-a45883350ec7"
      },
      "source": [
        "len(sample_set)"
      ],
      "execution_count": null,
      "outputs": [
        {
          "output_type": "execute_result",
          "data": {
            "text/plain": [
              "10"
            ]
          },
          "metadata": {},
          "execution_count": 12
        }
      ]
    },
    {
      "cell_type": "code",
      "metadata": {
        "id": "dMLEmIG41eR5",
        "colab": {
          "base_uri": "https://localhost:8080/"
        },
        "outputId": "74af4b6f-7032-46b5-cf82-bdd5a98266d0"
      },
      "source": [
        "sample_set.discard(1)\n",
        "sample_set"
      ],
      "execution_count": null,
      "outputs": [
        {
          "output_type": "execute_result",
          "data": {
            "text/plain": [
              "{0, 2, 3, 4, 5, 6, 7, 8, 9}"
            ]
          },
          "metadata": {},
          "execution_count": 13
        }
      ]
    },
    {
      "cell_type": "markdown",
      "metadata": {
        "id": "JKGwlP8V1eR7"
      },
      "source": [
        "#### Удаление"
      ]
    },
    {
      "cell_type": "code",
      "metadata": {
        "id": "ODZPMrgP1eR8",
        "colab": {
          "base_uri": "https://localhost:8080/",
          "height": 190
        },
        "outputId": "43cf789a-5640-4799-a4b3-f16e9cbd8e2b"
      },
      "source": [
        "sample_set.remove(1) # будет ошибка, если элемент не найден\n"
      ],
      "execution_count": null,
      "outputs": [
        {
          "output_type": "error",
          "ename": "KeyError",
          "evalue": "ignored",
          "traceback": [
            "\u001b[0;31m---------------------------------------------------------------------------\u001b[0m",
            "\u001b[0;31mKeyError\u001b[0m                                  Traceback (most recent call last)",
            "\u001b[0;32m<ipython-input-14-e9eb80aef662>\u001b[0m in \u001b[0;36m<module>\u001b[0;34m\u001b[0m\n\u001b[0;32m----> 1\u001b[0;31m \u001b[0msample_set\u001b[0m\u001b[0;34m.\u001b[0m\u001b[0mremove\u001b[0m\u001b[0;34m(\u001b[0m\u001b[0;36m1\u001b[0m\u001b[0;34m)\u001b[0m \u001b[0;31m# будет ошибка, если элемент не найден\u001b[0m\u001b[0;34m\u001b[0m\u001b[0;34m\u001b[0m\u001b[0m\n\u001b[0m\u001b[1;32m      2\u001b[0m \u001b[0;34m\u001b[0m\u001b[0m\n",
            "\u001b[0;31mKeyError\u001b[0m: 1"
          ]
        }
      ]
    },
    {
      "cell_type": "code",
      "source": [
        "sample_set.discard(1)"
      ],
      "metadata": {
        "id": "epbSA5hXK5IM"
      },
      "execution_count": null,
      "outputs": []
    },
    {
      "cell_type": "code",
      "source": [
        "sample_set"
      ],
      "metadata": {
        "colab": {
          "base_uri": "https://localhost:8080/"
        },
        "id": "JRKit38VLPlK",
        "outputId": "db7c2e1b-fec7-4e54-d43c-4cacafbb31b4"
      },
      "execution_count": null,
      "outputs": [
        {
          "output_type": "execute_result",
          "data": {
            "text/plain": [
              "{0, 3, 4, 5, 6, 7, 8, 9}"
            ]
          },
          "metadata": {},
          "execution_count": 17
        }
      ]
    },
    {
      "cell_type": "code",
      "source": [
        "sample_set.pop() # вы никогда не узнаете, какой элемент был удален"
      ],
      "metadata": {
        "colab": {
          "base_uri": "https://localhost:8080/"
        },
        "id": "dHQjWyqoK4BY",
        "outputId": "7d640520-0b4d-475f-d3bb-a2951616448a"
      },
      "execution_count": null,
      "outputs": [
        {
          "output_type": "execute_result",
          "data": {
            "text/plain": [
              "6"
            ]
          },
          "metadata": {},
          "execution_count": 24
        }
      ]
    },
    {
      "cell_type": "code",
      "source": [
        "sample_set"
      ],
      "metadata": {
        "colab": {
          "base_uri": "https://localhost:8080/"
        },
        "id": "_-b-opQuLSO8",
        "outputId": "1f5f1fd9-25bc-429d-d2e1-54968b6b0c3d"
      },
      "execution_count": null,
      "outputs": [
        {
          "output_type": "execute_result",
          "data": {
            "text/plain": [
              "{4, 5, 6, 7, 8, 9}"
            ]
          },
          "metadata": {},
          "execution_count": 21
        }
      ]
    },
    {
      "cell_type": "code",
      "metadata": {
        "id": "5zcXXUWL1eR-",
        "colab": {
          "base_uri": "https://localhost:8080/"
        },
        "outputId": "7e9f21a4-4116-412a-aabb-e1348a7e4560"
      },
      "source": [
        "sample_set.clear()\n",
        "sample_set"
      ],
      "execution_count": null,
      "outputs": [
        {
          "output_type": "execute_result",
          "data": {
            "text/plain": [
              "set()"
            ]
          },
          "metadata": {},
          "execution_count": 97
        }
      ]
    },
    {
      "cell_type": "code",
      "metadata": {
        "id": "jQYx86EZ1eR_"
      },
      "source": [
        "del sample_set"
      ],
      "execution_count": null,
      "outputs": []
    },
    {
      "cell_type": "code",
      "source": [
        "#удаление дубликатов\n",
        "example_list = [1,2,3,4,5,5,5,7,7,2,2,3,8]\n",
        "example_list = set(example_list)\n",
        "print(list(example_list))"
      ],
      "metadata": {
        "colab": {
          "base_uri": "https://localhost:8080/"
        },
        "id": "SbXFTBHHZJA4",
        "outputId": "513fec60-e45c-48c2-e1dc-5ba3bc9aeed1"
      },
      "execution_count": null,
      "outputs": [
        {
          "output_type": "stream",
          "name": "stdout",
          "text": [
            "[1, 2, 3, 4, 5, 7, 8]\n"
          ]
        }
      ]
    },
    {
      "cell_type": "code",
      "source": [
        "#операции со списками\n",
        "list_one = [1,2,4]\n",
        "list_two = [5,4,3]\n",
        "set(list_one) - set(list_two)"
      ],
      "metadata": {
        "colab": {
          "base_uri": "https://localhost:8080/"
        },
        "id": "Sjaf-uF3ZleD",
        "outputId": "a45270eb-2e40-4b84-9756-2cc79ce70435"
      },
      "execution_count": null,
      "outputs": [
        {
          "output_type": "execute_result",
          "data": {
            "text/plain": [
              "{1, 2}"
            ]
          },
          "metadata": {},
          "execution_count": 27
        }
      ]
    },
    {
      "cell_type": "code",
      "source": [
        "#сравнение элементов вне зависимости от порядка хранения\n",
        "list_order_1 = [1,3,4,5]\n",
        "list_order_2 = [1,4,5,3]\n",
        "list_order_1 == list_order_2"
      ],
      "metadata": {
        "colab": {
          "base_uri": "https://localhost:8080/"
        },
        "id": "a3jgqGRVZ0io",
        "outputId": "2d37467d-3a7c-4c69-8d1e-b7b5b340522e"
      },
      "execution_count": null,
      "outputs": [
        {
          "output_type": "execute_result",
          "data": {
            "text/plain": [
              "False"
            ]
          },
          "metadata": {},
          "execution_count": 28
        }
      ]
    },
    {
      "cell_type": "code",
      "source": [
        "set(list_order_1) == set(list_order_2)"
      ],
      "metadata": {
        "colab": {
          "base_uri": "https://localhost:8080/"
        },
        "id": "UYnYMPKkaEGS",
        "outputId": "7ea29d23-e92e-4839-ee1c-29679eefd3b9"
      },
      "execution_count": null,
      "outputs": [
        {
          "output_type": "execute_result",
          "data": {
            "text/plain": [
              "True"
            ]
          },
          "metadata": {},
          "execution_count": 29
        }
      ]
    },
    {
      "cell_type": "markdown",
      "source": [
        "## Словари"
      ],
      "metadata": {
        "id": "Ia2lQ2yiU3qo"
      }
    },
    {
      "cell_type": "code",
      "metadata": {
        "id": "iV2tnt8u1eSC",
        "outputId": "8203ebd1-afdd-4792-8002-20c6e3159f4c",
        "colab": {
          "base_uri": "https://localhost:8080/"
        }
      },
      "source": [
        "fruits = {\"Green\":\"Apple\",\"Red\":\"Cherry\",\"Yellow\":\"Limon\"}\n",
        "fruits"
      ],
      "execution_count": null,
      "outputs": [
        {
          "output_type": "execute_result",
          "data": {
            "text/plain": [
              "{'Green': 'Apple', 'Red': 'Cherry', 'Yellow': 'Limon'}"
            ]
          },
          "metadata": {},
          "execution_count": 1
        }
      ]
    },
    {
      "cell_type": "code",
      "source": [
        "info = {}"
      ],
      "metadata": {
        "id": "zco-A-dvVCDU"
      },
      "execution_count": null,
      "outputs": []
    },
    {
      "cell_type": "code",
      "source": [
        "info['Екатерина'] = 'Менеджер'\n",
        "info['Владислав'] = 'Аналитик'\n",
        "info['Елизавета'] = 'Руководитель'\n",
        "info[1.2] = 2\n",
        "print(info)"
      ],
      "metadata": {
        "colab": {
          "base_uri": "https://localhost:8080/"
        },
        "id": "ciQBAYlRVZMn",
        "outputId": "2199fd00-2b3d-49be-a7e5-31ad46066c94"
      },
      "execution_count": null,
      "outputs": [
        {
          "output_type": "stream",
          "name": "stdout",
          "text": [
            "{'Екатерина': 'Менеджер', 'Владислав': 'Аналитик', 'Елизавета': 'Руководитель', 1: 2, 1.2: 2}\n"
          ]
        }
      ]
    },
    {
      "cell_type": "code",
      "source": [],
      "metadata": {
        "id": "Xqy4J-4aqcn6"
      },
      "execution_count": null,
      "outputs": []
    },
    {
      "cell_type": "code",
      "source": [
        "address = dict(number=23,street='Кирова')\n",
        "print(address)"
      ],
      "metadata": {
        "colab": {
          "base_uri": "https://localhost:8080/"
        },
        "id": "puK72T0sV5dB",
        "outputId": "e6ad1f51-449a-41b4-c21c-0bbb31a2d06c"
      },
      "execution_count": null,
      "outputs": [
        {
          "output_type": "stream",
          "name": "stdout",
          "text": [
            "{'number': 23, 'street': 'Кирова'}\n"
          ]
        }
      ]
    },
    {
      "cell_type": "code",
      "metadata": {
        "id": "6Nyd5BgI1eSF",
        "colab": {
          "base_uri": "https://localhost:8080/"
        },
        "outputId": "75ad0b12-31dc-4cd2-caad-40b49efea59d"
      },
      "source": [
        "#print(fruits['Green'],fruits.get('Green'))\n",
        "print(fruits.get('No info', 'Green'))"
      ],
      "execution_count": null,
      "outputs": [
        {
          "output_type": "stream",
          "name": "stdout",
          "text": [
            "Green\n"
          ]
        }
      ]
    },
    {
      "cell_type": "code",
      "metadata": {
        "id": "ZDfMyrC31eSI"
      },
      "source": [
        "del address"
      ],
      "execution_count": null,
      "outputs": []
    },
    {
      "cell_type": "code",
      "source": [
        "address"
      ],
      "metadata": {
        "colab": {
          "base_uri": "https://localhost:8080/",
          "height": 172
        },
        "id": "P2PFfA-WrKbU",
        "outputId": "1c02f40f-e5c2-4ef8-fc15-a484e57cf3a7"
      },
      "execution_count": null,
      "outputs": [
        {
          "output_type": "error",
          "ename": "NameError",
          "evalue": "ignored",
          "traceback": [
            "\u001b[0;31m---------------------------------------------------------------------------\u001b[0m",
            "\u001b[0;31mNameError\u001b[0m                                 Traceback (most recent call last)",
            "\u001b[0;32m<ipython-input-114-cee9f58e23ff>\u001b[0m in \u001b[0;36m<module>\u001b[0;34m\u001b[0m\n\u001b[0;32m----> 1\u001b[0;31m \u001b[0maddress\u001b[0m\u001b[0;34m\u001b[0m\u001b[0;34m\u001b[0m\u001b[0m\n\u001b[0m",
            "\u001b[0;31mNameError\u001b[0m: name 'address' is not defined"
          ]
        }
      ]
    },
    {
      "cell_type": "code",
      "metadata": {
        "id": "xwhrcn4n1eSK",
        "outputId": "010563d8-01b2-4727-d009-c3b658af8d59",
        "colab": {
          "base_uri": "https://localhost:8080/"
        }
      },
      "source": [
        "for name,number in fruits.items():\n",
        "    print(name,number,sep='-')"
      ],
      "execution_count": null,
      "outputs": [
        {
          "output_type": "stream",
          "name": "stdout",
          "text": [
            "Green-Apple\n",
            "Red-Cherry\n",
            "Yellow-Limon\n"
          ]
        }
      ]
    },
    {
      "cell_type": "code",
      "source": [
        "list(fruits.items())"
      ],
      "metadata": {
        "colab": {
          "base_uri": "https://localhost:8080/"
        },
        "id": "UZTiKOYvrWK9",
        "outputId": "ec1c84a3-14fc-41f0-9b6f-437e8f799893"
      },
      "execution_count": null,
      "outputs": [
        {
          "output_type": "execute_result",
          "data": {
            "text/plain": [
              "[('Green', 'Apple'),\n",
              " ('Red', 'Cherry'),\n",
              " ('Yellow', 'Banana'),\n",
              " ('Black', 10),\n",
              " ('Pink', 'Guava')]"
            ]
          },
          "metadata": {},
          "execution_count": 31
        }
      ]
    },
    {
      "cell_type": "code",
      "source": [
        "list(fruits.keys())[0]"
      ],
      "metadata": {
        "colab": {
          "base_uri": "https://localhost:8080/",
          "height": 36
        },
        "id": "BjvfgDpWNXVg",
        "outputId": "f2a3defa-eb79-4e62-fe71-0c35964d918a"
      },
      "execution_count": null,
      "outputs": [
        {
          "output_type": "execute_result",
          "data": {
            "text/plain": [
              "'Green'"
            ],
            "application/vnd.google.colaboratory.intrinsic+json": {
              "type": "string"
            }
          },
          "metadata": {},
          "execution_count": 25
        }
      ]
    },
    {
      "cell_type": "code",
      "metadata": {
        "id": "mK1PlwBN1eSM",
        "colab": {
          "base_uri": "https://localhost:8080/"
        },
        "outputId": "76f3743e-6136-4d28-9d7f-6017adf633b0"
      },
      "source": [
        "list(fruits.values())"
      ],
      "execution_count": null,
      "outputs": [
        {
          "output_type": "execute_result",
          "data": {
            "text/plain": [
              "['Apple', 'Cherry', 'Limon']"
            ]
          },
          "metadata": {},
          "execution_count": 18
        }
      ]
    },
    {
      "cell_type": "code",
      "metadata": {
        "id": "YpKFKbXj1eSN",
        "colab": {
          "base_uri": "https://localhost:8080/"
        },
        "outputId": "880ceb34-21c9-4aa2-b838-0e4ffde22898"
      },
      "source": [
        "fruits['Yellow'] = 'Banana'\n",
        "fruits"
      ],
      "execution_count": null,
      "outputs": [
        {
          "output_type": "execute_result",
          "data": {
            "text/plain": [
              "{'Green': 'Apple', 'Red': 'Cherry', 'Yellow': 'Banana', 'Black': 10}"
            ]
          },
          "metadata": {},
          "execution_count": 27
        }
      ]
    },
    {
      "cell_type": "code",
      "source": [
        "fruits['Pink'] = 'Guava'\n",
        "fruits"
      ],
      "metadata": {
        "colab": {
          "base_uri": "https://localhost:8080/"
        },
        "id": "A07DT1csW648",
        "outputId": "21f85327-9fb2-4b44-8fa7-0b825c6b86d1"
      },
      "execution_count": null,
      "outputs": [
        {
          "output_type": "execute_result",
          "data": {
            "text/plain": [
              "{'Green': 'Apple',\n",
              " 'Red': 'Cherry',\n",
              " 'Yellow': 'Banana',\n",
              " 'Black': 10,\n",
              " 'Pink': 'Guava'}"
            ]
          },
          "metadata": {},
          "execution_count": 29
        }
      ]
    },
    {
      "cell_type": "code",
      "source": [
        "fruits['Pink'] = '123'\n",
        "fruits"
      ],
      "metadata": {
        "colab": {
          "base_uri": "https://localhost:8080/"
        },
        "id": "9s4jm7tpRkR9",
        "outputId": "86b5d838-8a8b-4888-e0b1-d24a12805007"
      },
      "execution_count": null,
      "outputs": [
        {
          "output_type": "execute_result",
          "data": {
            "text/plain": [
              "{'Green': 'Apple', 'Yellow': 'Banana', 'Black': 10, 'Pink': '123'}"
            ]
          },
          "metadata": {},
          "execution_count": 40
        }
      ]
    },
    {
      "cell_type": "code",
      "source": [
        "fruits.setdefault('White')\n"
      ],
      "metadata": {
        "id": "WmUDDHHTRy9s"
      },
      "execution_count": null,
      "outputs": []
    },
    {
      "cell_type": "code",
      "source": [
        "fruits"
      ],
      "metadata": {
        "colab": {
          "base_uri": "https://localhost:8080/"
        },
        "id": "Ea7bCkbqR87v",
        "outputId": "f9bb3d15-77d3-4bc3-9172-e1f9b24ed377"
      },
      "execution_count": null,
      "outputs": [
        {
          "output_type": "execute_result",
          "data": {
            "text/plain": [
              "{'Green': 'Apple',\n",
              " 'Yellow': 'Banana',\n",
              " 'Black': 10,\n",
              " 'Pink': '123',\n",
              " 'White': None}"
            ]
          },
          "metadata": {},
          "execution_count": 43
        }
      ]
    },
    {
      "cell_type": "code",
      "metadata": {
        "id": "-Qi60b9d1eSO",
        "colab": {
          "base_uri": "https://localhost:8080/"
        },
        "outputId": "3358b2c1-0d4b-432f-eb13-1a240c83e30c"
      },
      "source": [
        "for i in fruits:\n",
        "    print(fruits[i])"
      ],
      "execution_count": null,
      "outputs": [
        {
          "output_type": "stream",
          "name": "stdout",
          "text": [
            "Apple\n",
            "Cherry\n",
            "Banana\n",
            "10\n",
            "Guava\n"
          ]
        }
      ]
    },
    {
      "cell_type": "code",
      "metadata": {
        "id": "XmPiSqoC1eSP",
        "colab": {
          "base_uri": "https://localhost:8080/"
        },
        "outputId": "fa9f9f87-290f-4f56-cc8c-dfc206e0301a"
      },
      "source": [
        "for key, value in fruits.items():\n",
        "    print(key, '-', value)"
      ],
      "execution_count": null,
      "outputs": [
        {
          "output_type": "stream",
          "name": "stdout",
          "text": [
            "Green - Apple\n",
            "Red - Cherry\n",
            "Yellow - Banana\n",
            "Black - 10\n",
            "Pink - Guava\n"
          ]
        }
      ]
    },
    {
      "cell_type": "code",
      "metadata": {
        "id": "TalazVif1eSR",
        "colab": {
          "base_uri": "https://localhost:8080/"
        },
        "outputId": "83c510fe-2d06-434a-c892-e1458e7f4335"
      },
      "source": [
        "fruits.items()"
      ],
      "execution_count": null,
      "outputs": [
        {
          "output_type": "execute_result",
          "data": {
            "text/plain": [
              "dict_items([('Green', 'Apple'), ('Red', 'Cherry'), ('Yellow', 'Banana'), ('Black', 'Blackberry')])"
            ]
          },
          "metadata": {},
          "execution_count": 28
        }
      ]
    },
    {
      "cell_type": "code",
      "metadata": {
        "id": "rNgsmn2M1eST",
        "colab": {
          "base_uri": "https://localhost:8080/"
        },
        "outputId": "3f871c73-d4b1-453a-9f8a-8a55f9b4c9d7"
      },
      "source": [
        "deleted = fruits.pop('Red')\n",
        "print(deleted)\n",
        "print(fruits)"
      ],
      "execution_count": null,
      "outputs": [
        {
          "output_type": "stream",
          "name": "stdout",
          "text": [
            "Cherry\n",
            "{'Green': 'Apple', 'Yellow': 'Banana', 'Black': 10, 'Pink': 'Guava'}\n"
          ]
        }
      ]
    },
    {
      "cell_type": "code",
      "metadata": {
        "id": "07pnnW-z1eSU",
        "colab": {
          "base_uri": "https://localhost:8080/"
        },
        "outputId": "87908269-da23-4039-b36c-afc2280d0d5b"
      },
      "source": [
        "sorted(fruits) # сортируем только ключи"
      ],
      "execution_count": null,
      "outputs": [
        {
          "output_type": "execute_result",
          "data": {
            "text/plain": [
              "['Black', 'Green', 'Pink', 'Yellow']"
            ]
          },
          "metadata": {},
          "execution_count": 34
        }
      ]
    },
    {
      "cell_type": "code",
      "metadata": {
        "id": "-W-eAeuL1eSV",
        "outputId": "bfad30f5-295f-4578-e20b-f0c0a5892832",
        "colab": {
          "base_uri": "https://localhost:8080/"
        }
      },
      "source": [
        "Capitals = dict()\n",
        "\n",
        "\n",
        "Capitals['Russia'] = 'Moscow'\n",
        "Capitals['France'] = 'Paris'\n",
        "Capitals['Spain'] = 'Barselona'\n",
        "\n",
        "Countries = ['Russia', 'France', 'Italy', 'Russia']\n",
        "\n",
        "for country in Countries:\n",
        "    if country in Capitals:\n",
        "        print('Capital of ' + country + ': ' + Capitals[country])\n",
        "    else:\n",
        "        print('Not found for ' + country)\n",
        "\n",
        "Capitals"
      ],
      "execution_count": null,
      "outputs": [
        {
          "output_type": "stream",
          "name": "stdout",
          "text": [
            "Capital of Russia: Moscow\n",
            "Capital of France: Paris\n",
            "Not found for Italy\n",
            "Capital of Russia: Moscow\n"
          ]
        },
        {
          "output_type": "execute_result",
          "data": {
            "text/plain": [
              "{'Russia': 'Moscow', 'France': 'Paris', 'Spain': 'Barselona'}"
            ]
          },
          "metadata": {},
          "execution_count": 45
        }
      ]
    },
    {
      "cell_type": "markdown",
      "source": [
        "## Задачи"
      ],
      "metadata": {
        "id": "EuAxXNfVO2_n"
      }
    },
    {
      "cell_type": "markdown",
      "source": [
        "Дан список чисел. Необходимо определить сколько различных чисел встречается в списке."
      ],
      "metadata": {
        "id": "7x4fakgvafcZ"
      }
    },
    {
      "cell_type": "code",
      "source": [
        "example_list = [5,4,6,2,2,7,5,3,9,2,3,9]\n",
        "len(set(example_list))"
      ],
      "metadata": {
        "colab": {
          "base_uri": "https://localhost:8080/"
        },
        "id": "sIJlXfCtajvJ",
        "outputId": "63237516-1458-4516-fd32-8773f390d89c"
      },
      "execution_count": null,
      "outputs": [
        {
          "output_type": "execute_result",
          "data": {
            "text/plain": [
              "7"
            ]
          },
          "metadata": {},
          "execution_count": 124
        }
      ]
    },
    {
      "cell_type": "markdown",
      "source": [
        "Дано два списка чисел. Необходимо определить какие числа содержатся как в первом списке, так и во втором."
      ],
      "metadata": {
        "id": "R4b0ctazatFL"
      }
    },
    {
      "cell_type": "code",
      "source": [
        "example_list_1 = [1,4,5,7,6]\n",
        "example_list_2 = [1,4,6,8]\n",
        "result = set(example_list_1)&set(example_list_2)\n",
        "print(list(result))"
      ],
      "metadata": {
        "colab": {
          "base_uri": "https://localhost:8080/"
        },
        "id": "ZkIFnC2ra43y",
        "outputId": "ef99c47e-5669-4415-d0ab-cbb74a0c2952"
      },
      "execution_count": null,
      "outputs": [
        {
          "output_type": "stream",
          "name": "stdout",
          "text": [
            "[1, 4, 6]\n"
          ]
        }
      ]
    },
    {
      "cell_type": "markdown",
      "source": [
        "В единственной строке записан текст. Для каждого слова из данного текста подсчитайте, сколько раз оно встречалось в этом тексте ранее.\n",
        "\n",
        "Словом считается последовательность непробельных символов идущих подряд, слова разделены одним или большим числом пробелов или символами конца строки."
      ],
      "metadata": {
        "id": "qMFQycQQbP7o"
      }
    },
    {
      "cell_type": "code",
      "source": [
        "counter = {}\n",
        "for word in input().split():\n",
        "    counter[word] = counter.get(word, 0) + 1\n",
        "    print(counter[word] - 1, end=' ')"
      ],
      "metadata": {
        "colab": {
          "base_uri": "https://localhost:8080/"
        },
        "id": "MmSk1El-bRjh",
        "outputId": "d5353b30-290f-4e02-cc49-a0c6717b5398"
      },
      "execution_count": null,
      "outputs": [
        {
          "output_type": "stream",
          "name": "stdout",
          "text": [
            "привет как привет привет как привет дела дела привет\n",
            "0 0 1 2 1 3 0 1 4 "
          ]
        }
      ]
    },
    {
      "cell_type": "code",
      "source": [
        "counter"
      ],
      "metadata": {
        "colab": {
          "base_uri": "https://localhost:8080/"
        },
        "id": "7n8tWwuKXyIa",
        "outputId": "16b319b9-0f03-4c0e-f0a7-cf8c966f64fb"
      },
      "execution_count": null,
      "outputs": [
        {
          "output_type": "execute_result",
          "data": {
            "text/plain": [
              "{'привет': 5, 'как': 2, 'дела': 2}"
            ]
          },
          "metadata": {},
          "execution_count": 64
        }
      ]
    },
    {
      "cell_type": "markdown",
      "source": [
        "Вам дан словарь, состоящий из пар слов. Каждое слово является синонимом к парному ему слову. Все слова в словаре различны.\n",
        "\n",
        "Для слова из словаря, записанного в последней строке, определите его синоним."
      ],
      "metadata": {
        "id": "JsPVai6elzxe"
      }
    },
    {
      "cell_type": "code",
      "source": [
        "n = int(input())\n",
        "d = {}\n",
        "for i in range(n):\n",
        "    first, second = input().split()\n",
        "    d[first] = second\n",
        "    d[second] = first\n",
        "print(d[input()])"
      ],
      "metadata": {
        "colab": {
          "base_uri": "https://localhost:8080/"
        },
        "id": "Ctz3_06Fl0Pc",
        "outputId": "0d49c36e-219f-45f1-c02d-502c1f82400e"
      },
      "execution_count": null,
      "outputs": [
        {
          "output_type": "stream",
          "name": "stdout",
          "text": [
            "3\n",
            "большой огромный\n",
            "юпитер венера\n",
            "sad sorrowful\n",
            "юпитер\n",
            "венера\n"
          ]
        }
      ]
    },
    {
      "cell_type": "code",
      "source": [
        "key = input()\n",
        "d[key]"
      ],
      "metadata": {
        "colab": {
          "base_uri": "https://localhost:8080/",
          "height": 54
        },
        "id": "8n_6uoQJV9KH",
        "outputId": "17151883-16e2-4c97-d7be-026801fa79b7"
      },
      "execution_count": null,
      "outputs": [
        {
          "name": "stdout",
          "output_type": "stream",
          "text": [
            "большой\n"
          ]
        },
        {
          "output_type": "execute_result",
          "data": {
            "text/plain": [
              "'огромный'"
            ],
            "application/vnd.google.colaboratory.intrinsic+json": {
              "type": "string"
            }
          },
          "metadata": {},
          "execution_count": 52
        }
      ]
    },
    {
      "cell_type": "code",
      "source": [
        "d"
      ],
      "metadata": {
        "colab": {
          "base_uri": "https://localhost:8080/"
        },
        "id": "leVLn-hGVs2X",
        "outputId": "69a19ffe-f84f-42ff-8875-ecd5bef6c632"
      },
      "execution_count": null,
      "outputs": [
        {
          "output_type": "execute_result",
          "data": {
            "text/plain": [
              "{'большой': 'огромный',\n",
              " 'огромный': 'большой',\n",
              " 'юпитер': 'венера',\n",
              " 'венера': 'юпитер',\n",
              " 'sad': 'sorrowful',\n",
              " 'sorrowful': 'sad'}"
            ]
          },
          "metadata": {},
          "execution_count": 48
        }
      ]
    },
    {
      "cell_type": "code",
      "source": [
        "input().split()"
      ],
      "metadata": {
        "colab": {
          "base_uri": "https://localhost:8080/"
        },
        "id": "D_0gc4vIVhl2",
        "outputId": "fea16262-2ef5-47c6-8adf-3f0091da2543"
      },
      "execution_count": null,
      "outputs": [
        {
          "name": "stdout",
          "output_type": "stream",
          "text": [
            "привет как дела\n"
          ]
        },
        {
          "output_type": "execute_result",
          "data": {
            "text/plain": [
              "['привет', 'как', 'дела']"
            ]
          },
          "metadata": {},
          "execution_count": 47
        }
      ]
    },
    {
      "cell_type": "code",
      "source": [
        "MARKS = {\n",
        "    5: \"A\",\n",
        "    4: \"B\",\n",
        "    3: \"C\",\n",
        "    2: \"D\",\n",
        "    1: \"E\",\n",
        "}\n",
        "\n",
        "def print_mark(mark):\n",
        "  print(f\"{mark} is {MARKS.get(mark)}\")\n",
        "\n",
        "print_mark(5)\n",
        "\n"
      ],
      "metadata": {
        "colab": {
          "base_uri": "https://localhost:8080/"
        },
        "id": "0i_DcdT7Wiwn",
        "outputId": "0fd3ec2d-73c3-4965-94af-e177c9ebf923"
      },
      "execution_count": null,
      "outputs": [
        {
          "output_type": "stream",
          "name": "stdout",
          "text": [
            "5 is A\n"
          ]
        }
      ]
    }
  ]
}