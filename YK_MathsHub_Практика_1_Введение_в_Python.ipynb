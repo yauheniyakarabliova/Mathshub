{
  "nbformat": 4,
  "nbformat_minor": 0,
  "metadata": {
    "colab": {
      "provenance": [],
      "include_colab_link": true
    },
    "kernelspec": {
      "name": "python3",
      "display_name": "Python 3"
    },
    "language_info": {
      "name": "python"
    }
  },
  "cells": [
    {
      "cell_type": "markdown",
      "metadata": {
        "id": "view-in-github",
        "colab_type": "text"
      },
      "source": [
        "<a href=\"https://colab.research.google.com/github/yauheniyakarabliova/Mathshub/blob/main/YK_MathsHub_%D0%9F%D1%80%D0%B0%D0%BA%D1%82%D0%B8%D0%BA%D0%B0_1_%D0%92%D0%B2%D0%B5%D0%B4%D0%B5%D0%BD%D0%B8%D0%B5_%D0%B2_Python.ipynb\" target=\"_parent\"><img src=\"https://colab.research.google.com/assets/colab-badge.svg\" alt=\"Open In Colab\"/></a>"
      ]
    },
    {
      "cell_type": "markdown",
      "source": [
        "# Введение в Python. MathsHub."
      ],
      "metadata": {
        "id": "oU4AKLKvEGWJ"
      }
    },
    {
      "cell_type": "code",
      "execution_count": null,
      "metadata": {
        "id": "bNmpTOgr65Aa",
        "colab": {
          "base_uri": "https://localhost:8080/"
        },
        "outputId": "2ecbce5f-7d49-46db-e4fb-416dd7018318"
      },
      "outputs": [
        {
          "output_type": "stream",
          "name": "stdout",
          "text": [
            "The Zen of Python, by Tim Peters\n",
            "\n",
            "Beautiful is better than ugly.\n",
            "Explicit is better than implicit.\n",
            "Simple is better than complex.\n",
            "Complex is better than complicated.\n",
            "Flat is better than nested.\n",
            "Sparse is better than dense.\n",
            "Readability counts.\n",
            "Special cases aren't special enough to break the rules.\n",
            "Although practicality beats purity.\n",
            "Errors should never pass silently.\n",
            "Unless explicitly silenced.\n",
            "In the face of ambiguity, refuse the temptation to guess.\n",
            "There should be one-- and preferably only one --obvious way to do it.\n",
            "Although that way may not be obvious at first unless you're Dutch.\n",
            "Now is better than never.\n",
            "Although never is often better than *right* now.\n",
            "If the implementation is hard to explain, it's a bad idea.\n",
            "If the implementation is easy to explain, it may be a good idea.\n",
            "Namespaces are one honking great idea -- let's do more of those!\n"
          ]
        }
      ],
      "source": [
        "import this"
      ]
    },
    {
      "cell_type": "markdown",
      "source": [
        "## Базовые функции"
      ],
      "metadata": {
        "id": "7-ln-97E9-sK"
      }
    },
    {
      "cell_type": "code",
      "source": [
        "print(\"Привет, MathsHub!\")"
      ],
      "metadata": {
        "id": "QvJxzw3--BTT",
        "colab": {
          "base_uri": "https://localhost:8080/"
        },
        "outputId": "dd757640-efc5-41be-ff11-c070dd4ebefa"
      },
      "execution_count": null,
      "outputs": [
        {
          "output_type": "stream",
          "name": "stdout",
          "text": [
            "Привет, MathsHub!\n"
          ]
        }
      ]
    },
    {
      "cell_type": "code",
      "source": [
        "a = input(\"Введите что-нибудь: \")"
      ],
      "metadata": {
        "id": "lSAsH29_-E3h",
        "colab": {
          "base_uri": "https://localhost:8080/"
        },
        "outputId": "25aa0968-98c1-4690-f28f-86a0b3be0892"
      },
      "execution_count": 1,
      "outputs": [
        {
          "name": "stdout",
          "output_type": "stream",
          "text": [
            "Введите что-нибудь: ghj\n"
          ]
        }
      ]
    },
    {
      "cell_type": "markdown",
      "source": [
        "## Отступы"
      ],
      "metadata": {
        "id": "lcy9i_7n-MWN"
      }
    },
    {
      "cell_type": "code",
      "source": [
        "print()\n",
        "print(123)\n",
        "\n",
        "if 5 == 5:\n",
        "    print('все верно!')"
      ],
      "metadata": {
        "id": "7y5JRpPz-OLJ",
        "colab": {
          "base_uri": "https://localhost:8080/"
        },
        "outputId": "b2a5afca-49a0-449d-9348-c4b52b4e6958"
      },
      "execution_count": null,
      "outputs": [
        {
          "output_type": "stream",
          "name": "stdout",
          "text": [
            "\n",
            "123\n",
            "все верно!\n"
          ]
        }
      ]
    },
    {
      "cell_type": "markdown",
      "source": [
        "## Комментарии в коде"
      ],
      "metadata": {
        "id": "IT4IW69A-axA"
      }
    },
    {
      "cell_type": "code",
      "source": [
        "# это комментарий\n",
        "\n",
        "'''\n",
        "это тоже комментарий\n",
        "\n",
        "'''\n",
        "\n",
        "# hot key для комментариев\n",
        "# Windows/Linux: ctrl + /\n",
        "# mac: command + /"
      ],
      "metadata": {
        "id": "DIRjoVv1-eOH",
        "colab": {
          "base_uri": "https://localhost:8080/",
          "height": 35
        },
        "outputId": "8ab05ce4-631b-4088-9885-9be022aa45d0"
      },
      "execution_count": null,
      "outputs": [
        {
          "output_type": "execute_result",
          "data": {
            "text/plain": [
              "'\\nэто тоже комментарий\\n\\n'"
            ],
            "application/vnd.google.colaboratory.intrinsic+json": {
              "type": "string"
            }
          },
          "metadata": {},
          "execution_count": 13
        }
      ]
    },
    {
      "cell_type": "markdown",
      "source": [
        "## Переменные"
      ],
      "metadata": {
        "id": "YQaGvtp9Df6H"
      }
    },
    {
      "cell_type": "markdown",
      "source": [
        "В названии переменных можно использовать:\n",
        "\n",
        "\n",
        "*   буквы и цифры\n",
        "*   нижнее подчеркивание\n",
        "\n",
        "Переменная не может начинаться с цифры!\n",
        "\n"
      ],
      "metadata": {
        "id": "67pyxDOuTrEY"
      }
    },
    {
      "cell_type": "code",
      "source": [
        "example = 5"
      ],
      "metadata": {
        "id": "KctSt2WRDjwD"
      },
      "execution_count": null,
      "outputs": []
    },
    {
      "cell_type": "code",
      "source": [
        "# snake case\n",
        "another_example = 7"
      ],
      "metadata": {
        "id": "FyQH5_-3DogZ"
      },
      "execution_count": null,
      "outputs": []
    },
    {
      "cell_type": "code",
      "source": [
        "# upper camel case\n",
        "class AnotherExample:\n",
        "  pass"
      ],
      "metadata": {
        "id": "SYw6B25vDrji"
      },
      "execution_count": null,
      "outputs": []
    },
    {
      "cell_type": "markdown",
      "source": [
        "## Базовые типы данных"
      ],
      "metadata": {
        "id": "i_LJfe0tCofX"
      }
    },
    {
      "cell_type": "markdown",
      "source": [
        "Python используется динамическую типизацию - это значит, что вы определяете тип переменной в тот момент, когда присваиваете ей значение. Также есть статическая типизация - это значит, что необходимо определить тип данных переменной, а затем присвоить ей значение."
      ],
      "metadata": {
        "id": "tTsqyuDJUIOQ"
      }
    },
    {
      "cell_type": "code",
      "source": [
        "type('5')"
      ],
      "metadata": {
        "colab": {
          "base_uri": "https://localhost:8080/"
        },
        "id": "vSSEC6XhSykE",
        "outputId": "298be993-6cc9-436d-ef1a-e6e5cfa6fea9"
      },
      "execution_count": null,
      "outputs": [
        {
          "output_type": "execute_result",
          "data": {
            "text/plain": [
              "str"
            ]
          },
          "metadata": {},
          "execution_count": 14
        }
      ]
    },
    {
      "cell_type": "markdown",
      "source": [
        "### integer"
      ],
      "metadata": {
        "id": "KUWPZwZxCsS4"
      }
    },
    {
      "cell_type": "markdown",
      "source": [
        "Целочисленный тип данных - положительные, отрицательные, а также 0"
      ],
      "metadata": {
        "id": "6MDFOAkAQsw4"
      }
    },
    {
      "cell_type": "code",
      "source": [
        "example_integer = 5 "
      ],
      "metadata": {
        "id": "-UWpylLOCPg7"
      },
      "execution_count": null,
      "outputs": []
    },
    {
      "cell_type": "code",
      "source": [
        "type(example_integer)"
      ],
      "metadata": {
        "colab": {
          "base_uri": "https://localhost:8080/"
        },
        "id": "c-9Usy0Zm_lE",
        "outputId": "a1df0051-a324-46e4-92c3-46c046898ac4"
      },
      "execution_count": null,
      "outputs": [
        {
          "output_type": "execute_result",
          "data": {
            "text/plain": [
              "int"
            ]
          },
          "metadata": {},
          "execution_count": 20
        }
      ]
    },
    {
      "cell_type": "code",
      "source": [
        "int(\"1\")"
      ],
      "metadata": {
        "id": "X3xNPHCoS1oB",
        "colab": {
          "base_uri": "https://localhost:8080/"
        },
        "outputId": "4fb3dd33-8d8f-404a-c577-9b5b776e1706"
      },
      "execution_count": null,
      "outputs": [
        {
          "output_type": "execute_result",
          "data": {
            "text/plain": [
              "1"
            ]
          },
          "metadata": {},
          "execution_count": 24
        }
      ]
    },
    {
      "cell_type": "markdown",
      "source": [
        "### float"
      ],
      "metadata": {
        "id": "K9396rPeCvY5"
      }
    },
    {
      "cell_type": "markdown",
      "source": [
        "Вещественные числа - числа с дробной частью. Есть известные для всех языков программирования проблемы с точностью"
      ],
      "metadata": {
        "id": "xy_i4Za_Q9Yh"
      }
    },
    {
      "cell_type": "code",
      "source": [
        "example_float = 5.05"
      ],
      "metadata": {
        "id": "opbnwUolDVO6"
      },
      "execution_count": null,
      "outputs": []
    },
    {
      "cell_type": "code",
      "source": [
        "type(example_float)"
      ],
      "metadata": {
        "colab": {
          "base_uri": "https://localhost:8080/"
        },
        "id": "CnWBeJ5hnRDS",
        "outputId": "27159767-d085-472e-b498-ad7d52872186"
      },
      "execution_count": null,
      "outputs": [
        {
          "output_type": "execute_result",
          "data": {
            "text/plain": [
              "float"
            ]
          },
          "metadata": {},
          "execution_count": 27
        }
      ]
    },
    {
      "cell_type": "markdown",
      "source": [
        "Когда вы используете тип данных float, вы оперируете 64 битами: \n",
        "* 1 бит для знака числа;\n",
        "* 52 бита для мантиссы или цифр числа (15-16 десятичных знаков будут хранится точно);\n",
        "* 11 бит для хранения экспоненты (от $10^{-1000}$ до $10^{1000}$).\n",
        "\n",
        "M☉ = $(1.98847±0.00007)$ × $10^{30}$kg\n",
        "\n",
        "мантисса: 198847, экспонента: $10^{25}$ "
      ],
      "metadata": {
        "id": "IPvVoD3Brddw"
      }
    },
    {
      "cell_type": "code",
      "source": [
        "solar_mass = 1.98947E30\n",
        "print(solar_mass==1.98947*10**30)"
      ],
      "metadata": {
        "id": "E29Nm2wdrcqc",
        "colab": {
          "base_uri": "https://localhost:8080/"
        },
        "outputId": "05ac03ae-16e7-4271-a08d-f03b2aac2a25"
      },
      "execution_count": null,
      "outputs": [
        {
          "output_type": "stream",
          "name": "stdout",
          "text": [
            "True\n"
          ]
        }
      ]
    },
    {
      "cell_type": "code",
      "source": [
        "0.3\n",
        "\n",
        "0.33\n",
        "\n",
        "0.333\n",
        "\n",
        "# 0.0001100110011001100110011001100110011001100110011...\n"
      ],
      "metadata": {
        "id": "IxUsxLycsfz1"
      },
      "execution_count": null,
      "outputs": []
    },
    {
      "cell_type": "code",
      "source": [
        "0.1 + 0.1 + 0.1 == 0.3"
      ],
      "metadata": {
        "colab": {
          "base_uri": "https://localhost:8080/"
        },
        "id": "L5pr8bRhzM-D",
        "outputId": "ad770137-1c34-4754-80a1-be25769cabf2"
      },
      "execution_count": null,
      "outputs": [
        {
          "output_type": "execute_result",
          "data": {
            "text/plain": [
              "True"
            ]
          },
          "metadata": {},
          "execution_count": 31
        }
      ]
    },
    {
      "cell_type": "code",
      "source": [
        "round(1.59, 1)"
      ],
      "metadata": {
        "colab": {
          "base_uri": "https://localhost:8080/"
        },
        "id": "0WR9pUDJD1Hw",
        "outputId": "35badcf0-978b-4751-edc9-33dce494697c"
      },
      "execution_count": null,
      "outputs": [
        {
          "output_type": "execute_result",
          "data": {
            "text/plain": [
              "1.6"
            ]
          },
          "metadata": {},
          "execution_count": 34
        }
      ]
    },
    {
      "cell_type": "code",
      "source": [
        "round(.1, 1)"
      ],
      "metadata": {
        "colab": {
          "base_uri": "https://localhost:8080/"
        },
        "id": "W6L-SgpjEVBU",
        "outputId": "34189af7-1fa2-4ad2-9510-2257d29cfb4c"
      },
      "execution_count": null,
      "outputs": [
        {
          "output_type": "execute_result",
          "data": {
            "text/plain": [
              "0.1"
            ]
          },
          "metadata": {},
          "execution_count": 38
        }
      ]
    },
    {
      "cell_type": "code",
      "source": [
        "round(.1, 1) + round(.1, 1) + round(.1, 1)"
      ],
      "metadata": {
        "colab": {
          "base_uri": "https://localhost:8080/"
        },
        "id": "zEiPsO4DEgNC",
        "outputId": "de04bd8c-a4e1-4a26-c14f-2bd40d5dadb6"
      },
      "execution_count": null,
      "outputs": [
        {
          "output_type": "execute_result",
          "data": {
            "text/plain": [
              "0.30000000000000004"
            ]
          },
          "metadata": {},
          "execution_count": 39
        }
      ]
    },
    {
      "cell_type": "code",
      "source": [
        "round(.1, 1) + round(.1, 1) + round(.1, 1) == round(.3, 1)"
      ],
      "metadata": {
        "colab": {
          "base_uri": "https://localhost:8080/"
        },
        "id": "yPAt2gTarD8c",
        "outputId": "0c260de6-e5a2-403f-b445-b61cee61a703"
      },
      "execution_count": null,
      "outputs": [
        {
          "output_type": "execute_result",
          "data": {
            "text/plain": [
              "False"
            ]
          },
          "metadata": {},
          "execution_count": 37
        }
      ]
    },
    {
      "cell_type": "code",
      "source": [
        "round(.1 + .1 + .1, 10) == round(.3, 10)"
      ],
      "metadata": {
        "colab": {
          "base_uri": "https://localhost:8080/"
        },
        "id": "0Lk8Wj5hrFN7",
        "outputId": "3cadfef9-5070-4ced-dd6f-d43b6527aab6"
      },
      "execution_count": null,
      "outputs": [
        {
          "output_type": "execute_result",
          "data": {
            "text/plain": [
              "True"
            ]
          },
          "metadata": {},
          "execution_count": 42
        }
      ]
    },
    {
      "cell_type": "markdown",
      "source": [
        "Для случаев, которые требуют точного десятичного представления, попробуйте использовать модуль decimal."
      ],
      "metadata": {
        "id": "Lr7GB_Bcsrfe"
      }
    },
    {
      "cell_type": "code",
      "source": [
        "float(\"0.1\")"
      ],
      "metadata": {
        "id": "hrQGCsk7S22v"
      },
      "execution_count": null,
      "outputs": []
    },
    {
      "cell_type": "code",
      "source": [
        "float(1)"
      ],
      "metadata": {
        "id": "a2YzXhPtnoOe"
      },
      "execution_count": null,
      "outputs": []
    },
    {
      "cell_type": "markdown",
      "source": [
        "### string"
      ],
      "metadata": {
        "id": "Tyikgfx7Cx0W"
      }
    },
    {
      "cell_type": "markdown",
      "source": [
        "Последовательность (строка) символов - также сюда относится пустая строка или один символ"
      ],
      "metadata": {
        "id": "f8sOLjtCRIEh"
      }
    },
    {
      "cell_type": "code",
      "source": [
        "\"privet\"\n",
        "'heldfgdfsgdsgdsfgdfgfdgsdgdglo'\n",
        "'h e l l o'\n",
        "'h,e,l,l,o'"
      ],
      "metadata": {
        "id": "OUigckcvDVn8",
        "colab": {
          "base_uri": "https://localhost:8080/",
          "height": 35
        },
        "outputId": "0c3e35ea-9d8c-4364-ee98-3638ecd41988"
      },
      "execution_count": null,
      "outputs": [
        {
          "output_type": "execute_result",
          "data": {
            "text/plain": [
              "'h,e,l,l,o'"
            ],
            "application/vnd.google.colaboratory.intrinsic+json": {
              "type": "string"
            }
          },
          "metadata": {},
          "execution_count": 45
        }
      ]
    },
    {
      "cell_type": "code",
      "source": [
        "'Don\\'t repeat yourself'"
      ],
      "metadata": {
        "colab": {
          "base_uri": "https://localhost:8080/",
          "height": 35
        },
        "id": "ZYfvMhbXF9v-",
        "outputId": "81327703-abc9-4f99-acd7-f8e6ec04382f"
      },
      "execution_count": null,
      "outputs": [
        {
          "output_type": "execute_result",
          "data": {
            "text/plain": [
              "\"Don't repeat yourself\""
            ],
            "application/vnd.google.colaboratory.intrinsic+json": {
              "type": "string"
            }
          },
          "metadata": {},
          "execution_count": 46
        }
      ]
    },
    {
      "cell_type": "code",
      "source": [
        "str(147)"
      ],
      "metadata": {
        "id": "ZA8rvO0HS4Dv",
        "colab": {
          "base_uri": "https://localhost:8080/",
          "height": 35
        },
        "outputId": "03e5e186-6dc6-4a1e-e17d-fd3635067355"
      },
      "execution_count": null,
      "outputs": [
        {
          "output_type": "execute_result",
          "data": {
            "text/plain": [
              "'147'"
            ],
            "application/vnd.google.colaboratory.intrinsic+json": {
              "type": "string"
            }
          },
          "metadata": {},
          "execution_count": 44
        }
      ]
    },
    {
      "cell_type": "markdown",
      "source": [
        "### boolean"
      ],
      "metadata": {
        "id": "zN7yvjyVDMSu"
      }
    },
    {
      "cell_type": "markdown",
      "source": [
        "Логический тип данных - может принимать значения True (Истина) и False (Ложь)"
      ],
      "metadata": {
        "id": "0KcE1dWFRROX"
      }
    },
    {
      "cell_type": "code",
      "source": [
        "example_boolean = False"
      ],
      "metadata": {
        "id": "jhF-tw9zDWN_"
      },
      "execution_count": null,
      "outputs": []
    },
    {
      "cell_type": "code",
      "source": [
        "print(example_boolean)"
      ],
      "metadata": {
        "colab": {
          "base_uri": "https://localhost:8080/"
        },
        "id": "UGkHv_l0o69Y",
        "outputId": "bed573a1-b84b-4630-a99b-f8f17acb7dbe"
      },
      "execution_count": null,
      "outputs": [
        {
          "output_type": "stream",
          "name": "stdout",
          "text": [
            "False\n"
          ]
        }
      ]
    },
    {
      "cell_type": "code",
      "source": [
        "bool(0)"
      ],
      "metadata": {
        "id": "1wePydnCS5Sn",
        "colab": {
          "base_uri": "https://localhost:8080/"
        },
        "outputId": "6fc9612d-cee8-46d0-b7bd-64136afb2883"
      },
      "execution_count": null,
      "outputs": [
        {
          "output_type": "execute_result",
          "data": {
            "text/plain": [
              "False"
            ]
          },
          "metadata": {},
          "execution_count": 53
        }
      ]
    },
    {
      "cell_type": "code",
      "source": [
        "bool(\"0\")"
      ],
      "metadata": {
        "id": "l7lX3I_rnuPV",
        "outputId": "0a57e589-7822-4f1a-8cd6-e401ddd46dd1",
        "colab": {
          "base_uri": "https://localhost:8080/"
        }
      },
      "execution_count": null,
      "outputs": [
        {
          "output_type": "execute_result",
          "data": {
            "text/plain": [
              "True"
            ]
          },
          "metadata": {},
          "execution_count": 54
        }
      ]
    },
    {
      "cell_type": "markdown",
      "source": [
        "## Операции с числами"
      ],
      "metadata": {
        "id": "obVRAgneDzKm"
      }
    },
    {
      "cell_type": "code",
      "source": [
        "# сложение\n",
        "45 + 56"
      ],
      "metadata": {
        "id": "gG7ItUvgD1ZJ",
        "colab": {
          "base_uri": "https://localhost:8080/"
        },
        "outputId": "f344f059-ce7a-4441-9e3c-0bc123db51ae"
      },
      "execution_count": null,
      "outputs": [
        {
          "output_type": "execute_result",
          "data": {
            "text/plain": [
              "101"
            ]
          },
          "metadata": {},
          "execution_count": 55
        }
      ]
    },
    {
      "cell_type": "code",
      "source": [
        "a = 56\n",
        "b = 39\n",
        "a + b"
      ],
      "metadata": {
        "colab": {
          "base_uri": "https://localhost:8080/"
        },
        "id": "kFqB6nv-pNOz",
        "outputId": "4995d466-b00c-471a-d100-dd50552daee7"
      },
      "execution_count": null,
      "outputs": [
        {
          "output_type": "execute_result",
          "data": {
            "text/plain": [
              "95"
            ]
          },
          "metadata": {},
          "execution_count": 56
        }
      ]
    },
    {
      "cell_type": "code",
      "source": [
        "# вычитание\n",
        "100 - 38"
      ],
      "metadata": {
        "colab": {
          "base_uri": "https://localhost:8080/"
        },
        "id": "GSW_YhN5SP8-",
        "outputId": "33b1cc1c-d2f1-449e-baa7-eabffd140283"
      },
      "execution_count": null,
      "outputs": [
        {
          "output_type": "execute_result",
          "data": {
            "text/plain": [
              "62"
            ]
          },
          "metadata": {},
          "execution_count": 57
        }
      ]
    },
    {
      "cell_type": "code",
      "source": [
        "# умножение\n",
        "7 * 4"
      ],
      "metadata": {
        "colab": {
          "base_uri": "https://localhost:8080/"
        },
        "id": "SmDbIgxkSR3-",
        "outputId": "0c7ef2a8-dab2-4ddf-8dca-47aca1a2fa11"
      },
      "execution_count": null,
      "outputs": [
        {
          "output_type": "execute_result",
          "data": {
            "text/plain": [
              "28"
            ]
          },
          "metadata": {},
          "execution_count": 58
        }
      ]
    },
    {
      "cell_type": "code",
      "source": [
        "# деление\n",
        "45 / 9"
      ],
      "metadata": {
        "colab": {
          "base_uri": "https://localhost:8080/"
        },
        "id": "PQDh7K00STo1",
        "outputId": "95d25e32-ef5c-4c79-affd-212a63708e4b"
      },
      "execution_count": null,
      "outputs": [
        {
          "output_type": "execute_result",
          "data": {
            "text/plain": [
              "5.0"
            ]
          },
          "metadata": {},
          "execution_count": 59
        }
      ]
    },
    {
      "cell_type": "code",
      "source": [
        "# целочисленное деление //\n",
        "# целочисленное деление возвращает целую часть от деления\n",
        "\n",
        "5 // 2"
      ],
      "metadata": {
        "colab": {
          "base_uri": "https://localhost:8080/"
        },
        "id": "pOHSr4p0SVSd",
        "outputId": "0cdd6a50-0b98-4c2b-fa22-0b9d6b50ef71"
      },
      "execution_count": null,
      "outputs": [
        {
          "output_type": "execute_result",
          "data": {
            "text/plain": [
              "2"
            ]
          },
          "metadata": {},
          "execution_count": 60
        }
      ]
    },
    {
      "cell_type": "code",
      "source": [
        "# деление по модулю %\n",
        "# деление по модулю возвращает остаток от деления\n",
        "5 % 2"
      ],
      "metadata": {
        "colab": {
          "base_uri": "https://localhost:8080/"
        },
        "id": "w5Kha_dNSZM0",
        "outputId": "4424fbb2-5325-40d4-cc8a-18937a75b66e"
      },
      "execution_count": null,
      "outputs": [
        {
          "output_type": "execute_result",
          "data": {
            "text/plain": [
              "1"
            ]
          },
          "metadata": {},
          "execution_count": 61
        }
      ]
    },
    {
      "cell_type": "code",
      "source": [
        "10 // 3 "
      ],
      "metadata": {
        "colab": {
          "base_uri": "https://localhost:8080/"
        },
        "id": "ONeD0g1FG0Od",
        "outputId": "c5448768-25a7-42c6-dfb5-6b2ad6a48c15"
      },
      "execution_count": null,
      "outputs": [
        {
          "output_type": "execute_result",
          "data": {
            "text/plain": [
              "3"
            ]
          },
          "metadata": {},
          "execution_count": 63
        }
      ]
    },
    {
      "cell_type": "code",
      "source": [
        "10 % 3 "
      ],
      "metadata": {
        "colab": {
          "base_uri": "https://localhost:8080/"
        },
        "id": "TmzOUF5oHBOt",
        "outputId": "60c37fa8-bf67-4c89-ccae-2995dc96e8ba"
      },
      "execution_count": null,
      "outputs": [
        {
          "output_type": "execute_result",
          "data": {
            "text/plain": [
              "1"
            ]
          },
          "metadata": {},
          "execution_count": 64
        }
      ]
    },
    {
      "cell_type": "code",
      "source": [
        "3 *3 + 1"
      ],
      "metadata": {
        "colab": {
          "base_uri": "https://localhost:8080/"
        },
        "id": "cTUpzZyoHDMk",
        "outputId": "ae10e8ef-27a1-4d71-f183-a609ec8157ff"
      },
      "execution_count": null,
      "outputs": [
        {
          "output_type": "execute_result",
          "data": {
            "text/plain": [
              "10"
            ]
          },
          "metadata": {},
          "execution_count": 65
        }
      ]
    },
    {
      "cell_type": "code",
      "source": [
        "14 // 3"
      ],
      "metadata": {
        "colab": {
          "base_uri": "https://localhost:8080/"
        },
        "id": "X3FAbnD7HFk3",
        "outputId": "b964e908-cc4b-4d78-f0c4-ca7f02d94255"
      },
      "execution_count": null,
      "outputs": [
        {
          "output_type": "execute_result",
          "data": {
            "text/plain": [
              "4"
            ]
          },
          "metadata": {},
          "execution_count": 69
        }
      ]
    },
    {
      "cell_type": "code",
      "source": [
        "14 % 3"
      ],
      "metadata": {
        "colab": {
          "base_uri": "https://localhost:8080/"
        },
        "id": "3YzynxKMHLKW",
        "outputId": "52eca31a-69ba-43c2-e66c-99bd5f885fc4"
      },
      "execution_count": null,
      "outputs": [
        {
          "output_type": "execute_result",
          "data": {
            "text/plain": [
              "2"
            ]
          },
          "metadata": {},
          "execution_count": 68
        }
      ]
    },
    {
      "cell_type": "code",
      "source": [
        "3 * 4 + 2"
      ],
      "metadata": {
        "colab": {
          "base_uri": "https://localhost:8080/"
        },
        "id": "fjpYs1ywHHmI",
        "outputId": "56101cfc-e33f-47d1-f12a-5239e62ee7f3"
      },
      "execution_count": null,
      "outputs": [
        {
          "output_type": "execute_result",
          "data": {
            "text/plain": [
              "14"
            ]
          },
          "metadata": {},
          "execution_count": 67
        }
      ]
    },
    {
      "cell_type": "markdown",
      "source": [
        "***Логические выражения***\n",
        "\n",
        "<b>Равно:</b> $a == b$\n",
        "\n",
        "<b>Не равно:</b> $a != b$\n",
        "\n",
        "<b>Меньше:</b> $a < b$\n",
        "\n",
        "<b>Меньше или равно:</b> $a <= b$\n",
        "\n",
        "<b>Больше:</b> $a > b$\n",
        "\n",
        "<b>Больше или равно:</b> $a >= b$\n",
        "\n",
        "**Не путайте = и ==**"
      ],
      "metadata": {
        "id": "jbQBtwGTouw_"
      }
    },
    {
      "cell_type": "code",
      "source": [
        "4 == 5"
      ],
      "metadata": {
        "id": "rVkntKAtSrzL",
        "colab": {
          "base_uri": "https://localhost:8080/"
        },
        "outputId": "71125765-0017-4f26-845a-43a0d7ffde50"
      },
      "execution_count": null,
      "outputs": [
        {
          "output_type": "execute_result",
          "data": {
            "text/plain": [
              "False"
            ]
          },
          "metadata": {},
          "execution_count": 70
        }
      ]
    },
    {
      "cell_type": "code",
      "source": [
        "'привет' == 'привет'"
      ],
      "metadata": {
        "colab": {
          "base_uri": "https://localhost:8080/"
        },
        "id": "wve6xAd2o3M0",
        "outputId": "a2591066-4364-48a8-c168-4942e9f4c86b"
      },
      "execution_count": null,
      "outputs": [
        {
          "output_type": "execute_result",
          "data": {
            "text/plain": [
              "True"
            ]
          },
          "metadata": {},
          "execution_count": 71
        }
      ]
    },
    {
      "cell_type": "code",
      "source": [
        "0.1 == 0.1"
      ],
      "metadata": {
        "colab": {
          "base_uri": "https://localhost:8080/"
        },
        "id": "Sz-w7hF-pMwv",
        "outputId": "81e02189-e356-41b0-8879-7361efd143f3"
      },
      "execution_count": null,
      "outputs": [
        {
          "output_type": "execute_result",
          "data": {
            "text/plain": [
              "True"
            ]
          },
          "metadata": {},
          "execution_count": 72
        }
      ]
    },
    {
      "cell_type": "code",
      "source": [
        "True == 1"
      ],
      "metadata": {
        "id": "tJBPAr5kpbe7",
        "outputId": "f30d60b4-b8c5-47ba-c14d-beec85db6c74",
        "colab": {
          "base_uri": "https://localhost:8080/"
        }
      },
      "execution_count": null,
      "outputs": [
        {
          "output_type": "execute_result",
          "data": {
            "text/plain": [
              "True"
            ]
          },
          "metadata": {},
          "execution_count": 73
        }
      ]
    },
    {
      "cell_type": "code",
      "source": [
        "False == 1"
      ],
      "metadata": {
        "id": "lbySzh_spepA",
        "outputId": "0d5b5ea5-12c2-4abb-f152-27f0be2f1b05",
        "colab": {
          "base_uri": "https://localhost:8080/"
        }
      },
      "execution_count": null,
      "outputs": [
        {
          "output_type": "execute_result",
          "data": {
            "text/plain": [
              "False"
            ]
          },
          "metadata": {},
          "execution_count": 74
        }
      ]
    },
    {
      "cell_type": "code",
      "source": [
        "4 != 5"
      ],
      "metadata": {
        "colab": {
          "base_uri": "https://localhost:8080/"
        },
        "id": "59TZuUkloxgf",
        "outputId": "40f7ed22-18b4-49b2-e5e6-843b609a19f3"
      },
      "execution_count": null,
      "outputs": [
        {
          "output_type": "execute_result",
          "data": {
            "text/plain": [
              "True"
            ]
          },
          "metadata": {},
          "execution_count": 75
        }
      ]
    },
    {
      "cell_type": "code",
      "source": [
        "'Привет' != 'привет'"
      ],
      "metadata": {
        "colab": {
          "base_uri": "https://localhost:8080/"
        },
        "id": "OE1LQwjMo7Eu",
        "outputId": "ac6cf31c-2af6-4f0b-9a5f-ef4775c49e36"
      },
      "execution_count": null,
      "outputs": [
        {
          "output_type": "execute_result",
          "data": {
            "text/plain": [
              "True"
            ]
          },
          "metadata": {},
          "execution_count": 76
        }
      ]
    },
    {
      "cell_type": "code",
      "source": [
        "459 < 283"
      ],
      "metadata": {
        "colab": {
          "base_uri": "https://localhost:8080/"
        },
        "id": "2ABgCPL0ozV8",
        "outputId": "f47d9d5d-37ae-42d3-b0b1-9fe5bbcfbe69"
      },
      "execution_count": null,
      "outputs": [
        {
          "output_type": "execute_result",
          "data": {
            "text/plain": [
              "False"
            ]
          },
          "metadata": {},
          "execution_count": 77
        }
      ]
    },
    {
      "cell_type": "code",
      "source": [
        "'привет' > 'пока11111111111111111'"
      ],
      "metadata": {
        "colab": {
          "base_uri": "https://localhost:8080/"
        },
        "id": "ZZNpp8Q4o15d",
        "outputId": "f3583f03-d74b-4c26-ba0f-800f2e8f482e"
      },
      "execution_count": null,
      "outputs": [
        {
          "output_type": "execute_result",
          "data": {
            "text/plain": [
              "True"
            ]
          },
          "metadata": {},
          "execution_count": 81
        }
      ]
    },
    {
      "cell_type": "code",
      "source": [
        "0.145 < 0.146"
      ],
      "metadata": {
        "colab": {
          "base_uri": "https://localhost:8080/"
        },
        "id": "v534urSapWBL",
        "outputId": "75544ee2-3bbb-469a-c854-e587a56b0cd2"
      },
      "execution_count": null,
      "outputs": [
        {
          "output_type": "execute_result",
          "data": {
            "text/plain": [
              "True"
            ]
          },
          "metadata": {},
          "execution_count": 82
        }
      ]
    },
    {
      "cell_type": "code",
      "source": [
        "48 >= 48"
      ],
      "metadata": {
        "colab": {
          "base_uri": "https://localhost:8080/"
        },
        "id": "eJByRm9mpBlY",
        "outputId": "99a5a053-a7b0-4c5d-ab51-9b5d18aca7b2"
      },
      "execution_count": null,
      "outputs": [
        {
          "output_type": "execute_result",
          "data": {
            "text/plain": [
              "True"
            ]
          },
          "metadata": {},
          "execution_count": 83
        }
      ]
    },
    {
      "cell_type": "code",
      "source": [
        "'привет' >= 'привет'"
      ],
      "metadata": {
        "colab": {
          "base_uri": "https://localhost:8080/"
        },
        "id": "HyDwKAQ3pHsA",
        "outputId": "f3983c79-1236-46ee-f27e-37ab6c6da28c"
      },
      "execution_count": null,
      "outputs": [
        {
          "output_type": "execute_result",
          "data": {
            "text/plain": [
              "True"
            ]
          },
          "metadata": {},
          "execution_count": 84
        }
      ]
    },
    {
      "cell_type": "markdown",
      "source": [
        "## Задачи"
      ],
      "metadata": {
        "id": "A9M22I9e-UYv"
      }
    },
    {
      "cell_type": "markdown",
      "source": [
        "Напишите программу, которая считывает целое число, после чего на экран выводится следующее и предыдущее целое число с пояснительным текстом."
      ],
      "metadata": {
        "id": "VnLxY6mnSJUR"
      }
    },
    {
      "cell_type": "code",
      "source": [
        "a = int(input(\"Ввелите целое число: \"))\n",
        "b = a - 1\n",
        "c = a + 1\n",
        "print(f\"Предыдущее число - {b}, следующее число - {c}\")"
      ],
      "metadata": {
        "id": "fXlOk2PPSKXn",
        "colab": {
          "base_uri": "https://localhost:8080/"
        },
        "outputId": "b22d8634-38f9-4f56-9f5f-8be2827bc6f3"
      },
      "execution_count": 6,
      "outputs": [
        {
          "output_type": "stream",
          "name": "stdout",
          "text": [
            "Ввелите целое число: 65765\n",
            "Предыдущее число - 65764, следующее число - 65766\n"
          ]
        }
      ]
    },
    {
      "cell_type": "markdown",
      "source": [
        "Напишите программу, в которой рассчитывается сумма и произведение цифр положительного трёхзначного числа."
      ],
      "metadata": {
        "id": "vFQQlVoZR5iy"
      }
    },
    {
      "cell_type": "code",
      "source": [
        "#variant 1\n",
        "number = int((input(\"Введите целое положительное трехзначное число: \"))\n",
        "a = number // 100\n",
        "b = (number % 100) // 10\n",
        "c = number % 10\n",
        "\n",
        "sum = a + b + c\n",
        "mult = a * b * c\n",
        "\n",
        "print (f\"Сумма цифр - {sum}, произведение цифр - {mult}.\")"
      ],
      "metadata": {
        "id": "CcMV8NS5R4dt",
        "colab": {
          "base_uri": "https://localhost:8080/"
        },
        "outputId": "327d3598-b790-40e0-e848-15b90571adb1"
      },
      "execution_count": 16,
      "outputs": [
        {
          "output_type": "stream",
          "name": "stdout",
          "text": [
            "Введите целое положительное трехзначное число: 369\n",
            "Сумма цифр - 18, произведение цифр - 162.\n"
          ]
        }
      ]
    },
    {
      "cell_type": "code",
      "source": [
        "#variant 2\n",
        "number = input(\"Введите целое положительное трехзначное число: \")\n",
        "a = int(number[0])\n",
        "b = int(number[1])\n",
        "c = int(number[2])\n",
        "\n",
        "sum = a + b + c\n",
        "mult = a * b * c\n",
        "\n",
        "print (f\"Сумма цифр - {sum}, произведение цифр - {mult}.\")"
      ],
      "metadata": {
        "colab": {
          "base_uri": "https://localhost:8080/"
        },
        "id": "ZVhCEwoasWXV",
        "outputId": "73e0b0a4-8ea2-477a-df2c-3ca0fff4a048"
      },
      "execution_count": 20,
      "outputs": [
        {
          "output_type": "stream",
          "name": "stdout",
          "text": [
            "Введите целое положительное трехзначное число: 369\n",
            "Сумма цифр - 18, произведение цифр - 162.\n"
          ]
        }
      ]
    }
  ]
}