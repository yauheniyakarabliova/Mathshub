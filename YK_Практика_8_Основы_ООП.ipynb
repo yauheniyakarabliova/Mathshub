{
  "nbformat": 4,
  "nbformat_minor": 0,
  "metadata": {
    "colab": {
      "provenance": [],
      "include_colab_link": true
    },
    "kernelspec": {
      "name": "python3",
      "display_name": "Python 3"
    },
    "language_info": {
      "name": "python"
    }
  },
  "cells": [
    {
      "cell_type": "markdown",
      "metadata": {
        "id": "view-in-github",
        "colab_type": "text"
      },
      "source": [
        "<a href=\"https://colab.research.google.com/github/yauheniyakarabliova/Mathshub/blob/main/YK_%D0%9F%D1%80%D0%B0%D0%BA%D1%82%D0%B8%D0%BA%D0%B0_8_%D0%9E%D1%81%D0%BD%D0%BE%D0%B2%D1%8B_%D0%9E%D0%9E%D0%9F.ipynb\" target=\"_parent\"><img src=\"https://colab.research.google.com/assets/colab-badge.svg\" alt=\"Open In Colab\"/></a>"
      ]
    },
    {
      "cell_type": "markdown",
      "source": [
        "# Основы ООП"
      ],
      "metadata": {
        "id": "u0znwErURock"
      }
    },
    {
      "cell_type": "code",
      "execution_count": null,
      "metadata": {
        "id": "mQJCB4U4RiQK"
      },
      "outputs": [],
      "source": [
        "#создание класса\n",
        "class Animal:\n",
        "  pass"
      ]
    },
    {
      "cell_type": "code",
      "source": [
        "#создание объекта\n",
        "animal_object = Animal()\n",
        "#animal_object.method()\n",
        "#animal_object.property\n",
        "\n",
        "a = [1,2,3] #объект класса list\n",
        "\n",
        "a.append(5)\n",
        "a"
      ],
      "metadata": {
        "id": "kIodlqaiR3xi",
        "colab": {
          "base_uri": "https://localhost:8080/"
        },
        "outputId": "03e1c317-a227-406d-f9c3-f16a958003d2"
      },
      "execution_count": null,
      "outputs": [
        {
          "output_type": "execute_result",
          "data": {
            "text/plain": [
              "[1, 2, 3, 5]"
            ]
          },
          "metadata": {},
          "execution_count": 30
        }
      ]
    },
    {
      "cell_type": "code",
      "source": [
        "#конструктор и деструктор\n",
        "class Employee: \n",
        "  \n",
        "    def __new__(Employee): #конструктор класса\n",
        "      pass\n",
        "  \n",
        "    def __init__(self): #инициализатор класса\n",
        "        print('Employee created.') \n",
        "  \n",
        "    def __del__(self): #дестркутор класса\n",
        "        print('Destructor called, Employee deleted.') \n",
        "\n",
        "  \n",
        "obj = Employee()\n",
        "del obj "
      ],
      "metadata": {
        "id": "VqwwgUZSTWCJ"
      },
      "execution_count": null,
      "outputs": []
    },
    {
      "cell_type": "code",
      "source": [
        "class Student:\n",
        "\n",
        "    def __init__(self, name, grade):\n",
        "        self.name = name\n",
        "        self.grade = grade\n",
        "\n",
        "    def __str__(self): #встроенные атрибуты(свойства, методы), иначе еще называют dunder method (double under methods)\n",
        "        return '{' + self.name + ': ' + str(self.grade) + '}'\n",
        "\n",
        "    def learn(self): #пользовательские атрибуты\n",
        "        print('Меня зовут %s. Моя оценка за программирование %d.' % (self.name, self.grade))\n",
        "\n",
        "\n",
        "students = [Student('Петр', 9), Student('Олег', 10)]\n",
        "\n",
        "for student in students:\n",
        "    print()\n",
        "    print('student.name = ' + student.name)\n",
        "    print('student.grade = ' + str(student.grade))\n",
        "    print('student = ' + str(student))\n",
        "    student.learn()\n"
      ],
      "metadata": {
        "colab": {
          "base_uri": "https://localhost:8080/"
        },
        "id": "TTuef-q4TwuQ",
        "outputId": "796f8304-9878-4988-917b-7ba451be5f94"
      },
      "execution_count": null,
      "outputs": [
        {
          "output_type": "stream",
          "name": "stdout",
          "text": [
            "\n",
            "student.name = Петр\n",
            "student.grade = 9\n",
            "student = {Петр: 9}\n",
            "Меня зову Петр. Моя оценка за программирование 9.\n",
            "\n",
            "student.name = Олег\n",
            "student.grade = 10\n",
            "student = {Олег: 10}\n",
            "Меня зову Олег. Моя оценка за программирование 10.\n"
          ]
        }
      ]
    },
    {
      "cell_type": "code",
      "source": [
        "class Person:\n",
        "\n",
        "    # переменная класса (статическая)\n",
        "    status = 'менеджер'\n",
        "\n",
        "    def __init__(self, name):\n",
        "        # переменная экземпляра класса, которая будет уникальна для каждого экземпляра класса (динамическая)\n",
        "        self.name = name\n",
        "\n",
        "\n",
        "a = Person('Иван')\n",
        "b = Person('Марк')\n",
        "\n",
        "print('')\n",
        "print(a.name + ' : ' + a.status)\n",
        "print(b.name + ' : ' + b.status)\n",
        "\n",
        "Person.status = 'аналитик'\n",
        "\n",
        "print('')\n",
        "print(a.name + ' : ' + a.status)\n",
        "print(b.name + ' : ' + b.status)\n",
        "\n",
        "Person.status = 'менеджер'\n",
        "\n",
        "print('')\n",
        "print(a.name + ' : ' + a.status)\n",
        "print(b.name + ' : ' + b.status)\n"
      ],
      "metadata": {
        "colab": {
          "base_uri": "https://localhost:8080/"
        },
        "id": "rJo3-6aPT5-8",
        "outputId": "38d57107-db7b-4156-8e45-78611701def1"
      },
      "execution_count": null,
      "outputs": [
        {
          "output_type": "stream",
          "name": "stdout",
          "text": [
            "\n",
            "Иван : менеджер\n",
            "Марк : менеджер\n",
            "\n",
            "Иван : аналитик\n",
            "Марк : аналитик\n",
            "\n",
            "Иван : менеджер\n",
            "Марк : менеджер\n"
          ]
        }
      ]
    },
    {
      "cell_type": "code",
      "source": [
        "class Env:\n",
        "    os = 'Windows'\n",
        "\n",
        "    @classmethod #методы класса\n",
        "    def print_os(self):\n",
        "        print(self.os)\n",
        "        \n",
        "    @staticmethod #статические методы\n",
        "    def print_user():\n",
        "        print('guest')\n",
        "\n",
        "    def all_info(self): #обычные методы (методы объекта)\n",
        "      print('user')\n",
        "\n",
        "Env.print_os()\n",
        "Env.print_user()\n",
        "#Env.all_info()\n",
        "\n",
        "obj = Env()\n",
        "obj.all_info()"
      ],
      "metadata": {
        "colab": {
          "base_uri": "https://localhost:8080/"
        },
        "id": "jIaTpUvuUXqp",
        "outputId": "46d54bce-ff87-449f-86af-75a2f1ddb941"
      },
      "execution_count": null,
      "outputs": [
        {
          "output_type": "stream",
          "name": "stdout",
          "text": [
            "Windows\n",
            "guest\n",
            "user\n"
          ]
        }
      ]
    },
    {
      "cell_type": "code",
      "source": [
        "#инкапсуляция\n",
        "class Person:\n",
        "\n",
        "    def __init__(self, name):\n",
        "        self.name = name\n",
        "\n",
        "    def __str__(self):\n",
        "        return 'Меня зовут ' + self.name\n",
        "\n",
        "\n",
        "person = Person('Николай')\n",
        "print(person.name)\n",
        "\n",
        "person.name = 'Петр' \n",
        "print(person.name)\n"
      ],
      "metadata": {
        "colab": {
          "base_uri": "https://localhost:8080/"
        },
        "id": "xLd-aZl1UYZA",
        "outputId": "0e19d51a-59bc-4175-d8cc-158415fe4cf0"
      },
      "execution_count": null,
      "outputs": [
        {
          "output_type": "stream",
          "name": "stdout",
          "text": [
            "Николай\n",
            "Петр\n"
          ]
        }
      ]
    },
    {
      "cell_type": "code",
      "source": [
        "class Identity:\n",
        "\n",
        "    def __init__(self, name):\n",
        "        self._name = name\n",
        "\n",
        "    def __str__(self):\n",
        "        return 'Меня зовут ' + self.name\n",
        "\n",
        "\n",
        "person = Identity('Николай')\n",
        "print(person._name)\n",
        "\n",
        "person._name = 'Петр' \n",
        "print(person)\n"
      ],
      "metadata": {
        "colab": {
          "base_uri": "https://localhost:8080/",
          "height": 358
        },
        "id": "9YalXLf_UbQ_",
        "outputId": "5ec7bb4b-ba06-4ea3-fa5c-dbb91834cbc7"
      },
      "execution_count": null,
      "outputs": [
        {
          "output_type": "stream",
          "name": "stdout",
          "text": [
            "Николай\n"
          ]
        },
        {
          "output_type": "error",
          "ename": "AttributeError",
          "evalue": "ignored",
          "traceback": [
            "\u001b[0;31m---------------------------------------------------------------------------\u001b[0m",
            "\u001b[0;31mAttributeError\u001b[0m                            Traceback (most recent call last)",
            "\u001b[0;32m<ipython-input-47-0d427a80f2f6>\u001b[0m in \u001b[0;36m<module>\u001b[0;34m\u001b[0m\n\u001b[1;32m     12\u001b[0m \u001b[0;34m\u001b[0m\u001b[0m\n\u001b[1;32m     13\u001b[0m \u001b[0mperson\u001b[0m\u001b[0;34m.\u001b[0m\u001b[0m_name\u001b[0m \u001b[0;34m=\u001b[0m \u001b[0;34m'Петр'\u001b[0m\u001b[0;34m\u001b[0m\u001b[0;34m\u001b[0m\u001b[0m\n\u001b[0;32m---> 14\u001b[0;31m \u001b[0mprint\u001b[0m\u001b[0;34m(\u001b[0m\u001b[0mperson\u001b[0m\u001b[0;34m)\u001b[0m\u001b[0;34m\u001b[0m\u001b[0;34m\u001b[0m\u001b[0m\n\u001b[0m",
            "\u001b[0;32m<ipython-input-47-0d427a80f2f6>\u001b[0m in \u001b[0;36m__str__\u001b[0;34m(self)\u001b[0m\n\u001b[1;32m      5\u001b[0m \u001b[0;34m\u001b[0m\u001b[0m\n\u001b[1;32m      6\u001b[0m     \u001b[0;32mdef\u001b[0m \u001b[0m__str__\u001b[0m\u001b[0;34m(\u001b[0m\u001b[0mself\u001b[0m\u001b[0;34m)\u001b[0m\u001b[0;34m:\u001b[0m\u001b[0;34m\u001b[0m\u001b[0;34m\u001b[0m\u001b[0m\n\u001b[0;32m----> 7\u001b[0;31m         \u001b[0;32mreturn\u001b[0m \u001b[0;34m'Меня зовут '\u001b[0m \u001b[0;34m+\u001b[0m \u001b[0mself\u001b[0m\u001b[0;34m.\u001b[0m\u001b[0mname\u001b[0m\u001b[0;34m\u001b[0m\u001b[0;34m\u001b[0m\u001b[0m\n\u001b[0m\u001b[1;32m      8\u001b[0m \u001b[0;34m\u001b[0m\u001b[0m\n\u001b[1;32m      9\u001b[0m \u001b[0;34m\u001b[0m\u001b[0m\n",
            "\u001b[0;31mAttributeError\u001b[0m: 'Identity' object has no attribute 'name'"
          ]
        }
      ]
    },
    {
      "cell_type": "code",
      "source": [
        "#перегрузка встроенных методов\n",
        "class Number:\n",
        "\n",
        "    def __init__(self, value):\n",
        "        self.__value = value\n",
        "\n",
        "    def __del__(self):\n",
        "        pass\n",
        "\n",
        "    def __str__(self):\n",
        "        return str(self.__value)\n",
        "\n",
        "    def __int__(self):\n",
        "        return self.__value\n",
        "\n",
        "    def __eq__(self, other):\n",
        "        return self.__value == other.__value\n",
        "\n",
        "    def __ne__(self, other):\n",
        "        return self.__value != other.__value\n",
        "\n",
        "    def __lt__(self, other):\n",
        "        return self.__value < other.__value\n",
        "\n",
        "    def __gt__(self, other):\n",
        "        return self.__value > other.__value\n",
        "\n",
        "    def __add__(self, other):\n",
        "        return Number(self.__value + other.__value)\n",
        "\n",
        "    def __mul__(self, other):\n",
        "        return Number(self.__value * other.__value)\n",
        "\n",
        "    def __neg__(self):\n",
        "        return Number(-self.__value)\n",
        "\n",
        "\n",
        "a = Number(10)\n",
        "b = Number(20)\n",
        "c = Number(5)\n",
        "\n",
        "# перегруженные операторы\n",
        "x = -a + b * c\n",
        "print(x)\n",
        "\n",
        "print(a < b)\n",
        "print(b > c)\n",
        "\n",
        "# неподдерживаемые операторы\n",
        "print(a <= b)\n",
        "print(b >= c)\n",
        "print(a // c)\n"
      ],
      "metadata": {
        "colab": {
          "base_uri": "https://localhost:8080/",
          "height": 302
        },
        "id": "li61_v8sUgaA",
        "outputId": "b9d83cb8-adaf-469f-c269-b25fc91bf220"
      },
      "execution_count": null,
      "outputs": [
        {
          "output_type": "stream",
          "name": "stdout",
          "text": [
            "90\n",
            "True\n",
            "True\n"
          ]
        },
        {
          "output_type": "error",
          "ename": "TypeError",
          "evalue": "ignored",
          "traceback": [
            "\u001b[0;31m---------------------------------------------------------------------------\u001b[0m",
            "\u001b[0;31mTypeError\u001b[0m                                 Traceback (most recent call last)",
            "\u001b[0;32m<ipython-input-40-25608c61bbf5>\u001b[0m in \u001b[0;36m<module>\u001b[0;34m\u001b[0m\n\u001b[1;32m     48\u001b[0m \u001b[0;34m\u001b[0m\u001b[0m\n\u001b[1;32m     49\u001b[0m \u001b[0;31m# неподдерживаемые операторы\u001b[0m\u001b[0;34m\u001b[0m\u001b[0;34m\u001b[0m\u001b[0;34m\u001b[0m\u001b[0m\n\u001b[0;32m---> 50\u001b[0;31m \u001b[0mprint\u001b[0m\u001b[0;34m(\u001b[0m\u001b[0ma\u001b[0m \u001b[0;34m<=\u001b[0m \u001b[0mb\u001b[0m\u001b[0;34m)\u001b[0m\u001b[0;34m\u001b[0m\u001b[0;34m\u001b[0m\u001b[0m\n\u001b[0m\u001b[1;32m     51\u001b[0m \u001b[0mprint\u001b[0m\u001b[0;34m(\u001b[0m\u001b[0mb\u001b[0m \u001b[0;34m>=\u001b[0m \u001b[0mc\u001b[0m\u001b[0;34m)\u001b[0m\u001b[0;34m\u001b[0m\u001b[0;34m\u001b[0m\u001b[0m\n\u001b[1;32m     52\u001b[0m \u001b[0mprint\u001b[0m\u001b[0;34m(\u001b[0m\u001b[0ma\u001b[0m \u001b[0;34m//\u001b[0m \u001b[0mc\u001b[0m\u001b[0;34m)\u001b[0m\u001b[0;34m\u001b[0m\u001b[0;34m\u001b[0m\u001b[0m\n",
            "\u001b[0;31mTypeError\u001b[0m: '<=' not supported between instances of 'Number' and 'Number'"
          ]
        }
      ]
    },
    {
      "cell_type": "code",
      "source": [
        "#наследование и полиморфизм\n",
        "class Creature:\n",
        "    def say(self):\n",
        "        pass\n",
        "\n",
        "\n",
        "class Dog(Creature):\n",
        "    def say(self):\n",
        "        print('Woof!')\n",
        "\n",
        "\n",
        "class Cat(Creature):\n",
        "    def say(self):\n",
        "        print(\"Meow!\")\n",
        "\n",
        "\n",
        "class Lion(Creature):\n",
        "    def say(self):\n",
        "        print(\"Roar!\")\n",
        "        \n",
        "\n",
        "animals = [Creature(), Dog(), Cat(), Lion()]\n",
        "\n",
        "for animal in animals:\n",
        "    print(type(animal))\n",
        "    animal.say()\n",
        "\n"
      ],
      "metadata": {
        "colab": {
          "base_uri": "https://localhost:8080/"
        },
        "id": "3HZYFGB9Umno",
        "outputId": "a6be35ca-d274-4a42-de40-ba309e016f15"
      },
      "execution_count": null,
      "outputs": [
        {
          "output_type": "stream",
          "name": "stdout",
          "text": [
            "<class '__main__.Creature'>\n",
            "<class '__main__.Dog'>\n",
            "Woof!\n",
            "<class '__main__.Cat'>\n",
            "Meow!\n",
            "<class '__main__.Lion'>\n",
            "Roar!\n"
          ]
        }
      ]
    },
    {
      "cell_type": "code",
      "source": [
        "x = 10\n",
        "print('')\n",
        "print(isinstance(x, int))\n",
        "print(isinstance(x, float))\n",
        "print(isinstance(x, str))\n",
        "\n",
        "y = 3.14\n",
        "print('')\n",
        "print(isinstance(y, int))\n",
        "print(isinstance(y, float))\n",
        "print(isinstance(y, str))\n",
        "\n",
        "\n",
        "z = 'Hello world'\n",
        "print('')\n",
        "print(isinstance(z, int))\n",
        "print(isinstance(z, float))\n",
        "print(isinstance(z, str))\n"
      ],
      "metadata": {
        "colab": {
          "base_uri": "https://localhost:8080/"
        },
        "id": "6yKbZvHxUooy",
        "outputId": "83832944-8d5e-4191-eacf-2631300e0d15"
      },
      "execution_count": null,
      "outputs": [
        {
          "output_type": "stream",
          "name": "stdout",
          "text": [
            "\n",
            "True\n",
            "False\n",
            "False\n",
            "\n",
            "False\n",
            "True\n",
            "False\n",
            "\n",
            "False\n",
            "False\n",
            "True\n"
          ]
        }
      ]
    },
    {
      "cell_type": "markdown",
      "source": [],
      "metadata": {
        "id": "E8tnxzefdndo"
      }
    },
    {
      "cell_type": "code",
      "source": [
        "import string\n",
        "\n",
        "# Алфавит\n",
        "class Alphabet:\n",
        "\n",
        "    def __init__(self, language, letters_str):\n",
        "        self.lang = language\n",
        "        self.letters = list(letters_str)\n",
        "\n",
        "    # Печатаем все буквы алфавита\n",
        "    def print(self):\n",
        "        print(self.letters)\n",
        "\n",
        "    # Возвращаем количество букв в алфавите\n",
        "    def letters_num(self):\n",
        "        len(self.letters)\n",
        "\n",
        "\n",
        "# Английский алфавит\n",
        "class EngAlphabet(Alphabet):\n",
        "\n",
        "    __letters_num = 26\n",
        "\n",
        "    def __init__(self):\n",
        "        super().__init__('En', string.ascii_uppercase)\n",
        "\n",
        "    # Проверяем, относится ли буква к английскому алфавиту\n",
        "    def is_en_letter(self, letter):\n",
        "        if letter.upper() in self.letters:\n",
        "            return True\n",
        "        return False\n",
        "\n",
        "    # Возвращаем количество букв в алфавите\n",
        "    def letters_num(self):\n",
        "        return EngAlphabet.__letters_num\n",
        "\n",
        "    # Печатаем пример текста на английском языке\n",
        "    @staticmethod\n",
        "    def example():\n",
        "        print(\"English Example:\\nDon't judge a book by it's cover.\")\n",
        "\n",
        "\n",
        "# Тесты\n",
        "if __name__ == '__main__':\n",
        "    eng_alphabet = EngAlphabet()\n",
        "    eng_alphabet.print()\n",
        "    print(eng_alphabet.letters_num())\n",
        "    print(eng_alphabet.is_en_letter('F'))\n",
        "    print(eng_alphabet.is_en_letter('Щ'))\n",
        "    EngAlphabet.example()"
      ],
      "metadata": {
        "colab": {
          "base_uri": "https://localhost:8080/"
        },
        "id": "RFC99QxUdjhl",
        "outputId": "559ef415-273d-4648-c717-62a0be76ff6c"
      },
      "execution_count": null,
      "outputs": [
        {
          "output_type": "stream",
          "name": "stdout",
          "text": [
            "['A', 'B', 'C', 'D', 'E', 'F', 'G', 'H', 'I', 'J', 'K', 'L', 'M', 'N', 'O', 'P', 'Q', 'R', 'S', 'T', 'U', 'V', 'W', 'X', 'Y', 'Z']\n",
            "26\n",
            "True\n",
            "False\n",
            "English Example:\n",
            "Don't judge a book by it's cover.\n"
          ]
        }
      ]
    }
  ]
}